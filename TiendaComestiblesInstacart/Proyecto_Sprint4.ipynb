{
 "cells": [
  {
   "cell_type": "markdown",
   "id": "1c4fb702-df10-4894-a6c5-b11674238e6d",
   "metadata": {},
   "source": [
    "\n",
    "¡Hola, Ariel!\n",
    "\n",
    "Mi nombre es Tonatiuh Cruz. Me complace revisar tu proyecto hoy.\n",
    "\n",
    "Al identificar cualquier error inicialmente, simplemente los destacaré. Te animo a localizar y abordar los problemas de forma independiente como parte de tu preparación para un rol como data-analyst. En un entorno profesional, tu líder de equipo seguiría un enfoque similar. Si encuentras la tarea desafiante, proporcionaré una pista más específica en la próxima iteración.\n",
    "\n",
    "Encontrarás mis comentarios a continuación - **por favor no los muevas, modifiques o elimines**.\n",
    "\n",
    "Puedes encontrar mis comentarios en cajas verdes, amarillas o rojas como esta:\n",
    "\n",
    "<div class=\"alert alert-block alert-success\">\n",
    "<b>Comentario del revisor</b> <a class=\"tocSkip\"></a>\n",
    "\n",
    "Éxito. Todo está hecho correctamente.\n",
    "</div>\n",
    "\n",
    "<div class=\"alert alert-block alert-warning\">\n",
    "<b>Comentario del revisor</b> <a class=\"tocSkip\"></a>\n",
    "\n",
    "Observaciones. Algunas recomendaciones.\n",
    "</div>\n",
    "\n",
    "<div class=\"alert alert-block alert-danger\">\n",
    "<b>Comentario del revisor</b> <a class=\"tocSkip\"></a>\n",
    "\n",
    "Necesita corrección. El bloque requiere algunas correcciones. El trabajo no puede ser aceptado con comentarios en rojo.\n",
    "</div>\n",
    "\n",
    "Puedes responderme utilizando esto:\n",
    "\n",
    "<div class=\"alert alert-block alert-info\">\n",
    "<b>Respuesta del estudiante.</b> <a class=\"tocSkip\"></a>\n",
    "</div>"
   ]
  },
  {
   "cell_type": "markdown",
   "id": "3Xg_RQfnafXz",
   "metadata": {
    "id": "3Xg_RQfnafXz"
   },
   "source": [
    "# ¡Llena ese carrito!"
   ]
  },
  {
   "cell_type": "markdown",
   "id": "mhIvmmkW414q",
   "metadata": {
    "id": "mhIvmmkW414q"
   },
   "source": [
    "# Introducción\n",
    "\n",
    "Instacart es una plataforma de entregas de comestibles donde la clientela puede registrar un pedido y hacer que se lo entreguen, similar a Uber Eats y Door Dash.\n",
    "El conjunto de datos que te hemos proporcionado tiene modificaciones del original. Redujimos el tamaño del conjunto para que tus cálculos se hicieran más rápido e introdujimos valores ausentes y duplicados. Tuvimos cuidado de conservar las distribuciones de los datos originales cuando hicimos los cambios.\n",
    "\n",
    "Debes completar tres pasos. Para cada uno de ellos, escribe una breve introducción que refleje con claridad cómo pretendes resolver cada paso, y escribe párrafos explicatorios que justifiquen tus decisiones al tiempo que avanzas en tu solución.  También escribe una conclusión que resuma tus hallazgos y elecciones.\n"
   ]
  },
  {
   "cell_type": "markdown",
   "id": "3MbyzpOQZ5Or",
   "metadata": {
    "id": "3MbyzpOQZ5Or"
   },
   "source": [
    "## Diccionario de datos\n",
    "\n",
    "Hay cinco tablas en el conjunto de datos, y tendrás que usarlas todas para hacer el preprocesamiento de datos y el análisis exploratorio de datos. A continuación se muestra un diccionario de datos que enumera las columnas de cada tabla y describe los datos que contienen.\n",
    "\n",
    "- `instacart_orders.csv`: cada fila corresponde a un pedido en la aplicación Instacart.\n",
    "    - `'order_id'`: número de ID que identifica de manera única cada pedido.\n",
    "    - `'user_id'`: número de ID que identifica de manera única la cuenta de cada cliente.\n",
    "    - `'order_number'`: el número de veces que este cliente ha hecho un pedido.\n",
    "    - `'order_dow'`: día de la semana en que se hizo el pedido (0 si es domingo).\n",
    "    - `'order_hour_of_day'`: hora del día en que se hizo el pedido.\n",
    "    - `'days_since_prior_order'`: número de días transcurridos desde que este cliente hizo su pedido anterior.\n",
    "- `products.csv`: cada fila corresponde a un producto único que pueden comprar los clientes.\n",
    "    - `'product_id'`: número ID que identifica de manera única cada producto.\n",
    "    - `'product_name'`: nombre del producto.\n",
    "    - `'aisle_id'`: número ID que identifica de manera única cada categoría de pasillo de víveres.\n",
    "    - `'department_id'`: número ID que identifica de manera única cada departamento de víveres.\n",
    "- `order_products.csv`: cada fila corresponde a un artículo pedido en un pedido.\n",
    "    - `'order_id'`: número de ID que identifica de manera única cada pedido.\n",
    "    - `'product_id'`: número ID que identifica de manera única cada producto.\n",
    "    - `'add_to_cart_order'`: el orden secuencial en el que se añadió cada artículo en el carrito.\n",
    "    - `'reordered'`: 0 si el cliente nunca ha pedido este producto antes, 1 si lo ha pedido.\n",
    "- `aisles.csv`\n",
    "    - `'aisle_id'`: número ID que identifica de manera única cada categoría de pasillo de víveres.\n",
    "    - `'aisle'`: nombre del pasillo.\n",
    "- `departments.csv`\n",
    "    - `'department_id'`: número ID que identifica de manera única cada departamento de víveres.\n",
    "    - `'department'`: nombre del departamento."
   ]
  },
  {
   "cell_type": "markdown",
   "id": "4aab69f0-59f0-48d6-b6c7-1f8412260cd9",
   "metadata": {},
   "source": [
    "<div class=\"alert alert-block alert-success\">\n",
    "<b>Comentario del revisor</b> <a class=\"tocSkip\"></a>\n",
    "\n",
    "¡Hola! Excelente trabajo desarrollando la introducción y el diccionario de datos. Esto es crucial para cualquier proyecto, ya que establece una guía clara sobre los pasos a seguir. Tener estos elementos bien definidos desde el principio nos permite trabajar de manera más organizada y eficiente. En un futuro lo podrías complementar con una tabla de contenido.\n",
    "</div>"
   ]
  },
  {
   "cell_type": "markdown",
   "id": "n3Ha_cNSZ8lK",
   "metadata": {
    "id": "n3Ha_cNSZ8lK"
   },
   "source": [
    "# Paso 1. Descripción de los datos\n",
    "\n",
    "Lee los archivos de datos (`/datasets/instacart_orders.csv`, `/datasets/products.csv`, `/datasets/aisles.csv`, `/datasets/departments.csv` y `/datasets/order_products.csv`) con `pd.read_csv()` usando los parámetros adecuados para leer los datos correctamente. Verifica la información para cada DataFrame creado.\n"
   ]
  },
  {
   "cell_type": "markdown",
   "id": "OmlQPLlyaAfR",
   "metadata": {
    "id": "OmlQPLlyaAfR"
   },
   "source": [
    "## Plan de solución\n",
    "\n",
    "Escribe aquí tu plan de solución para el Paso 1. Descripción de los datos."
   ]
  },
  {
   "cell_type": "code",
   "execution_count": 1,
   "id": "fbf1adab",
   "metadata": {
    "id": "fbf1adab"
   },
   "outputs": [],
   "source": [
    "# importar librerías\n",
    "import pandas as pd\n",
    "from matplotlib import pyplot as plt"
   ]
  },
  {
   "cell_type": "code",
   "execution_count": 2,
   "id": "ad36396d",
   "metadata": {
    "id": "ad36396d"
   },
   "outputs": [],
   "source": [
    "# leer conjuntos de datos en los DataFrames\n",
    "instacart_orders_df = pd.read_csv('/datasets/instacart_orders.csv', sep=';')\n",
    "products_df = pd.read_csv('/datasets/products.csv', sep=';')\n",
    "aisles_df = pd.read_csv('/datasets/aisles.csv', sep=';')\n",
    "departments_df = pd.read_csv('/datasets/departments.csv', sep=';')\n",
    "order_products_df = pd.read_csv('/datasets/order_products.csv', sep=';')"
   ]
  },
  {
   "cell_type": "code",
   "execution_count": 3,
   "id": "ad6a1efa",
   "metadata": {
    "id": "ad6a1efa"
   },
   "outputs": [
    {
     "name": "stdout",
     "output_type": "stream",
     "text": [
      "<class 'pandas.core.frame.DataFrame'>\n",
      "RangeIndex: 478967 entries, 0 to 478966\n",
      "Data columns (total 6 columns):\n",
      " #   Column                  Non-Null Count   Dtype  \n",
      "---  ------                  --------------   -----  \n",
      " 0   order_id                478967 non-null  int64  \n",
      " 1   user_id                 478967 non-null  int64  \n",
      " 2   order_number            478967 non-null  int64  \n",
      " 3   order_dow               478967 non-null  int64  \n",
      " 4   order_hour_of_day       478967 non-null  int64  \n",
      " 5   days_since_prior_order  450148 non-null  float64\n",
      "dtypes: float64(1), int64(5)\n",
      "memory usage: 21.9 MB\n",
      "\n"
     ]
    },
    {
     "data": {
      "text/html": [
       "<div>\n",
       "<style scoped>\n",
       "    .dataframe tbody tr th:only-of-type {\n",
       "        vertical-align: middle;\n",
       "    }\n",
       "\n",
       "    .dataframe tbody tr th {\n",
       "        vertical-align: top;\n",
       "    }\n",
       "\n",
       "    .dataframe thead th {\n",
       "        text-align: right;\n",
       "    }\n",
       "</style>\n",
       "<table border=\"1\" class=\"dataframe\">\n",
       "  <thead>\n",
       "    <tr style=\"text-align: right;\">\n",
       "      <th></th>\n",
       "      <th>order_id</th>\n",
       "      <th>user_id</th>\n",
       "      <th>order_number</th>\n",
       "      <th>order_dow</th>\n",
       "      <th>order_hour_of_day</th>\n",
       "      <th>days_since_prior_order</th>\n",
       "    </tr>\n",
       "  </thead>\n",
       "  <tbody>\n",
       "    <tr>\n",
       "      <th>467953</th>\n",
       "      <td>945636</td>\n",
       "      <td>88295</td>\n",
       "      <td>10</td>\n",
       "      <td>2</td>\n",
       "      <td>13</td>\n",
       "      <td>12.0</td>\n",
       "    </tr>\n",
       "    <tr>\n",
       "      <th>165405</th>\n",
       "      <td>3090929</td>\n",
       "      <td>113526</td>\n",
       "      <td>8</td>\n",
       "      <td>5</td>\n",
       "      <td>14</td>\n",
       "      <td>30.0</td>\n",
       "    </tr>\n",
       "    <tr>\n",
       "      <th>400164</th>\n",
       "      <td>2692293</td>\n",
       "      <td>125562</td>\n",
       "      <td>3</td>\n",
       "      <td>4</td>\n",
       "      <td>14</td>\n",
       "      <td>10.0</td>\n",
       "    </tr>\n",
       "    <tr>\n",
       "      <th>438369</th>\n",
       "      <td>1606100</td>\n",
       "      <td>172251</td>\n",
       "      <td>1</td>\n",
       "      <td>0</td>\n",
       "      <td>9</td>\n",
       "      <td>NaN</td>\n",
       "    </tr>\n",
       "    <tr>\n",
       "      <th>396660</th>\n",
       "      <td>2323919</td>\n",
       "      <td>73138</td>\n",
       "      <td>4</td>\n",
       "      <td>4</td>\n",
       "      <td>19</td>\n",
       "      <td>12.0</td>\n",
       "    </tr>\n",
       "    <tr>\n",
       "      <th>236691</th>\n",
       "      <td>1910600</td>\n",
       "      <td>62841</td>\n",
       "      <td>3</td>\n",
       "      <td>6</td>\n",
       "      <td>19</td>\n",
       "      <td>30.0</td>\n",
       "    </tr>\n",
       "    <tr>\n",
       "      <th>33412</th>\n",
       "      <td>4118</td>\n",
       "      <td>149871</td>\n",
       "      <td>7</td>\n",
       "      <td>3</td>\n",
       "      <td>16</td>\n",
       "      <td>12.0</td>\n",
       "    </tr>\n",
       "    <tr>\n",
       "      <th>423794</th>\n",
       "      <td>1221048</td>\n",
       "      <td>94824</td>\n",
       "      <td>9</td>\n",
       "      <td>4</td>\n",
       "      <td>10</td>\n",
       "      <td>23.0</td>\n",
       "    </tr>\n",
       "    <tr>\n",
       "      <th>169602</th>\n",
       "      <td>3128237</td>\n",
       "      <td>1588</td>\n",
       "      <td>6</td>\n",
       "      <td>1</td>\n",
       "      <td>15</td>\n",
       "      <td>30.0</td>\n",
       "    </tr>\n",
       "    <tr>\n",
       "      <th>293266</th>\n",
       "      <td>3080309</td>\n",
       "      <td>109337</td>\n",
       "      <td>4</td>\n",
       "      <td>1</td>\n",
       "      <td>10</td>\n",
       "      <td>13.0</td>\n",
       "    </tr>\n",
       "  </tbody>\n",
       "</table>\n",
       "</div>"
      ],
      "text/plain": [
       "        order_id  user_id  order_number  order_dow  order_hour_of_day  \\\n",
       "467953    945636    88295            10          2                 13   \n",
       "165405   3090929   113526             8          5                 14   \n",
       "400164   2692293   125562             3          4                 14   \n",
       "438369   1606100   172251             1          0                  9   \n",
       "396660   2323919    73138             4          4                 19   \n",
       "236691   1910600    62841             3          6                 19   \n",
       "33412       4118   149871             7          3                 16   \n",
       "423794   1221048    94824             9          4                 10   \n",
       "169602   3128237     1588             6          1                 15   \n",
       "293266   3080309   109337             4          1                 10   \n",
       "\n",
       "        days_since_prior_order  \n",
       "467953                    12.0  \n",
       "165405                    30.0  \n",
       "400164                    10.0  \n",
       "438369                     NaN  \n",
       "396660                    12.0  \n",
       "236691                    30.0  \n",
       "33412                     12.0  \n",
       "423794                    23.0  \n",
       "169602                    30.0  \n",
       "293266                    13.0  "
      ]
     },
     "execution_count": 3,
     "metadata": {},
     "output_type": "execute_result"
    }
   ],
   "source": [
    "# mostrar información del DataFrame\n",
    "instacart_orders_df.info()\n",
    "print()\n",
    "instacart_orders_df.sample(10)"
   ]
  },
  {
   "cell_type": "code",
   "execution_count": 4,
   "id": "5130e05e",
   "metadata": {
    "id": "5130e05e"
   },
   "outputs": [
    {
     "name": "stdout",
     "output_type": "stream",
     "text": [
      "<class 'pandas.core.frame.DataFrame'>\n",
      "RangeIndex: 49694 entries, 0 to 49693\n",
      "Data columns (total 4 columns):\n",
      " #   Column         Non-Null Count  Dtype \n",
      "---  ------         --------------  ----- \n",
      " 0   product_id     49694 non-null  int64 \n",
      " 1   product_name   48436 non-null  object\n",
      " 2   aisle_id       49694 non-null  int64 \n",
      " 3   department_id  49694 non-null  int64 \n",
      "dtypes: int64(3), object(1)\n",
      "memory usage: 1.5+ MB\n",
      "\n"
     ]
    },
    {
     "data": {
      "text/html": [
       "<div>\n",
       "<style scoped>\n",
       "    .dataframe tbody tr th:only-of-type {\n",
       "        vertical-align: middle;\n",
       "    }\n",
       "\n",
       "    .dataframe tbody tr th {\n",
       "        vertical-align: top;\n",
       "    }\n",
       "\n",
       "    .dataframe thead th {\n",
       "        text-align: right;\n",
       "    }\n",
       "</style>\n",
       "<table border=\"1\" class=\"dataframe\">\n",
       "  <thead>\n",
       "    <tr style=\"text-align: right;\">\n",
       "      <th></th>\n",
       "      <th>product_id</th>\n",
       "      <th>product_name</th>\n",
       "      <th>aisle_id</th>\n",
       "      <th>department_id</th>\n",
       "    </tr>\n",
       "  </thead>\n",
       "  <tbody>\n",
       "    <tr>\n",
       "      <th>0</th>\n",
       "      <td>1</td>\n",
       "      <td>Chocolate Sandwich Cookies</td>\n",
       "      <td>61</td>\n",
       "      <td>19</td>\n",
       "    </tr>\n",
       "    <tr>\n",
       "      <th>1</th>\n",
       "      <td>2</td>\n",
       "      <td>All-Seasons Salt</td>\n",
       "      <td>104</td>\n",
       "      <td>13</td>\n",
       "    </tr>\n",
       "    <tr>\n",
       "      <th>2</th>\n",
       "      <td>3</td>\n",
       "      <td>Robust Golden Unsweetened Oolong Tea</td>\n",
       "      <td>94</td>\n",
       "      <td>7</td>\n",
       "    </tr>\n",
       "    <tr>\n",
       "      <th>3</th>\n",
       "      <td>4</td>\n",
       "      <td>Smart Ones Classic Favorites Mini Rigatoni Wit...</td>\n",
       "      <td>38</td>\n",
       "      <td>1</td>\n",
       "    </tr>\n",
       "    <tr>\n",
       "      <th>4</th>\n",
       "      <td>5</td>\n",
       "      <td>Green Chile Anytime Sauce</td>\n",
       "      <td>5</td>\n",
       "      <td>13</td>\n",
       "    </tr>\n",
       "    <tr>\n",
       "      <th>5</th>\n",
       "      <td>6</td>\n",
       "      <td>Dry Nose Oil</td>\n",
       "      <td>11</td>\n",
       "      <td>11</td>\n",
       "    </tr>\n",
       "    <tr>\n",
       "      <th>6</th>\n",
       "      <td>7</td>\n",
       "      <td>Pure Coconut Water With Orange</td>\n",
       "      <td>98</td>\n",
       "      <td>7</td>\n",
       "    </tr>\n",
       "    <tr>\n",
       "      <th>7</th>\n",
       "      <td>8</td>\n",
       "      <td>Cut Russet Potatoes Steam N' Mash</td>\n",
       "      <td>116</td>\n",
       "      <td>1</td>\n",
       "    </tr>\n",
       "    <tr>\n",
       "      <th>8</th>\n",
       "      <td>9</td>\n",
       "      <td>Light Strawberry Blueberry Yogurt</td>\n",
       "      <td>120</td>\n",
       "      <td>16</td>\n",
       "    </tr>\n",
       "    <tr>\n",
       "      <th>9</th>\n",
       "      <td>10</td>\n",
       "      <td>Sparkling Orange Juice &amp; Prickly Pear Beverage</td>\n",
       "      <td>115</td>\n",
       "      <td>7</td>\n",
       "    </tr>\n",
       "  </tbody>\n",
       "</table>\n",
       "</div>"
      ],
      "text/plain": [
       "   product_id                                       product_name  aisle_id  \\\n",
       "0           1                         Chocolate Sandwich Cookies        61   \n",
       "1           2                                   All-Seasons Salt       104   \n",
       "2           3               Robust Golden Unsweetened Oolong Tea        94   \n",
       "3           4  Smart Ones Classic Favorites Mini Rigatoni Wit...        38   \n",
       "4           5                          Green Chile Anytime Sauce         5   \n",
       "5           6                                       Dry Nose Oil        11   \n",
       "6           7                     Pure Coconut Water With Orange        98   \n",
       "7           8                  Cut Russet Potatoes Steam N' Mash       116   \n",
       "8           9                  Light Strawberry Blueberry Yogurt       120   \n",
       "9          10     Sparkling Orange Juice & Prickly Pear Beverage       115   \n",
       "\n",
       "   department_id  \n",
       "0             19  \n",
       "1             13  \n",
       "2              7  \n",
       "3              1  \n",
       "4             13  \n",
       "5             11  \n",
       "6              7  \n",
       "7              1  \n",
       "8             16  \n",
       "9              7  "
      ]
     },
     "execution_count": 4,
     "metadata": {},
     "output_type": "execute_result"
    }
   ],
   "source": [
    "# mostrar información del DataFrame\n",
    "products_df.info()\n",
    "print()\n",
    "products_df.head(10)"
   ]
  },
  {
   "cell_type": "code",
   "execution_count": 5,
   "id": "d8370c05",
   "metadata": {
    "id": "d8370c05"
   },
   "outputs": [
    {
     "name": "stdout",
     "output_type": "stream",
     "text": [
      "<class 'pandas.core.frame.DataFrame'>\n",
      "RangeIndex: 134 entries, 0 to 133\n",
      "Data columns (total 2 columns):\n",
      " #   Column    Non-Null Count  Dtype \n",
      "---  ------    --------------  ----- \n",
      " 0   aisle_id  134 non-null    int64 \n",
      " 1   aisle     134 non-null    object\n",
      "dtypes: int64(1), object(1)\n",
      "memory usage: 2.2+ KB\n",
      "\n"
     ]
    },
    {
     "data": {
      "text/html": [
       "<div>\n",
       "<style scoped>\n",
       "    .dataframe tbody tr th:only-of-type {\n",
       "        vertical-align: middle;\n",
       "    }\n",
       "\n",
       "    .dataframe tbody tr th {\n",
       "        vertical-align: top;\n",
       "    }\n",
       "\n",
       "    .dataframe thead th {\n",
       "        text-align: right;\n",
       "    }\n",
       "</style>\n",
       "<table border=\"1\" class=\"dataframe\">\n",
       "  <thead>\n",
       "    <tr style=\"text-align: right;\">\n",
       "      <th></th>\n",
       "      <th>aisle_id</th>\n",
       "      <th>aisle</th>\n",
       "    </tr>\n",
       "  </thead>\n",
       "  <tbody>\n",
       "    <tr>\n",
       "      <th>0</th>\n",
       "      <td>1</td>\n",
       "      <td>prepared soups salads</td>\n",
       "    </tr>\n",
       "    <tr>\n",
       "      <th>1</th>\n",
       "      <td>2</td>\n",
       "      <td>specialty cheeses</td>\n",
       "    </tr>\n",
       "    <tr>\n",
       "      <th>2</th>\n",
       "      <td>3</td>\n",
       "      <td>energy granola bars</td>\n",
       "    </tr>\n",
       "    <tr>\n",
       "      <th>3</th>\n",
       "      <td>4</td>\n",
       "      <td>instant foods</td>\n",
       "    </tr>\n",
       "    <tr>\n",
       "      <th>4</th>\n",
       "      <td>5</td>\n",
       "      <td>marinades meat preparation</td>\n",
       "    </tr>\n",
       "    <tr>\n",
       "      <th>5</th>\n",
       "      <td>6</td>\n",
       "      <td>other</td>\n",
       "    </tr>\n",
       "    <tr>\n",
       "      <th>6</th>\n",
       "      <td>7</td>\n",
       "      <td>packaged meat</td>\n",
       "    </tr>\n",
       "    <tr>\n",
       "      <th>7</th>\n",
       "      <td>8</td>\n",
       "      <td>bakery desserts</td>\n",
       "    </tr>\n",
       "    <tr>\n",
       "      <th>8</th>\n",
       "      <td>9</td>\n",
       "      <td>pasta sauce</td>\n",
       "    </tr>\n",
       "    <tr>\n",
       "      <th>9</th>\n",
       "      <td>10</td>\n",
       "      <td>kitchen supplies</td>\n",
       "    </tr>\n",
       "  </tbody>\n",
       "</table>\n",
       "</div>"
      ],
      "text/plain": [
       "   aisle_id                       aisle\n",
       "0         1       prepared soups salads\n",
       "1         2           specialty cheeses\n",
       "2         3         energy granola bars\n",
       "3         4               instant foods\n",
       "4         5  marinades meat preparation\n",
       "5         6                       other\n",
       "6         7               packaged meat\n",
       "7         8             bakery desserts\n",
       "8         9                 pasta sauce\n",
       "9        10            kitchen supplies"
      ]
     },
     "execution_count": 5,
     "metadata": {},
     "output_type": "execute_result"
    }
   ],
   "source": [
    "# mostrar información del \n",
    "aisles_df.info()\n",
    "print()\n",
    "aisles_df.head(10)"
   ]
  },
  {
   "cell_type": "code",
   "execution_count": 6,
   "id": "59e2090f",
   "metadata": {
    "id": "59e2090f"
   },
   "outputs": [
    {
     "name": "stdout",
     "output_type": "stream",
     "text": [
      "<class 'pandas.core.frame.DataFrame'>\n",
      "RangeIndex: 21 entries, 0 to 20\n",
      "Data columns (total 2 columns):\n",
      " #   Column         Non-Null Count  Dtype \n",
      "---  ------         --------------  ----- \n",
      " 0   department_id  21 non-null     int64 \n",
      " 1   department     21 non-null     object\n",
      "dtypes: int64(1), object(1)\n",
      "memory usage: 464.0+ bytes\n",
      "\n"
     ]
    },
    {
     "data": {
      "text/html": [
       "<div>\n",
       "<style scoped>\n",
       "    .dataframe tbody tr th:only-of-type {\n",
       "        vertical-align: middle;\n",
       "    }\n",
       "\n",
       "    .dataframe tbody tr th {\n",
       "        vertical-align: top;\n",
       "    }\n",
       "\n",
       "    .dataframe thead th {\n",
       "        text-align: right;\n",
       "    }\n",
       "</style>\n",
       "<table border=\"1\" class=\"dataframe\">\n",
       "  <thead>\n",
       "    <tr style=\"text-align: right;\">\n",
       "      <th></th>\n",
       "      <th>department_id</th>\n",
       "      <th>department</th>\n",
       "    </tr>\n",
       "  </thead>\n",
       "  <tbody>\n",
       "    <tr>\n",
       "      <th>0</th>\n",
       "      <td>1</td>\n",
       "      <td>frozen</td>\n",
       "    </tr>\n",
       "    <tr>\n",
       "      <th>1</th>\n",
       "      <td>2</td>\n",
       "      <td>other</td>\n",
       "    </tr>\n",
       "    <tr>\n",
       "      <th>2</th>\n",
       "      <td>3</td>\n",
       "      <td>bakery</td>\n",
       "    </tr>\n",
       "    <tr>\n",
       "      <th>3</th>\n",
       "      <td>4</td>\n",
       "      <td>produce</td>\n",
       "    </tr>\n",
       "    <tr>\n",
       "      <th>4</th>\n",
       "      <td>5</td>\n",
       "      <td>alcohol</td>\n",
       "    </tr>\n",
       "    <tr>\n",
       "      <th>5</th>\n",
       "      <td>6</td>\n",
       "      <td>international</td>\n",
       "    </tr>\n",
       "    <tr>\n",
       "      <th>6</th>\n",
       "      <td>7</td>\n",
       "      <td>beverages</td>\n",
       "    </tr>\n",
       "    <tr>\n",
       "      <th>7</th>\n",
       "      <td>8</td>\n",
       "      <td>pets</td>\n",
       "    </tr>\n",
       "    <tr>\n",
       "      <th>8</th>\n",
       "      <td>9</td>\n",
       "      <td>dry goods pasta</td>\n",
       "    </tr>\n",
       "    <tr>\n",
       "      <th>9</th>\n",
       "      <td>10</td>\n",
       "      <td>bulk</td>\n",
       "    </tr>\n",
       "  </tbody>\n",
       "</table>\n",
       "</div>"
      ],
      "text/plain": [
       "   department_id       department\n",
       "0              1           frozen\n",
       "1              2            other\n",
       "2              3           bakery\n",
       "3              4          produce\n",
       "4              5          alcohol\n",
       "5              6    international\n",
       "6              7        beverages\n",
       "7              8             pets\n",
       "8              9  dry goods pasta\n",
       "9             10             bulk"
      ]
     },
     "execution_count": 6,
     "metadata": {},
     "output_type": "execute_result"
    }
   ],
   "source": [
    "# mostrar información del DataFrame\n",
    "departments_df.info()\n",
    "print()\n",
    "departments_df.head(10)"
   ]
  },
  {
   "cell_type": "code",
   "execution_count": 7,
   "id": "6fc81694",
   "metadata": {
    "id": "6fc81694"
   },
   "outputs": [
    {
     "name": "stdout",
     "output_type": "stream",
     "text": [
      "<class 'pandas.core.frame.DataFrame'>\n",
      "RangeIndex: 4545007 entries, 0 to 4545006\n",
      "Data columns (total 4 columns):\n",
      " #   Column             Dtype  \n",
      "---  ------             -----  \n",
      " 0   order_id           int64  \n",
      " 1   product_id         int64  \n",
      " 2   add_to_cart_order  float64\n",
      " 3   reordered          int64  \n",
      "dtypes: float64(1), int64(3)\n",
      "memory usage: 138.7 MB\n",
      "\n"
     ]
    },
    {
     "data": {
      "text/html": [
       "<div>\n",
       "<style scoped>\n",
       "    .dataframe tbody tr th:only-of-type {\n",
       "        vertical-align: middle;\n",
       "    }\n",
       "\n",
       "    .dataframe tbody tr th {\n",
       "        vertical-align: top;\n",
       "    }\n",
       "\n",
       "    .dataframe thead th {\n",
       "        text-align: right;\n",
       "    }\n",
       "</style>\n",
       "<table border=\"1\" class=\"dataframe\">\n",
       "  <thead>\n",
       "    <tr style=\"text-align: right;\">\n",
       "      <th></th>\n",
       "      <th>order_id</th>\n",
       "      <th>product_id</th>\n",
       "      <th>add_to_cart_order</th>\n",
       "      <th>reordered</th>\n",
       "    </tr>\n",
       "  </thead>\n",
       "  <tbody>\n",
       "    <tr>\n",
       "      <th>1843520</th>\n",
       "      <td>2842418</td>\n",
       "      <td>26604</td>\n",
       "      <td>8.0</td>\n",
       "      <td>1</td>\n",
       "    </tr>\n",
       "    <tr>\n",
       "      <th>3324367</th>\n",
       "      <td>145096</td>\n",
       "      <td>49207</td>\n",
       "      <td>3.0</td>\n",
       "      <td>1</td>\n",
       "    </tr>\n",
       "    <tr>\n",
       "      <th>2561628</th>\n",
       "      <td>546035</td>\n",
       "      <td>42345</td>\n",
       "      <td>5.0</td>\n",
       "      <td>1</td>\n",
       "    </tr>\n",
       "    <tr>\n",
       "      <th>3741191</th>\n",
       "      <td>2076614</td>\n",
       "      <td>24838</td>\n",
       "      <td>6.0</td>\n",
       "      <td>1</td>\n",
       "    </tr>\n",
       "    <tr>\n",
       "      <th>1134949</th>\n",
       "      <td>120925</td>\n",
       "      <td>24852</td>\n",
       "      <td>2.0</td>\n",
       "      <td>0</td>\n",
       "    </tr>\n",
       "    <tr>\n",
       "      <th>4219397</th>\n",
       "      <td>1049240</td>\n",
       "      <td>48179</td>\n",
       "      <td>22.0</td>\n",
       "      <td>0</td>\n",
       "    </tr>\n",
       "    <tr>\n",
       "      <th>964805</th>\n",
       "      <td>943210</td>\n",
       "      <td>42606</td>\n",
       "      <td>3.0</td>\n",
       "      <td>0</td>\n",
       "    </tr>\n",
       "    <tr>\n",
       "      <th>4167105</th>\n",
       "      <td>2737183</td>\n",
       "      <td>28289</td>\n",
       "      <td>5.0</td>\n",
       "      <td>1</td>\n",
       "    </tr>\n",
       "    <tr>\n",
       "      <th>4126397</th>\n",
       "      <td>2317634</td>\n",
       "      <td>35912</td>\n",
       "      <td>4.0</td>\n",
       "      <td>0</td>\n",
       "    </tr>\n",
       "    <tr>\n",
       "      <th>2198959</th>\n",
       "      <td>1478269</td>\n",
       "      <td>40789</td>\n",
       "      <td>1.0</td>\n",
       "      <td>1</td>\n",
       "    </tr>\n",
       "    <tr>\n",
       "      <th>2741390</th>\n",
       "      <td>2867677</td>\n",
       "      <td>49520</td>\n",
       "      <td>19.0</td>\n",
       "      <td>1</td>\n",
       "    </tr>\n",
       "    <tr>\n",
       "      <th>3042068</th>\n",
       "      <td>792023</td>\n",
       "      <td>28204</td>\n",
       "      <td>4.0</td>\n",
       "      <td>1</td>\n",
       "    </tr>\n",
       "    <tr>\n",
       "      <th>1689058</th>\n",
       "      <td>1479981</td>\n",
       "      <td>10110</td>\n",
       "      <td>5.0</td>\n",
       "      <td>0</td>\n",
       "    </tr>\n",
       "    <tr>\n",
       "      <th>3961594</th>\n",
       "      <td>2917291</td>\n",
       "      <td>35132</td>\n",
       "      <td>5.0</td>\n",
       "      <td>0</td>\n",
       "    </tr>\n",
       "    <tr>\n",
       "      <th>3386478</th>\n",
       "      <td>1775550</td>\n",
       "      <td>16615</td>\n",
       "      <td>2.0</td>\n",
       "      <td>1</td>\n",
       "    </tr>\n",
       "    <tr>\n",
       "      <th>772922</th>\n",
       "      <td>477984</td>\n",
       "      <td>27845</td>\n",
       "      <td>7.0</td>\n",
       "      <td>1</td>\n",
       "    </tr>\n",
       "    <tr>\n",
       "      <th>3027770</th>\n",
       "      <td>495573</td>\n",
       "      <td>5825</td>\n",
       "      <td>7.0</td>\n",
       "      <td>0</td>\n",
       "    </tr>\n",
       "    <tr>\n",
       "      <th>298350</th>\n",
       "      <td>359967</td>\n",
       "      <td>17948</td>\n",
       "      <td>9.0</td>\n",
       "      <td>1</td>\n",
       "    </tr>\n",
       "    <tr>\n",
       "      <th>2126129</th>\n",
       "      <td>415474</td>\n",
       "      <td>37646</td>\n",
       "      <td>7.0</td>\n",
       "      <td>1</td>\n",
       "    </tr>\n",
       "    <tr>\n",
       "      <th>3284884</th>\n",
       "      <td>165940</td>\n",
       "      <td>6317</td>\n",
       "      <td>1.0</td>\n",
       "      <td>1</td>\n",
       "    </tr>\n",
       "  </tbody>\n",
       "</table>\n",
       "</div>"
      ],
      "text/plain": [
       "         order_id  product_id  add_to_cart_order  reordered\n",
       "1843520   2842418       26604                8.0          1\n",
       "3324367    145096       49207                3.0          1\n",
       "2561628    546035       42345                5.0          1\n",
       "3741191   2076614       24838                6.0          1\n",
       "1134949    120925       24852                2.0          0\n",
       "4219397   1049240       48179               22.0          0\n",
       "964805     943210       42606                3.0          0\n",
       "4167105   2737183       28289                5.0          1\n",
       "4126397   2317634       35912                4.0          0\n",
       "2198959   1478269       40789                1.0          1\n",
       "2741390   2867677       49520               19.0          1\n",
       "3042068    792023       28204                4.0          1\n",
       "1689058   1479981       10110                5.0          0\n",
       "3961594   2917291       35132                5.0          0\n",
       "3386478   1775550       16615                2.0          1\n",
       "772922     477984       27845                7.0          1\n",
       "3027770    495573        5825                7.0          0\n",
       "298350     359967       17948                9.0          1\n",
       "2126129    415474       37646                7.0          1\n",
       "3284884    165940        6317                1.0          1"
      ]
     },
     "execution_count": 7,
     "metadata": {},
     "output_type": "execute_result"
    }
   ],
   "source": [
    "# mostrar información del DataFrame\n",
    "order_products_df.info()\n",
    "print()\n",
    "order_products_df.sample(20)"
   ]
  },
  {
   "cell_type": "markdown",
   "id": "959c75c4-10c0-4ee4-8638-dc816758f2f7",
   "metadata": {},
   "source": [
    "<div class=\"alert alert-block alert-success\">\n",
    "<b>Comentario del revisor:</b> <a class=\"tocSkip\"></a>\n",
    "    \n",
    "Has realizado un excelente trabajo al importar los datos y las bibliotecas necesarias.\n",
    "\n",
    "</div>"
   ]
  },
  {
   "cell_type": "markdown",
   "id": "t75BD19oaR5f",
   "metadata": {
    "id": "t75BD19oaR5f"
   },
   "source": [
    "## Conclusiones\n",
    "\n",
    "Escribe aquí tus conclusiones intermedias sobre el Paso 1. Descripción de los datos.\n"
   ]
  },
  {
   "cell_type": "markdown",
   "id": "d7f1d6f8-118a-47d5-b86c-e0ef858e4b23",
   "metadata": {},
   "source": [
    "<div style=\"color: blue;\">\n",
    "Cada dataframe contiene información específica, que se correlaciona entre sí. Asumo que se maneja en diferentes dataframes para tener una trazabilidad más clara de las órdenes que hacen los clientes. A continuación, mis observaciones de cada dataframe:\n",
    "\n",
    "**instacart_orders_df**: Almacena la información de las órdenes registradas. Contiene: el id de la orden, el id del usuario que hizo la orden, el número de orden, día de la semana en que se registró la orden, la hora en que se registró la orden, días transcurridos desde la orden anterior.\n",
    "\n",
    "**products_df**: Almacena la información de los productos. Contiene: el id del producto, el nombre del producto, el id de la isla donde se halla el producto y el id del departamento del producto.\n",
    "\n",
    "**aisles_df**: Almacena información sobre las islas. Contiene: el id de la isla y el nombre de la isla.\n",
    "\n",
    "**departments_df**: Almacena la información de los departamentos. Contiene: el id del departamento y el nombre del departamento.\n",
    "\n",
    "**order_products_df**: Almacena información adicional sobre las órdenes. Almacena: el id de la orden, el id del producto ordenado, orden en que el producto fue agregado al carrito y si se volvió a hacer la misma orden (se reordenó).\n",
    "</div>\n",
    "\n",
    "\n"
   ]
  },
  {
   "cell_type": "markdown",
   "id": "8RJHqxVmaVsF",
   "metadata": {
    "id": "8RJHqxVmaVsF"
   },
   "source": [
    "# Paso 2. Preprocesamiento de los datos\n",
    "\n",
    "Preprocesa los datos de la siguiente manera:\n",
    "\n",
    "- Verifica y corrige los tipos de datos (por ejemplo, asegúrate de que las columnas de ID sean números enteros).\n",
    "- Identifica y completa los valores ausentes.\n",
    "- Identifica y elimina los valores duplicados.\n",
    "\n",
    "Asegúrate de explicar qué tipos de valores ausentes y duplicados encontraste, cómo los completaste o eliminaste y por qué usaste esos métodos. ¿Por qué crees que estos valores ausentes y duplicados pueden haber estado presentes en el conjunto de datos?"
   ]
  },
  {
   "cell_type": "code",
   "execution_count": 8,
   "id": "534a4632-e198-4c5f-82bf-c5f7fa51c478",
   "metadata": {},
   "outputs": [
    {
     "name": "stdout",
     "output_type": "stream",
     "text": [
      "<class 'pandas.core.frame.DataFrame'>\n",
      "RangeIndex: 478967 entries, 0 to 478966\n",
      "Data columns (total 6 columns):\n",
      " #   Column                  Non-Null Count   Dtype\n",
      "---  ------                  --------------   -----\n",
      " 0   order_id                478967 non-null  int64\n",
      " 1   user_id                 478967 non-null  int64\n",
      " 2   order_number            478967 non-null  int64\n",
      " 3   order_dow               478967 non-null  int64\n",
      " 4   order_hour_of_day       478967 non-null  int64\n",
      " 5   days_since_prior_order  450148 non-null  Int64\n",
      "dtypes: Int64(1), int64(5)\n",
      "memory usage: 22.4 MB\n",
      "28819\n"
     ]
    }
   ],
   "source": [
    "#En instacart_orders_df, la columna \"days since prior order\" es de tipo flotante, pero dado que se trata de un contador de días, es mejor manejar\n",
    "#estos datos como enteros.\n",
    "instacart_orders_df['days_since_prior_order'] = instacart_orders_df['days_since_prior_order'].astype('Int64') #de momento, ignoramos los valores nulos,\n",
    "#forzando la transforamción con 'Int64'\n",
    "instacart_orders_df.info()\n",
    "instacart_orders_df.sample(10)\n",
    "print(instacart_orders_df['days_since_prior_order'].isnull().sum())"
   ]
  },
  {
   "cell_type": "code",
   "execution_count": 9,
   "id": "c16e279e-6733-4626-8284-dcd2c1b8cccb",
   "metadata": {},
   "outputs": [
    {
     "name": "stdout",
     "output_type": "stream",
     "text": [
      "<class 'pandas.core.frame.DataFrame'>\n",
      "RangeIndex: 4545007 entries, 0 to 4545006\n",
      "Data columns (total 4 columns):\n",
      " #   Column             Dtype\n",
      "---  ------             -----\n",
      " 0   order_id           int64\n",
      " 1   product_id         int64\n",
      " 2   add_to_cart_order  Int64\n",
      " 3   reordered          int64\n",
      "dtypes: Int64(1), int64(3)\n",
      "memory usage: 143.0 MB\n",
      "836\n"
     ]
    }
   ],
   "source": [
    "#En order_products_df, la columna \"add_to_cart_order\" es de tipo flotante, pero dado que se trata de un número que indica que lugar (1ro, 2do, etc) se\n",
    "#agregó el producto al carrito, mejor manejarlo como un número entero.\n",
    "order_products_df['add_to_cart_order'] = order_products_df['add_to_cart_order'].astype('Int64') #de momento, ignoramos los valores nulos,\n",
    "#forzando la transforamción con 'Int64'\n",
    "order_products_df.info()\n",
    "order_products_df.sample(10)\n",
    "print(order_products_df['add_to_cart_order'].isnull().sum())"
   ]
  },
  {
   "cell_type": "markdown",
   "id": "p6poABZQaZYb",
   "metadata": {
    "id": "p6poABZQaZYb"
   },
   "source": [
    "## Plan de solución\n",
    "\n",
    "Escribe aquí tu plan para el Paso 2. Preprocesamiento de los datos."
   ]
  },
  {
   "cell_type": "markdown",
   "id": "a907039a-e8ac-42ca-a5c3-b76fd4ecb04e",
   "metadata": {},
   "source": [
    "<div style=\"color: blue;\">\n",
    "**Verifica y corrige los tipos de datos (por ejemplo, asegúrate de que las columnas de ID sean números enteros).**\n",
    "R = Revisar los tipos de datos de cada dataframe, que obtuve con el método info(). Cambiar el tipo de dato, según sea más conveniente para el procesamiento de los mismos. Ejemplo: si un tipo de dato es string, pero es un número identificador, lo más adecuado sería transformar esos datos a entero.\n",
    "\n",
    "**Identifica y elimina los valores duplicados.**\n",
    "R = Buscar si hay valores duplicados explícitos (filas duplicadas) y eliminarlos.\n",
    "Verificar si hay valores duplicados implícitos; las filas que contienen nombres son buenas candidatas para revisar este tipo de duplicados. Homologar los duplicados a una misma denominación.\n",
    "\n",
    "**Identifica y completa los valores ausentes.**\n",
    "R = Con el método info() vimos que efectivamente hay valores ausentes. Para tratarlos, revisaré en qué tipo de columnas se hallan. Si son categóricas, quizá los rellenaría con un texto \"unknown\" y si son numéricos, se podrían rellenar con la mediana o la media de los valores.\n",
    "\n",
    "\n",
    "\n",
    "\n",
    "</div>"
   ]
  },
  {
   "cell_type": "markdown",
   "id": "07357848-dc64-4156-9cc3-01ff4365226d",
   "metadata": {
    "id": "07357848-dc64-4156-9cc3-01ff4365226d"
   },
   "source": [
    "## Encuentra y elimina los valores duplicados (y describe cómo tomaste tus decisiones)."
   ]
  },
  {
   "cell_type": "markdown",
   "id": "f179f0a9",
   "metadata": {
    "id": "f179f0a9"
   },
   "source": [
    "### `orders` data frame"
   ]
  },
  {
   "cell_type": "code",
   "execution_count": 10,
   "id": "b99297a5-405a-463d-8535-9adc3da4ad74",
   "metadata": {
    "id": "b99297a5-405a-463d-8535-9adc3da4ad74"
   },
   "outputs": [
    {
     "name": "stdout",
     "output_type": "stream",
     "text": [
      "Filas duplicadas:\n",
      "        order_id  user_id  order_number  order_dow  order_hour_of_day  \\\n",
      "145574    794638    50898            24          3                  2   \n",
      "223105   2160484   107525            16          3                  2   \n",
      "230807   1918001   188546            14          3                  2   \n",
      "266232   1782114   106752             1          3                  2   \n",
      "273805   1112182   202304            84          3                  2   \n",
      "284038   2845099    31189            11          3                  2   \n",
      "311713   1021560    53767             3          3                  2   \n",
      "321100    408114    68324             4          3                  2   \n",
      "323900   1919531   191501            32          3                  2   \n",
      "345917   2232988    82565             1          3                  2   \n",
      "371905    391768    57671            19          3                  2   \n",
      "394347    467134    63189            21          3                  2   \n",
      "411408   1286742   183220            48          3                  2   \n",
      "415163   2282673    86751            49          3                  2   \n",
      "441599   2125197    14050            48          3                  2   \n",
      "\n",
      "        days_since_prior_order  \n",
      "145574                       2  \n",
      "223105                      30  \n",
      "230807                      16  \n",
      "266232                    <NA>  \n",
      "273805                       6  \n",
      "284038                       7  \n",
      "311713                       9  \n",
      "321100                      18  \n",
      "323900                       7  \n",
      "345917                    <NA>  \n",
      "371905                      10  \n",
      "394347                       2  \n",
      "411408                       4  \n",
      "415163                       2  \n",
      "441599                       3  \n",
      "\n",
      "Filas duplicadas en instacart_orders_df (inicial): 15\n"
     ]
    }
   ],
   "source": [
    "# Revisa si hay pedidos duplicados\n",
    "\n",
    "# Identificar las filas duplicadas\n",
    "duplicadas = instacart_orders_df[instacart_orders_df.duplicated()]\n",
    "print(\"Filas duplicadas:\")\n",
    "print(duplicadas)\n",
    "print()\n",
    "print(\"Filas duplicadas en instacart_orders_df (inicial):\", instacart_orders_df.duplicated().sum()) #Cuenta las FILAS duplicadas en el\n",
    "#instacart_orders_df"
   ]
  },
  {
   "cell_type": "markdown",
   "id": "PEkwUX_gvt5A",
   "metadata": {
    "id": "PEkwUX_gvt5A"
   },
   "source": [
    "¿Tienes líneas duplicadas? Si sí, ¿qué tienen en común?"
   ]
  },
  {
   "cell_type": "markdown",
   "id": "17e02821-0ea5-4597-904b-dc63abb0a44c",
   "metadata": {},
   "source": [
    "<div style=\"color: blue;\">\n",
    "Son 15 duplicados que sucedieron el día 3 de la semana, es decir, el miércoles; todos a la misma hora.\n",
    "</div>"
   ]
  },
  {
   "cell_type": "code",
   "execution_count": 11,
   "id": "0d44de5d",
   "metadata": {
    "id": "0d44de5d"
   },
   "outputs": [
    {
     "name": "stdout",
     "output_type": "stream",
     "text": [
      "        order_id  user_id  order_number  order_dow  order_hour_of_day  \\\n",
      "4838     2766110   162084            41          3                  2   \n",
      "5156     2190225   138285            18          3                  2   \n",
      "15506     553049    58599            13          3                  2   \n",
      "18420     382357   120200            19          3                  2   \n",
      "24691     690242    77357             2          3                  2   \n",
      "...          ...      ...           ...        ...                ...   \n",
      "457013   3384021    14881             6          3                  2   \n",
      "458816    910166   164782            18          3                  2   \n",
      "459635   1680532   106435             6          3                  2   \n",
      "468324    222962    54979            59          3                  2   \n",
      "477526   2592344    46860            38          3                  2   \n",
      "\n",
      "        days_since_prior_order  \n",
      "4838                        16  \n",
      "5156                        11  \n",
      "15506                        7  \n",
      "18420                       11  \n",
      "24691                        9  \n",
      "...                        ...  \n",
      "457013                      30  \n",
      "458816                       4  \n",
      "459635                      21  \n",
      "468324                       3  \n",
      "477526                       3  \n",
      "\n",
      "[121 rows x 6 columns]\n"
     ]
    }
   ],
   "source": [
    "# Basándote en tus hallazgos,\n",
    "# Verifica todos los pedidos que se hicieron el miércoles a las 2:00 a.m.\n",
    "pedidos_miercoles_2am = instacart_orders_df.query(\"order_dow == 3 and order_hour_of_day == 2\")\n",
    "print(pedidos_miercoles_2am)\n",
    "#print()\n",
    "#print(pedidos_miercoles_2am.sample(20))"
   ]
  },
  {
   "cell_type": "markdown",
   "id": "vu2OWyoqwOx5",
   "metadata": {
    "id": "vu2OWyoqwOx5"
   },
   "source": [
    "¿Qué sugiere este resultado?"
   ]
  },
  {
   "cell_type": "markdown",
   "id": "d26218ed-225b-4adb-a168-b9999e6e8c07",
   "metadata": {},
   "source": [
    "<div style=\"color: blue;\">\n",
    "No veo ningún patrón, sólo puedo resaltar que a ese día a esa hora se registraron 121 órdenes\n",
    "</div>"
   ]
  },
  {
   "cell_type": "code",
   "execution_count": 12,
   "id": "480563c7",
   "metadata": {
    "id": "480563c7"
   },
   "outputs": [],
   "source": [
    "# Elimina los pedidos duplicados\n",
    "instacart_orders_df = instacart_orders_df.drop_duplicates().reset_index(drop=True)"
   ]
  },
  {
   "cell_type": "code",
   "execution_count": 13,
   "id": "0b2396a2",
   "metadata": {
    "id": "0b2396a2"
   },
   "outputs": [
    {
     "name": "stdout",
     "output_type": "stream",
     "text": [
      "Filas duplicadas en instacart_orders_df (final): 0\n"
     ]
    }
   ],
   "source": [
    "# Vuelve a verificar si hay filas duplicadas\n",
    "print(\"Filas duplicadas en instacart_orders_df (final):\", instacart_orders_df.duplicated().sum())"
   ]
  },
  {
   "cell_type": "code",
   "execution_count": 14,
   "id": "f6113ef1",
   "metadata": {
    "id": "f6113ef1"
   },
   "outputs": [
    {
     "name": "stdout",
     "output_type": "stream",
     "text": [
      "Valore unívocos de ID de órdenes: 1048576    1\n",
      "3389216    1\n",
      "1100604    1\n",
      "1275704    1\n",
      "2337103    1\n",
      "          ..\n",
      "1752059    1\n",
      "2794488    1\n",
      "711671     1\n",
      "1711087    1\n",
      "2047       1\n",
      "Name: order_id, Length: 478952, dtype: int64\n"
     ]
    }
   ],
   "source": [
    "# Vuelve a verificar únicamente si hay IDs duplicados de pedidos\n",
    "print(\"Valore unívocos de ID de órdenes:\", instacart_orders_df[\"order_id\"].value_counts())"
   ]
  },
  {
   "cell_type": "code",
   "execution_count": 15,
   "id": "db9b0db3-beb0-4026-bc5e-51e6db40b862",
   "metadata": {},
   "outputs": [
    {
     "name": "stdout",
     "output_type": "stream",
     "text": [
      "Duplicados de ID de órdenes: 0\n"
     ]
    }
   ],
   "source": [
    "print(\"Duplicados de ID de órdenes:\", instacart_orders_df[\"order_id\"].duplicated().sum())"
   ]
  },
  {
   "cell_type": "code",
   "execution_count": 16,
   "id": "b669bc56-3d5b-49d2-955b-d938e8034538",
   "metadata": {},
   "outputs": [
    {
     "name": "stdout",
     "output_type": "stream",
     "text": [
      "Valore unívocos de ID de usuarios: 149605    28\n",
      "193164    26\n",
      "78375     25\n",
      "148162    24\n",
      "66664     24\n",
      "          ..\n",
      "166116     1\n",
      "63564      1\n",
      "170214     1\n",
      "51274      1\n",
      "2047       1\n",
      "Name: user_id, Length: 157437, dtype: int64\n"
     ]
    }
   ],
   "source": [
    "print(\"Valore unívocos de ID de usuarios:\", instacart_orders_df[\"user_id\"].value_counts())"
   ]
  },
  {
   "cell_type": "code",
   "execution_count": 17,
   "id": "b78459e6-0f75-404d-b197-17a0131d2534",
   "metadata": {},
   "outputs": [
    {
     "name": "stdout",
     "output_type": "stream",
     "text": [
      "Duplicados de ID de usuarios: 321515\n"
     ]
    }
   ],
   "source": [
    "print(\"Duplicados de ID de usuarios:\", instacart_orders_df[\"user_id\"].duplicated().sum())"
   ]
  },
  {
   "cell_type": "markdown",
   "id": "5e8905ae",
   "metadata": {
    "id": "5e8905ae"
   },
   "source": [
    "Describe brevemente tus hallazgos y lo que hiciste con ellos"
   ]
  },
  {
   "cell_type": "markdown",
   "id": "588ee0c1-d4bd-46a9-92f1-1f40a704b319",
   "metadata": {},
   "source": [
    "<div style=\"color: blue;\">\n",
    "Encontré 15 filas duplicadas y las eliminé.\n",
    "    \n",
    "En cuanto los ID de las órdenes. No encontré duplicados, lo cual es esperado, pues cada orden se registra con un único número de identificación.\n",
    "    \n",
    "En cuanto a los ID de los usuarios. Sí hay duplicados, pero esto también es esperado dado que un mismo usuario puede generar varias órdenes. No se deben eliminar los ID de usuarions duplicados, pues perderíamos información.\n",
    "</div>"
   ]
  },
  {
   "cell_type": "markdown",
   "id": "11139fab-4d05-4890-b134-9498b075b35f",
   "metadata": {},
   "source": [
    "<div class=\"alert alert-block alert-success\">\n",
    "<b>Comentario del revisor</b> <a class=\"tocSkip\"></a>\n",
    "\n",
    "Muy buen trabajo!! Desarrollaste de manera excelente el análisis de duplicados y eliminaste esos casos. \n",
    "    \n",
    "</div>"
   ]
  },
  {
   "cell_type": "markdown",
   "id": "45e6bc46",
   "metadata": {
    "id": "45e6bc46"
   },
   "source": [
    "### `products` data frame"
   ]
  },
  {
   "cell_type": "code",
   "execution_count": 18,
   "id": "5f526b5b-8175-46fa-a0fd-441767d50e64",
   "metadata": {
    "id": "5f526b5b-8175-46fa-a0fd-441767d50e64"
   },
   "outputs": [
    {
     "name": "stdout",
     "output_type": "stream",
     "text": [
      "Filas duplicadas:\n",
      "Empty DataFrame\n",
      "Columns: [product_id, product_name, aisle_id, department_id]\n",
      "Index: []\n",
      "\n",
      "Filas duplicadas en products_df (inicial): 0\n"
     ]
    }
   ],
   "source": [
    "# Verifica si hay filas totalmente duplicadas\n",
    "print(\"Filas duplicadas:\")\n",
    "print(products_df[products_df.duplicated()])\n",
    "print()\n",
    "print(\"Filas duplicadas en products_df (inicial):\", products_df.duplicated().sum()) #Cuenta las FILAS duplicadas"
   ]
  },
  {
   "cell_type": "code",
   "execution_count": 19,
   "id": "88daa4f4",
   "metadata": {
    "id": "88daa4f4"
   },
   "outputs": [
    {
     "name": "stdout",
     "output_type": "stream",
     "text": [
      "Duplicados de ID de producto: 0\n"
     ]
    }
   ],
   "source": [
    "# Revisa únicamente si hay ID de productos duplicados\n",
    "print(\"Duplicados de ID de producto:\", products_df[\"product_id\"].duplicated().sum())"
   ]
  },
  {
   "cell_type": "code",
   "execution_count": 20,
   "id": "c773f0bf",
   "metadata": {
    "id": "c773f0bf"
   },
   "outputs": [
    {
     "name": "stdout",
     "output_type": "stream",
     "text": [
      "Duplicados de nombre de producto (incluyendo faltantes): 1361\n"
     ]
    }
   ],
   "source": [
    "# Revisa únicamente si hay nombres duplicados de productos (convierte los nombres a letras mayúsculas para compararlos mejor)\n",
    "products_df[\"product_name\"] = products_df[\"product_name\"].str.lower()\n",
    "print(\"Duplicados de nombre de producto (incluyendo faltantes):\", products_df[\"product_name\"].duplicated().sum())"
   ]
  },
  {
   "cell_type": "code",
   "execution_count": 21,
   "id": "01efd02e",
   "metadata": {
    "id": "01efd02e"
   },
   "outputs": [
    {
     "name": "stdout",
     "output_type": "stream",
     "text": [
      "green tea with ginseng and honey                                                                                  3\n",
      "beef ravioli in tomato & meat sauce                                                                               2\n",
      "spring water body wash                                                                                            2\n",
      "original potato chips                                                                                             2\n",
      "chunk light tuna in water                                                                                         2\n",
      "balsamic vinegar of modena                                                                                        2\n",
      "sea salt caramel ice cream                                                                                        2\n",
      "powerball max in 1 shine & protect                                                                                2\n",
      "bleu cheese salad dressing and dip                                                                                2\n",
      "mozzarella sticks with marinara sauce                                                                             2\n",
      "fire roasted diced tomatoes with garlic                                                                           2\n",
      "rigatoni with chicken & pesto                                                                                     2\n",
      "albacore solid white tuna in water                                                                                2\n",
      "edamame soybeans in pods                                                                                          2\n",
      "mediterranean sea salt                                                                                            2\n",
      "aged balsamic vinegar of modena                                                                                   2\n",
      "ultragel personal lubricant                                                                                       2\n",
      "tender white meat chicken- vegetables & rice in a cheddar cheese sauce grandma's chicken & vegetable rice bake    2\n",
      "gluten free spaghetti                                                                                             2\n",
      "18-in-1 hemp peppermint pure-castile soap                                                                         2\n",
      "Name: product_name, dtype: int64\n",
      "\n",
      "Duplicados de nombre de producto (excluyendo faltantes): 104\n"
     ]
    }
   ],
   "source": [
    "# Revisa si hay nombres duplicados de productos no faltantes\n",
    "non_missing_products = products_df[products_df['product_name'].notna()]\n",
    "print(non_missing_products['product_name'].value_counts().head(20))\n",
    "print()\n",
    "print(\"Duplicados de nombre de producto (excluyendo faltantes):\", non_missing_products['product_name'].duplicated().sum())"
   ]
  },
  {
   "cell_type": "markdown",
   "id": "9da8d293",
   "metadata": {
    "id": "9da8d293"
   },
   "source": [
    "Describe brevemente tus hallazgos y lo que hiciste con ellos."
   ]
  },
  {
   "cell_type": "markdown",
   "id": "5c47821c-f0c6-4a65-90cf-f4ebe84a50d8",
   "metadata": {},
   "source": [
    "<div style=\"color: blue;\">\n",
    "No hay filas duplicadas. Lo que quiere decir, que no hay duplicados explícitos en el df de productos.\n",
    "\n",
    "No hay ID de producto duplicados, lo que se puede interpretar como que cada producto registrado se trata como único.\n",
    "\n",
    "Sin embargo, Sí hay noombres de productos duplicados, tanto cuando consideramos los valores ausentes, como cuando los excluimos. Recordemos que, para contar de manera adecuada, convertimos todo el texto de esta columa a minúculas; dado que encontramos duplicados, quiere decir que los productos con el mismo nombre que se registraron varias veces, pero con un caracter distinto, se registraron como productos únicos; cuando, en realidad, son un sólo producto. Luego entonces, hemos econtrado duplicados implícitos y habrá que eliminarlos, pues distorsionan los datos\n",
    "</div>"
   ]
  },
  {
   "cell_type": "markdown",
   "id": "9b77c705-4cf3-4996-9177-6558a901d1c2",
   "metadata": {},
   "source": [
    "\n",
    "<div class=\"alert alert-block alert-success\">\n",
    "<b>Comentario del revisor</b> <a class=\"tocSkip\"></a>\n",
    "\n",
    "Muy buen trabajo!! Desarrollaste de manera excelente el análisis de duplicados. Para complementar el análisis, qué podríamos decir de estos 104 productos duplicados? \n",
    "    \n",
    "</div>"
   ]
  },
  {
   "cell_type": "code",
   "execution_count": 22,
   "id": "d444710b-82f7-4247-8e28-ce1c05e36a54",
   "metadata": {},
   "outputs": [
    {
     "name": "stdout",
     "output_type": "stream",
     "text": [
      "       product_id product_name  aisle_id  department_id\n",
      "37             38          NaN       100             21\n",
      "71             72          NaN       100             21\n",
      "109           110          NaN       100             21\n",
      "296           297          NaN       100             21\n",
      "416           417          NaN       100             21\n",
      "...           ...          ...       ...            ...\n",
      "49552       49553          NaN       100             21\n",
      "49574       49575          NaN       100             21\n",
      "49640       49641          NaN       100             21\n",
      "49663       49664          NaN       100             21\n",
      "49668       49669          NaN       100             21\n",
      "\n",
      "[1258 rows x 4 columns]\n",
      "\n",
      "       product_id                                       product_name  \\\n",
      "0               1                         chocolate sandwich cookies   \n",
      "1               2                                   all-seasons salt   \n",
      "2               3               robust golden unsweetened oolong tea   \n",
      "3               4  smart ones classic favorites mini rigatoni wit...   \n",
      "4               5                          green chile anytime sauce   \n",
      "...           ...                                                ...   \n",
      "49683       49684          vodka- triple distilled- twist of vanilla   \n",
      "49684       49685                 en croute roast hazelnut cranberry   \n",
      "49685       49686                                   artisan baguette   \n",
      "49686       49687         smartblend healthy metabolism dry cat food   \n",
      "49687       49688                             fresh foaming cleanser   \n",
      "\n",
      "       aisle_id  department_id  \n",
      "0            61             19  \n",
      "1           104             13  \n",
      "2            94              7  \n",
      "3            38              1  \n",
      "4             5             13  \n",
      "...         ...            ...  \n",
      "49683       124              5  \n",
      "49684        42              1  \n",
      "49685       112              3  \n",
      "49686        41              8  \n",
      "49687        73             11  \n",
      "\n",
      "[48332 rows x 4 columns]\n"
     ]
    }
   ],
   "source": [
    "#Guardamos los productos nulos en una nueva lista (los queremos conservar)\n",
    "missing_products = products_df[products_df['product_name'].isna()]\n",
    "#Ya tenemos los productos no nulos en non_missing_products\n",
    "#Eliminamos los duplicados sólo en esa sublista\n",
    "non_missing_products = non_missing_products.drop_duplicates(subset=['product_name'])\n",
    "\n",
    "print(missing_products)\n",
    "print()\n",
    "print(non_missing_products)"
   ]
  },
  {
   "cell_type": "code",
   "execution_count": 23,
   "id": "13eb6ae1-8e00-478c-9636-5e2fa75331de",
   "metadata": {},
   "outputs": [
    {
     "name": "stdout",
     "output_type": "stream",
     "text": [
      "       product_id                                       product_name  \\\n",
      "0               1                         chocolate sandwich cookies   \n",
      "1               2                                   all-seasons salt   \n",
      "2               3               robust golden unsweetened oolong tea   \n",
      "3               4  smart ones classic favorites mini rigatoni wit...   \n",
      "4               5                          green chile anytime sauce   \n",
      "...           ...                                                ...   \n",
      "49585       49553                                                NaN   \n",
      "49586       49575                                                NaN   \n",
      "49587       49641                                                NaN   \n",
      "49588       49664                                                NaN   \n",
      "49589       49669                                                NaN   \n",
      "\n",
      "       aisle_id  department_id  \n",
      "0            61             19  \n",
      "1           104             13  \n",
      "2            94              7  \n",
      "3            38              1  \n",
      "4             5             13  \n",
      "...         ...            ...  \n",
      "49585       100             21  \n",
      "49586       100             21  \n",
      "49587       100             21  \n",
      "49588       100             21  \n",
      "49589       100             21  \n",
      "\n",
      "[49590 rows x 4 columns]\n"
     ]
    }
   ],
   "source": [
    "# Combinar las filas no nulas (sin duplicados) con todas las filas nulas, en el df de productos original para sobreescribirlo\n",
    "products_df = pd.concat([non_missing_products, missing_products]).reset_index(drop=True)\n",
    "print(products_df)"
   ]
  },
  {
   "cell_type": "markdown",
   "id": "5062b6d7-b9dc-4ed7-bc0e-377c019f1a5e",
   "metadata": {},
   "source": [
    "<div style=\"color: blue;\">\n",
    "El nuevo tamaño del dataframe es exactamente 104 filas menor que el dataframe original. En otras palabras, hemos eliminado los duplicados implícitos.\n",
    "</div>"
   ]
  },
  {
   "cell_type": "markdown",
   "id": "60f30db1",
   "metadata": {
    "id": "60f30db1"
   },
   "source": [
    "### `departments` data frame"
   ]
  },
  {
   "cell_type": "code",
   "execution_count": 24,
   "id": "fb410ad4-0fbf-4b80-bb09-23fdea79afe3",
   "metadata": {
    "id": "fb410ad4-0fbf-4b80-bb09-23fdea79afe3"
   },
   "outputs": [
    {
     "name": "stdout",
     "output_type": "stream",
     "text": [
      "Filas duplicadas:\n",
      "Empty DataFrame\n",
      "Columns: [department_id, department]\n",
      "Index: []\n",
      "\n",
      "Filas duplicadas en departments_df (inicial): 0\n"
     ]
    }
   ],
   "source": [
    "# Revisa si hay filas totalmente duplicadas\n",
    "print(\"Filas duplicadas:\")\n",
    "print(departments_df[departments_df.duplicated()])\n",
    "print()\n",
    "print(\"Filas duplicadas en departments_df (inicial):\", departments_df.duplicated().sum()) #Cuenta las FILAS duplicadas"
   ]
  },
  {
   "cell_type": "code",
   "execution_count": 25,
   "id": "332b12bb",
   "metadata": {
    "id": "332b12bb"
   },
   "outputs": [
    {
     "name": "stdout",
     "output_type": "stream",
     "text": [
      "Duplicados de ID de departamento: 0\n"
     ]
    }
   ],
   "source": [
    "# Revisa únicamente si hay IDs duplicadas de departamentos\n",
    "print(\"Duplicados de ID de departamento:\", departments_df[\"department_id\"].duplicated().sum())"
   ]
  },
  {
   "cell_type": "markdown",
   "id": "bd30d78e",
   "metadata": {
    "id": "bd30d78e"
   },
   "source": [
    "Describe brevemente tus hallazgos y lo que hiciste con ellos."
   ]
  },
  {
   "cell_type": "markdown",
   "id": "cac0cc4b-08a3-41f6-ab29-4c34bba1a554",
   "metadata": {},
   "source": [
    "<div style=\"color: blue;\">\n",
    "No hay valores duplicados en el dataframe de departamentos\n",
    "</div>"
   ]
  },
  {
   "cell_type": "markdown",
   "id": "889349c1",
   "metadata": {
    "id": "889349c1"
   },
   "source": [
    "### `aisles` data frame"
   ]
  },
  {
   "cell_type": "code",
   "execution_count": 26,
   "id": "9da89fb9-4679-40f5-ad0d-c34df753a3f8",
   "metadata": {
    "id": "9da89fb9-4679-40f5-ad0d-c34df753a3f8"
   },
   "outputs": [
    {
     "name": "stdout",
     "output_type": "stream",
     "text": [
      "Filas duplicadas:\n",
      "Empty DataFrame\n",
      "Columns: [aisle_id, aisle]\n",
      "Index: []\n",
      "\n",
      "Filas duplicadas en departments_df (inicial): 0\n"
     ]
    }
   ],
   "source": [
    "# Revisa si hay filas totalmente duplicadas\n",
    "print(\"Filas duplicadas:\")\n",
    "print(aisles_df[aisles_df.duplicated()])\n",
    "print()\n",
    "print(\"Filas duplicadas en departments_df (inicial):\", aisles_df.duplicated().sum()) #Cuenta las FILAS duplicadas"
   ]
  },
  {
   "cell_type": "code",
   "execution_count": 27,
   "id": "da7c2822",
   "metadata": {
    "id": "da7c2822"
   },
   "outputs": [
    {
     "name": "stdout",
     "output_type": "stream",
     "text": [
      "Duplicados de ID de pasillos: 0\n"
     ]
    }
   ],
   "source": [
    "# Revisa únicamente si hay IDs duplicadas de pasillos\n",
    "print(\"Duplicados de ID de pasillos:\", aisles_df[\"aisle_id\"].duplicated().sum())"
   ]
  },
  {
   "cell_type": "markdown",
   "id": "ac63826f",
   "metadata": {
    "id": "ac63826f"
   },
   "source": [
    "Describe brevemente tus hallazgos y lo que hiciste con ellos."
   ]
  },
  {
   "cell_type": "markdown",
   "id": "e08f1f07-4f79-46af-8868-39e92e3d914a",
   "metadata": {},
   "source": [
    "<div style=\"color: blue;\">\n",
    "No hay valores duplicados en el dataframe de departamentos\n",
    "</div>"
   ]
  },
  {
   "cell_type": "markdown",
   "id": "274cd06a",
   "metadata": {
    "id": "274cd06a"
   },
   "source": [
    "### `order_products` data frame"
   ]
  },
  {
   "cell_type": "code",
   "execution_count": 28,
   "id": "52326689-84a8-4b8f-a881-7c68780f62c9",
   "metadata": {
    "id": "52326689-84a8-4b8f-a881-7c68780f62c9"
   },
   "outputs": [
    {
     "name": "stdout",
     "output_type": "stream",
     "text": [
      "Filas duplicadas:\n",
      "Empty DataFrame\n",
      "Columns: [order_id, product_id, add_to_cart_order, reordered]\n",
      "Index: []\n",
      "\n",
      "Filas duplicadas en departments_df (inicial): 0\n"
     ]
    }
   ],
   "source": [
    "# Revisa si hay filas totalmente duplicadas\n",
    "print(\"Filas duplicadas:\")\n",
    "print(order_products_df[order_products_df.duplicated()])\n",
    "print()\n",
    "print(\"Filas duplicadas en departments_df (inicial):\", order_products_df.duplicated().sum()) #Cuenta las FILAS duplicadas"
   ]
  },
  {
   "cell_type": "code",
   "execution_count": 29,
   "id": "7b861391",
   "metadata": {
    "id": "7b861391"
   },
   "outputs": [
    {
     "name": "stdout",
     "output_type": "stream",
     "text": [
      "Duplicados de ID de órdenes: 4094961\n",
      "\n",
      "Duplicados de ID de productos: 4499434\n"
     ]
    }
   ],
   "source": [
    "# Vuelve a verificar si hay cualquier otro duplicado engañoso\n",
    "print(\"Duplicados de ID de órdenes:\", order_products_df[\"order_id\"].duplicated().sum())\n",
    "print()\n",
    "print(\"Duplicados de ID de productos:\", order_products_df[\"product_id\"].duplicated().sum())"
   ]
  },
  {
   "cell_type": "code",
   "execution_count": 30,
   "id": "9d175a7e-7292-4e85-8ade-8d72f60b446e",
   "metadata": {},
   "outputs": [
    {
     "name": "stdout",
     "output_type": "stream",
     "text": [
      "Valore unívocos de ID de órdenes:\n",
      " 61355      127\n",
      "3308010    115\n",
      "2136777    108\n",
      "171934     104\n",
      "1959075     98\n",
      "          ... \n",
      "54659        1\n",
      "210431       1\n",
      "1717983      1\n",
      "1136563      1\n",
      "8196         1\n",
      "Name: order_id, Length: 450046, dtype: int64\n",
      "\n",
      "Top 20 de órdener con más apariciones:\n",
      " 61355      127\n",
      "3308010    115\n",
      "2136777    108\n",
      "171934     104\n",
      "1959075     98\n",
      "102236      95\n",
      "1730767     95\n",
      "1800005     92\n",
      "2926893     92\n",
      "1386261     91\n",
      "264710      91\n",
      "936852      87\n",
      "1717990     86\n",
      "3125735     86\n",
      "2721963     86\n",
      "813364      85\n",
      "1968313     80\n",
      "1832957     78\n",
      "1673227     78\n",
      "844733      77\n",
      "Name: order_id, dtype: int64\n",
      "\n",
      "Las 20 órdenes que menos parecen:\n",
      " 3163038    1\n",
      "2367762    1\n",
      "3088508    1\n",
      "2678916    1\n",
      "2834672    1\n",
      "2277824    1\n",
      "3281882    1\n",
      "1859055    1\n",
      "181696     1\n",
      "214512     1\n",
      "2066024    1\n",
      "2981929    1\n",
      "1420497    1\n",
      "1510533    1\n",
      "3339207    1\n",
      "54659      1\n",
      "210431     1\n",
      "1717983    1\n",
      "1136563    1\n",
      "8196       1\n",
      "Name: order_id, dtype: int64\n"
     ]
    }
   ],
   "source": [
    "print(\"Valore unívocos de ID de órdenes:\\n\", order_products_df[\"order_id\"].value_counts())\n",
    "print()\n",
    "print(\"Top 20 de órdener con más apariciones:\\n\", order_products_df[\"order_id\"].value_counts().head(20))\n",
    "print()\n",
    "print(\"Las 20 órdenes que menos parecen:\\n\", order_products_df[\"order_id\"].value_counts().tail(20))"
   ]
  },
  {
   "cell_type": "code",
   "execution_count": 31,
   "id": "07d263ca-440a-48c9-b593-dad2a9635072",
   "metadata": {},
   "outputs": [
    {
     "name": "stdout",
     "output_type": "stream",
     "text": [
      "Valore unívocos de ID de productos:\n",
      " 24852    66050\n",
      "13176    53297\n",
      "21137    37039\n",
      "21903    33971\n",
      "47209    29773\n",
      "         ...  \n",
      "10543        1\n",
      "5222         1\n",
      "2347         1\n",
      "11893        1\n",
      "32074        1\n",
      "Name: product_id, Length: 45573, dtype: int64\n"
     ]
    }
   ],
   "source": [
    "print(\"Valore unívocos de ID de productos:\\n\", order_products_df[\"product_id\"].value_counts())"
   ]
  },
  {
   "cell_type": "code",
   "execution_count": 32,
   "id": "98c94c2d-deb8-4ddf-b4a3-adc49764ad25",
   "metadata": {},
   "outputs": [
    {
     "name": "stdout",
     "output_type": "stream",
     "text": [
      "        order_id                                         product_id  \\\n",
      "358253   2721397                     [49235, 6729, 43721, 40969, 1]   \n",
      "58549     446856          [21724, 21454, 22528, 2470, 26390, 40536]   \n",
      "47611     363844                                      [29894, 8174]   \n",
      "338790   2572774  [25884, 29180, 19057, 24184, 30489, 2295, 1529...   \n",
      "172279   1311785  [48112, 11710, 21137, 38275, 36316, 28199, 366...   \n",
      "360257   2736322                               [12572, 41836, 1398]   \n",
      "187775   1428657  [1408, 41665, 18670, 6598, 14218, 40852, 28373...   \n",
      "354377   2691916                [12576, 47977, 31066, 49235, 40549]   \n",
      "58377     445512  [36036, 34, 33000, 6585, 3765, 21019, 39781, 3...   \n",
      "353614   2685817         [32303, 28204, 38720, 21903, 24852, 27845]   \n",
      "\n",
      "                                        add_to_cart_order  \\\n",
      "358253                                    [3, 4, 2, 1, 5]   \n",
      "58549                                  [6, 3, 1, 2, 4, 5]   \n",
      "47611                                              [2, 1]   \n",
      "338790  [3, 5, 22, 15, 17, 14, 16, 6, 2, 21, 4, 23, 11...   \n",
      "172279  [9, 19, 8, 7, 15, 10, 5, 16, 12, 4, 6, 13, 14,...   \n",
      "360257                                          [2, 3, 1]   \n",
      "187775                [8, 10, 7, 4, 6, 2, 1, 9, 5, 3, 11]   \n",
      "354377                                    [4, 3, 1, 2, 5]   \n",
      "58377                            [2, 4, 3, 1, 5, 7, 6, 8]   \n",
      "353614                                 [3, 5, 6, 2, 1, 4]   \n",
      "\n",
      "                                                reordered  \n",
      "358253                                    [0, 0, 0, 0, 0]  \n",
      "58549                                  [0, 0, 0, 0, 0, 0]  \n",
      "47611                                              [0, 0]  \n",
      "338790  [1, 1, 0, 0, 1, 0, 0, 1, 1, 1, 1, 1, 0, 0, 0, ...  \n",
      "172279  [1, 1, 1, 1, 0, 1, 1, 1, 1, 1, 1, 1, 1, 1, 1, ...  \n",
      "360257                                          [1, 1, 1]  \n",
      "187775                  [1, 0, 1, 1, 1, 1, 1, 1, 1, 1, 0]  \n",
      "354377                                    [0, 0, 0, 0, 0]  \n",
      "58377                            [0, 1, 1, 1, 1, 1, 0, 1]  \n",
      "353614                                 [0, 0, 0, 1, 1, 1]  \n"
     ]
    }
   ],
   "source": [
    "# Agrupar por order_id y crear listas de product_id\n",
    "grouped_lists = order_products_df.groupby('order_id').agg({\n",
    "    'product_id': list,\n",
    "    'add_to_cart_order': list,\n",
    "    'reordered': list\n",
    "}).reset_index()\n",
    "\n",
    "# Imprimir una muestra de 10 órdenes\n",
    "print(grouped_lists.sample(10))"
   ]
  },
  {
   "cell_type": "markdown",
   "id": "0b890492",
   "metadata": {
    "id": "0b890492"
   },
   "source": [
    "Describe brevemente tus hallazgos y lo que hiciste con ellos."
   ]
  },
  {
   "cell_type": "markdown",
   "id": "9ba7d044-1d83-4357-880c-0fcbf47f632d",
   "metadata": {},
   "source": [
    "<div style=\"color: blue;\">\n",
    "Hay IDs tanto de órdenes de productos duplicados. No obsatnte, esto es esperable por la información contiene el dataframe de órdenes de producto. Dado que una sola orden puede tener muchos productos, en este dataframe el ID de orden aparace por cada ID de producto que fue adquirido en esa orden.\n",
    "    \n",
    "Por ejemplo: Si el ID 100 de orden contiene 20 productos diferentes (20 ID de producto), el ID 100 aparecerá listado 20 veces en el dataframe de productos ordenados.\n",
    "\n",
    "Los productos, por otro lado, diferentes órdenes pueden haber comprado los mismos productos, de ahí que también haya duplicados de productos.\n",
    "En resumen, es normal y esperable, que el dataframe de órdenes de producto contenga IDs de órden e IDs de producto duplicados. Siempre y cuando NO haya FILA DUPLICADAS, se puede tomar por bueno este dataframe.\n",
    "</div>"
   ]
  },
  {
   "cell_type": "markdown",
   "id": "1e46de76",
   "metadata": {
    "id": "1e46de76"
   },
   "source": [
    "## Encuentra y elimina los valores ausentes\n",
    "\n",
    "Al trabajar con valores duplicados, pudimos observar que también nos falta investigar valores ausentes:\n",
    "\n",
    "* La columna `'product_name'` de la tabla products.\n",
    "* La columna `'days_since_prior_order'` de la tabla orders.\n",
    "* La columna `'add_to_cart_order'` de la tabla order_productos."
   ]
  },
  {
   "cell_type": "markdown",
   "id": "c0aebd78",
   "metadata": {
    "id": "c0aebd78"
   },
   "source": [
    "### `products` data frame"
   ]
  },
  {
   "cell_type": "code",
   "execution_count": 33,
   "id": "fe4a8b0f",
   "metadata": {
    "id": "fe4a8b0f"
   },
   "outputs": [
    {
     "name": "stdout",
     "output_type": "stream",
     "text": [
      "Suma de valores ausentes en la columna 'product_name' de products_df: 1258\n",
      "\n",
      "Nombres ausentes de productos:\n",
      "        product_id product_name  aisle_id  department_id\n",
      "37             38          NaN       100             21\n",
      "71             72          NaN       100             21\n",
      "109           110          NaN       100             21\n",
      "296           297          NaN       100             21\n",
      "416           417          NaN       100             21\n",
      "...           ...          ...       ...            ...\n",
      "49552       49553          NaN       100             21\n",
      "49574       49575          NaN       100             21\n",
      "49640       49641          NaN       100             21\n",
      "49663       49664          NaN       100             21\n",
      "49668       49669          NaN       100             21\n",
      "\n",
      "[1258 rows x 4 columns]\n"
     ]
    }
   ],
   "source": [
    "# Encuentra los valores ausentes en la columna 'product_name'\n",
    "print(\"Suma de valores ausentes en la columna 'product_name' de products_df:\",missing_products[\"product_name\"].isna().sum())\n",
    "print()\n",
    "print(\"Nombres ausentes de productos:\\n\",missing_products)"
   ]
  },
  {
   "cell_type": "markdown",
   "id": "-A6x1AbJhjkp",
   "metadata": {
    "id": "-A6x1AbJhjkp"
   },
   "source": [
    "Describe brevemente cuáles son tus hallazgos."
   ]
  },
  {
   "cell_type": "markdown",
   "id": "c9f645f6-512d-4a53-bf21-81b44d78d814",
   "metadata": {},
   "source": [
    "<div style=\"color: blue;\">\n",
    "Hay 1258 valores ausentes, al parecer, todos en el pasillo 100 y el departamento 21\n",
    "</div>"
   ]
  },
  {
   "cell_type": "code",
   "execution_count": 34,
   "id": "e96167bc",
   "metadata": {
    "id": "e96167bc"
   },
   "outputs": [
    {
     "name": "stdout",
     "output_type": "stream",
     "text": [
      "Valores unívocos de ID de pasillo de los productos sin mombre:\n",
      " 100    1258\n",
      "Name: aisle_id, dtype: int64\n"
     ]
    }
   ],
   "source": [
    "#  ¿Todos los nombres de productos ausentes están relacionados con el pasillo con ID 100?\n",
    "print(\"Valores unívocos de ID de pasillo de los productos sin mombre:\\n\",missing_products[\"aisle_id\"].value_counts()) #Contamos los ID unívocos\n",
    "#de pasillo"
   ]
  },
  {
   "cell_type": "markdown",
   "id": "WRpIfXRphpSL",
   "metadata": {
    "id": "WRpIfXRphpSL"
   },
   "source": [
    "Describe brevemente cuáles son tus hallazgos."
   ]
  },
  {
   "cell_type": "markdown",
   "id": "8cd9f9b6-3860-47e8-a2ff-b5d95e71183b",
   "metadata": {},
   "source": [
    "<div style=\"color: blue;\">\n",
    "Todos los valores ausentes pertenencen al departamento pasillo 100\n",
    "</div>"
   ]
  },
  {
   "cell_type": "code",
   "execution_count": 35,
   "id": "8fd0a541",
   "metadata": {
    "id": "8fd0a541"
   },
   "outputs": [
    {
     "name": "stdout",
     "output_type": "stream",
     "text": [
      "Valores unívocos de ID de departamento de los productos sin mombre:\n",
      " 21    1258\n",
      "Name: department_id, dtype: int64\n"
     ]
    }
   ],
   "source": [
    "# ¿Todos los nombres de productos ausentes están relacionados con el departamento con ID 21?\n",
    "print(\"Valores unívocos de ID de departamento de los productos sin mombre:\\n\",missing_products[\"department_id\"].value_counts()) #Contamos los ID unívocos \n",
    "#de departamento"
   ]
  },
  {
   "cell_type": "markdown",
   "id": "qDpdYn1Fht_I",
   "metadata": {
    "id": "qDpdYn1Fht_I"
   },
   "source": [
    "Describe brevemente cuáles son tus hallazgos."
   ]
  },
  {
   "cell_type": "markdown",
   "id": "40d0016c-9f26-48fa-9417-9a3ff4b16df9",
   "metadata": {},
   "source": [
    "<div style=\"color: blue;\">\n",
    "Todos los valores ausentes pertenencen al departamento 21\n",
    "</div>"
   ]
  },
  {
   "cell_type": "code",
   "execution_count": 36,
   "id": "325c3464",
   "metadata": {
    "id": "325c3464"
   },
   "outputs": [
    {
     "name": "stdout",
     "output_type": "stream",
     "text": [
      "    aisle_id    aisle\n",
      "99       100  missing\n",
      "\n",
      "\n",
      "    department_id department\n",
      "20             21    missing\n"
     ]
    }
   ],
   "source": [
    "# Usa las tablas department y aisle para revisar los datos del pasillo con ID 100 y el departamento con ID 21.\n",
    "print(aisles_df.query(\"aisle_id == 100\")) #información del pasillo 100\n",
    "print()\n",
    "print()\n",
    "print(departments_df.query(\"department_id  == 21\")) #información del departamento 21"
   ]
  },
  {
   "cell_type": "markdown",
   "id": "nqhSTUPhhvEJ",
   "metadata": {
    "id": "nqhSTUPhhvEJ"
   },
   "source": [
    "Describe brevemente cuáles son tus hallazgos."
   ]
  },
  {
   "cell_type": "markdown",
   "id": "5b1f383c-6649-427c-b08b-49c5dc28a944",
   "metadata": {},
   "source": [
    "<div style=\"color: blue;\">\n",
    "Ambos, pasillo 100 y departamento 21 son datos faltantes.\n",
    "</div>"
   ]
  },
  {
   "cell_type": "code",
   "execution_count": 37,
   "id": "6b295120",
   "metadata": {
    "id": "6b295120"
   },
   "outputs": [
    {
     "name": "stdout",
     "output_type": "stream",
     "text": [
      "Nombres de producto ausentes: 0\n",
      "\n"
     ]
    },
    {
     "data": {
      "text/html": [
       "<div>\n",
       "<style scoped>\n",
       "    .dataframe tbody tr th:only-of-type {\n",
       "        vertical-align: middle;\n",
       "    }\n",
       "\n",
       "    .dataframe tbody tr th {\n",
       "        vertical-align: top;\n",
       "    }\n",
       "\n",
       "    .dataframe thead th {\n",
       "        text-align: right;\n",
       "    }\n",
       "</style>\n",
       "<table border=\"1\" class=\"dataframe\">\n",
       "  <thead>\n",
       "    <tr style=\"text-align: right;\">\n",
       "      <th></th>\n",
       "      <th>product_id</th>\n",
       "      <th>product_name</th>\n",
       "      <th>aisle_id</th>\n",
       "      <th>department_id</th>\n",
       "    </tr>\n",
       "  </thead>\n",
       "  <tbody>\n",
       "    <tr>\n",
       "      <th>0</th>\n",
       "      <td>1</td>\n",
       "      <td>chocolate sandwich cookies</td>\n",
       "      <td>61</td>\n",
       "      <td>19</td>\n",
       "    </tr>\n",
       "    <tr>\n",
       "      <th>1</th>\n",
       "      <td>2</td>\n",
       "      <td>all-seasons salt</td>\n",
       "      <td>104</td>\n",
       "      <td>13</td>\n",
       "    </tr>\n",
       "    <tr>\n",
       "      <th>2</th>\n",
       "      <td>3</td>\n",
       "      <td>robust golden unsweetened oolong tea</td>\n",
       "      <td>94</td>\n",
       "      <td>7</td>\n",
       "    </tr>\n",
       "    <tr>\n",
       "      <th>3</th>\n",
       "      <td>4</td>\n",
       "      <td>smart ones classic favorites mini rigatoni wit...</td>\n",
       "      <td>38</td>\n",
       "      <td>1</td>\n",
       "    </tr>\n",
       "    <tr>\n",
       "      <th>4</th>\n",
       "      <td>5</td>\n",
       "      <td>green chile anytime sauce</td>\n",
       "      <td>5</td>\n",
       "      <td>13</td>\n",
       "    </tr>\n",
       "    <tr>\n",
       "      <th>...</th>\n",
       "      <td>...</td>\n",
       "      <td>...</td>\n",
       "      <td>...</td>\n",
       "      <td>...</td>\n",
       "    </tr>\n",
       "    <tr>\n",
       "      <th>49585</th>\n",
       "      <td>49553</td>\n",
       "      <td>Unknown</td>\n",
       "      <td>100</td>\n",
       "      <td>21</td>\n",
       "    </tr>\n",
       "    <tr>\n",
       "      <th>49586</th>\n",
       "      <td>49575</td>\n",
       "      <td>Unknown</td>\n",
       "      <td>100</td>\n",
       "      <td>21</td>\n",
       "    </tr>\n",
       "    <tr>\n",
       "      <th>49587</th>\n",
       "      <td>49641</td>\n",
       "      <td>Unknown</td>\n",
       "      <td>100</td>\n",
       "      <td>21</td>\n",
       "    </tr>\n",
       "    <tr>\n",
       "      <th>49588</th>\n",
       "      <td>49664</td>\n",
       "      <td>Unknown</td>\n",
       "      <td>100</td>\n",
       "      <td>21</td>\n",
       "    </tr>\n",
       "    <tr>\n",
       "      <th>49589</th>\n",
       "      <td>49669</td>\n",
       "      <td>Unknown</td>\n",
       "      <td>100</td>\n",
       "      <td>21</td>\n",
       "    </tr>\n",
       "  </tbody>\n",
       "</table>\n",
       "<p>49590 rows × 4 columns</p>\n",
       "</div>"
      ],
      "text/plain": [
       "       product_id                                       product_name  \\\n",
       "0               1                         chocolate sandwich cookies   \n",
       "1               2                                   all-seasons salt   \n",
       "2               3               robust golden unsweetened oolong tea   \n",
       "3               4  smart ones classic favorites mini rigatoni wit...   \n",
       "4               5                          green chile anytime sauce   \n",
       "...           ...                                                ...   \n",
       "49585       49553                                            Unknown   \n",
       "49586       49575                                            Unknown   \n",
       "49587       49641                                            Unknown   \n",
       "49588       49664                                            Unknown   \n",
       "49589       49669                                            Unknown   \n",
       "\n",
       "       aisle_id  department_id  \n",
       "0            61             19  \n",
       "1           104             13  \n",
       "2            94              7  \n",
       "3            38              1  \n",
       "4             5             13  \n",
       "...         ...            ...  \n",
       "49585       100             21  \n",
       "49586       100             21  \n",
       "49587       100             21  \n",
       "49588       100             21  \n",
       "49589       100             21  \n",
       "\n",
       "[49590 rows x 4 columns]"
      ]
     },
     "execution_count": 37,
     "metadata": {},
     "output_type": "execute_result"
    }
   ],
   "source": [
    "# Completa los nombres de productos ausentes con 'Unknown'\n",
    "products_df['product_name'] = products_df['product_name'].fillna('Unknown')\n",
    "print(\"Nombres de producto ausentes:\", products_df['product_name'].isna().sum()) #verificamos si quedaron nombres ausentes.\n",
    "print()\n",
    "products_df"
   ]
  },
  {
   "cell_type": "markdown",
   "id": "fc70e5ad",
   "metadata": {
    "id": "fc70e5ad"
   },
   "source": [
    "Describe brevemente tus hallazgos y lo que hiciste con ellos."
   ]
  },
  {
   "cell_type": "markdown",
   "id": "a645b25a-c844-4e1c-a9cd-16a8bfa46b16",
   "metadata": {},
   "source": [
    "<div style=\"color: blue;\">\n",
    "Descubrí que los nombres de producto ausentes estaban todos relacionados con el mismo pasillo y departamento. Al revisar la información de ambos en sus respectivos dataframes, observé que ambos estaban nombrados como \"missing\" (faltante); por lo que, a los productos provenientes de ese pasillo y departamento los renombré como \"unknown\" (desconocido).\n",
    "</div>"
   ]
  },
  {
   "cell_type": "markdown",
   "id": "1dccbfbb-59ee-4c12-930b-983a692c541d",
   "metadata": {},
   "source": [
    "\n",
    "<div class=\"alert alert-block alert-success\">\n",
    "<b>Comentario del revisor</b> <a class=\"tocSkip\"></a>\n",
    "\n",
    "Muy buen trabajo!! Desarrollaste de manera excelente el análisis de valores faltantes y los llenaste con \"unknown\".\n",
    "    \n",
    "</div>"
   ]
  },
  {
   "cell_type": "markdown",
   "id": "7eb45c86",
   "metadata": {
    "id": "7eb45c86"
   },
   "source": [
    "### `orders` data frame"
   ]
  },
  {
   "cell_type": "code",
   "execution_count": 38,
   "id": "93e41d96",
   "metadata": {
    "id": "93e41d96"
   },
   "outputs": [
    {
     "name": "stdout",
     "output_type": "stream",
     "text": [
      "Suma de valores ausentes en la columna 'days_since_prior_order' de products_df: 28817\n",
      "\n",
      "Nombres ausentes de productos:\n",
      "         order_id  user_id  order_number  order_dow  order_hour_of_day  \\\n",
      "28        133707   182261             1          3                 10   \n",
      "96        787445    25685             1          6                 18   \n",
      "100       294410   111449             1          0                 19   \n",
      "103      2869915   123958             1          4                 16   \n",
      "104      2521921    42286             1          3                 18   \n",
      "...          ...      ...           ...        ...                ...   \n",
      "478880   2589657   205028             1          0                 16   \n",
      "478881   2222353   141211             1          2                 13   \n",
      "478907   2272807   204154             1          1                 15   \n",
      "478911   2499542    68810             1          4                 19   \n",
      "478930   1387033    22496             1          5                 14   \n",
      "\n",
      "        days_since_prior_order  \n",
      "28                        <NA>  \n",
      "96                        <NA>  \n",
      "100                       <NA>  \n",
      "103                       <NA>  \n",
      "104                       <NA>  \n",
      "...                        ...  \n",
      "478880                    <NA>  \n",
      "478881                    <NA>  \n",
      "478907                    <NA>  \n",
      "478911                    <NA>  \n",
      "478930                    <NA>  \n",
      "\n",
      "[28817 rows x 6 columns]\n"
     ]
    }
   ],
   "source": [
    "# Encuentra los valores ausentes\n",
    "missing_orders_df = instacart_orders_df[instacart_orders_df[\"days_since_prior_order\"].isna()]\n",
    "print(\"Suma de valores ausentes en la columna 'days_since_prior_order' de products_df:\", missing_orders_df[\"days_since_prior_order\"].isna().sum())\n",
    "print()\n",
    "print(\"Nombres ausentes de productos:\\n\", missing_orders_df)"
   ]
  },
  {
   "cell_type": "code",
   "execution_count": 39,
   "id": "166e5a86",
   "metadata": {
    "id": "166e5a86"
   },
   "outputs": [
    {
     "name": "stdout",
     "output_type": "stream",
     "text": [
      "Valores unívocos de número de orden, de las órdenes con datos ausentes:\n",
      " 1    28817\n",
      "Name: order_number, dtype: int64\n"
     ]
    }
   ],
   "source": [
    "# ¿Hay algún valor ausente que no sea el primer pedido del cliente?\n",
    "print(\"Valores unívocos de número de orden, de las órdenes con datos ausentes:\\n\",missing_orders_df[\"order_number\"].value_counts()) #Contamos los valores\n",
    "#unívocos de la columna número de orden"
   ]
  },
  {
   "cell_type": "markdown",
   "id": "4e23d089",
   "metadata": {
    "id": "4e23d089"
   },
   "source": [
    "Describe brevemente tus hallazgos y lo que hiciste con ellos."
   ]
  },
  {
   "cell_type": "markdown",
   "id": "c5ab9b5f-9b7d-41f6-938f-1e34d8ca681e",
   "metadata": {},
   "source": [
    "<div style=\"color: blue;\">\n",
    "Sólamente la columna \"days_since_prior_order\" tiene valores ausentes. En todos los casos con esta condiciónn, coincide que son el primer número de orden (order_number = 1); los cual tiene sentido, pues dado que es la primera vez que se reliza la orden, no hay órdenes previas y, por ende, no han trancurrido días desde de la orden previa. Lo mejor sería rellenar todos estos valores ausentes con un cero.\n",
    "</div>"
   ]
  },
  {
   "cell_type": "code",
   "execution_count": 40,
   "id": "1fed66d1-96b7-49f8-9ff3-88895e87fd66",
   "metadata": {},
   "outputs": [
    {
     "name": "stdout",
     "output_type": "stream",
     "text": [
      "Nombres de producto ausentes: 0\n",
      "\n"
     ]
    },
    {
     "data": {
      "text/html": [
       "<div>\n",
       "<style scoped>\n",
       "    .dataframe tbody tr th:only-of-type {\n",
       "        vertical-align: middle;\n",
       "    }\n",
       "\n",
       "    .dataframe tbody tr th {\n",
       "        vertical-align: top;\n",
       "    }\n",
       "\n",
       "    .dataframe thead th {\n",
       "        text-align: right;\n",
       "    }\n",
       "</style>\n",
       "<table border=\"1\" class=\"dataframe\">\n",
       "  <thead>\n",
       "    <tr style=\"text-align: right;\">\n",
       "      <th></th>\n",
       "      <th>order_id</th>\n",
       "      <th>user_id</th>\n",
       "      <th>order_number</th>\n",
       "      <th>order_dow</th>\n",
       "      <th>order_hour_of_day</th>\n",
       "      <th>days_since_prior_order</th>\n",
       "    </tr>\n",
       "  </thead>\n",
       "  <tbody>\n",
       "    <tr>\n",
       "      <th>28</th>\n",
       "      <td>133707</td>\n",
       "      <td>182261</td>\n",
       "      <td>1</td>\n",
       "      <td>3</td>\n",
       "      <td>10</td>\n",
       "      <td>0</td>\n",
       "    </tr>\n",
       "    <tr>\n",
       "      <th>89</th>\n",
       "      <td>687909</td>\n",
       "      <td>50272</td>\n",
       "      <td>4</td>\n",
       "      <td>0</td>\n",
       "      <td>16</td>\n",
       "      <td>0</td>\n",
       "    </tr>\n",
       "    <tr>\n",
       "      <th>96</th>\n",
       "      <td>787445</td>\n",
       "      <td>25685</td>\n",
       "      <td>1</td>\n",
       "      <td>6</td>\n",
       "      <td>18</td>\n",
       "      <td>0</td>\n",
       "    </tr>\n",
       "    <tr>\n",
       "      <th>100</th>\n",
       "      <td>294410</td>\n",
       "      <td>111449</td>\n",
       "      <td>1</td>\n",
       "      <td>0</td>\n",
       "      <td>19</td>\n",
       "      <td>0</td>\n",
       "    </tr>\n",
       "    <tr>\n",
       "      <th>103</th>\n",
       "      <td>2869915</td>\n",
       "      <td>123958</td>\n",
       "      <td>1</td>\n",
       "      <td>4</td>\n",
       "      <td>16</td>\n",
       "      <td>0</td>\n",
       "    </tr>\n",
       "    <tr>\n",
       "      <th>...</th>\n",
       "      <td>...</td>\n",
       "      <td>...</td>\n",
       "      <td>...</td>\n",
       "      <td>...</td>\n",
       "      <td>...</td>\n",
       "      <td>...</td>\n",
       "    </tr>\n",
       "    <tr>\n",
       "      <th>478907</th>\n",
       "      <td>2272807</td>\n",
       "      <td>204154</td>\n",
       "      <td>1</td>\n",
       "      <td>1</td>\n",
       "      <td>15</td>\n",
       "      <td>0</td>\n",
       "    </tr>\n",
       "    <tr>\n",
       "      <th>478911</th>\n",
       "      <td>2499542</td>\n",
       "      <td>68810</td>\n",
       "      <td>1</td>\n",
       "      <td>4</td>\n",
       "      <td>19</td>\n",
       "      <td>0</td>\n",
       "    </tr>\n",
       "    <tr>\n",
       "      <th>478916</th>\n",
       "      <td>2797142</td>\n",
       "      <td>35780</td>\n",
       "      <td>5</td>\n",
       "      <td>4</td>\n",
       "      <td>22</td>\n",
       "      <td>0</td>\n",
       "    </tr>\n",
       "    <tr>\n",
       "      <th>478929</th>\n",
       "      <td>2319639</td>\n",
       "      <td>83068</td>\n",
       "      <td>49</td>\n",
       "      <td>4</td>\n",
       "      <td>23</td>\n",
       "      <td>0</td>\n",
       "    </tr>\n",
       "    <tr>\n",
       "      <th>478930</th>\n",
       "      <td>1387033</td>\n",
       "      <td>22496</td>\n",
       "      <td>1</td>\n",
       "      <td>5</td>\n",
       "      <td>14</td>\n",
       "      <td>0</td>\n",
       "    </tr>\n",
       "  </tbody>\n",
       "</table>\n",
       "<p>38406 rows × 6 columns</p>\n",
       "</div>"
      ],
      "text/plain": [
       "        order_id  user_id  order_number  order_dow  order_hour_of_day  \\\n",
       "28        133707   182261             1          3                 10   \n",
       "89        687909    50272             4          0                 16   \n",
       "96        787445    25685             1          6                 18   \n",
       "100       294410   111449             1          0                 19   \n",
       "103      2869915   123958             1          4                 16   \n",
       "...          ...      ...           ...        ...                ...   \n",
       "478907   2272807   204154             1          1                 15   \n",
       "478911   2499542    68810             1          4                 19   \n",
       "478916   2797142    35780             5          4                 22   \n",
       "478929   2319639    83068            49          4                 23   \n",
       "478930   1387033    22496             1          5                 14   \n",
       "\n",
       "        days_since_prior_order  \n",
       "28                           0  \n",
       "89                           0  \n",
       "96                           0  \n",
       "100                          0  \n",
       "103                          0  \n",
       "...                        ...  \n",
       "478907                       0  \n",
       "478911                       0  \n",
       "478916                       0  \n",
       "478929                       0  \n",
       "478930                       0  \n",
       "\n",
       "[38406 rows x 6 columns]"
      ]
     },
     "execution_count": 40,
     "metadata": {},
     "output_type": "execute_result"
    }
   ],
   "source": [
    "# Completa los valores ausentes en \"days_since_prior_order\" con 0\n",
    "instacart_orders_df['days_since_prior_order'] = instacart_orders_df['days_since_prior_order'].fillna(0)\n",
    "print(\"Nombres de producto ausentes:\", instacart_orders_df['days_since_prior_order'].isna().sum()) #verificamos si quedaron nombres ausentes.\n",
    "print()\n",
    "instacart_orders_df.query(\"days_since_prior_order < 1\")"
   ]
  },
  {
   "cell_type": "markdown",
   "id": "69dc9ca4",
   "metadata": {
    "id": "69dc9ca4"
   },
   "source": [
    "### `order_products` data frame"
   ]
  },
  {
   "cell_type": "code",
   "execution_count": 41,
   "id": "b8240253",
   "metadata": {
    "id": "b8240253"
   },
   "outputs": [
    {
     "name": "stdout",
     "output_type": "stream",
     "text": [
      "Suma de valores ausentes en la columna 'order_id' de order_products_df: 0\n",
      "\n",
      "Suma de valores ausentes en la columna 'product_id' de order_products_df: 0\n",
      "\n",
      "Suma de valores ausentes en la columna 'add_to_cart_order' de order_products_df: 836\n",
      "\n",
      "Suma de valores ausentes en la columna 'reordered' de order_products_df: 0\n"
     ]
    }
   ],
   "source": [
    "# Encuentra los valores ausentes\n",
    "print(\"Suma de valores ausentes en la columna 'order_id' de order_products_df:\", order_products_df[\"order_id\"].isna().sum())\n",
    "print()\n",
    "print(\"Suma de valores ausentes en la columna 'product_id' de order_products_df:\", order_products_df[\"product_id\"].isna().sum())\n",
    "print()\n",
    "print(\"Suma de valores ausentes en la columna 'add_to_cart_order' de order_products_df:\", order_products_df[\"add_to_cart_order\"].isna().sum())\n",
    "print()\n",
    "print(\"Suma de valores ausentes en la columna 'reordered' de order_products_df:\", order_products_df[\"reordered\"].isna().sum())"
   ]
  },
  {
   "cell_type": "code",
   "execution_count": 42,
   "id": "9a78e5ee",
   "metadata": {
    "id": "9a78e5ee"
   },
   "outputs": [
    {
     "name": "stdout",
     "output_type": "stream",
     "text": [
      "Valor máximo en la columna 'add_to_cart_orde': 64\n",
      "Valor mínimo en la columna 'add_to_cart_orde': 1\n"
     ]
    }
   ],
   "source": [
    "# ¿Cuáles son los valores mínimos y máximos en esta columna?\n",
    "print(\"Valor máximo en la columna 'add_to_cart_orde':\" ,order_products_df[\"add_to_cart_order\"].max())\n",
    "print(\"Valor mínimo en la columna 'add_to_cart_orde':\",order_products_df[\"add_to_cart_order\"].min())"
   ]
  },
  {
   "cell_type": "markdown",
   "id": "-Z2Ja215jW78",
   "metadata": {
    "id": "-Z2Ja215jW78"
   },
   "source": [
    "Describe brevemente cuáles son tus hallazgos."
   ]
  },
  {
   "cell_type": "markdown",
   "id": "e1177ca5-d5c4-472d-b968-cafba72f381d",
   "metadata": {},
   "source": [
    "<div style=\"color: blue;\">\n",
    "Sólo la columna 'add_to_cart_order' tiene valores ausentes, lo cual no tiene sentido, pues a todos los productos se les asigna un lugar (1ro, 2do, ... 10mo...) según se fueron agregando al carrito.\n",
    "</div>"
   ]
  },
  {
   "cell_type": "code",
   "execution_count": 43,
   "id": "ab9d0c2b",
   "metadata": {
    "id": "ab9d0c2b"
   },
   "outputs": [
    {
     "name": "stdout",
     "output_type": "stream",
     "text": [
      "         order_id  product_id  add_to_cart_order  reordered\n",
      "737       2449164        5068               <NA>          0\n",
      "9926      1968313       43867               <NA>          0\n",
      "14394     2926893       11688               <NA>          0\n",
      "16418     1717990        4142               <NA>          0\n",
      "30114     1959075       42828               <NA>          1\n",
      "...           ...         ...                ...        ...\n",
      "4505662   1800005        7411               <NA>          0\n",
      "4511400   1633337         260               <NA>          0\n",
      "4517562    404157        9517               <NA>          0\n",
      "4534112   1673227       17835               <NA>          0\n",
      "4535739   1832957       17949               <NA>          1\n",
      "\n",
      "[836 rows x 4 columns]\n",
      "\n",
      "737        2449164\n",
      "9926       1968313\n",
      "14394      2926893\n",
      "16418      1717990\n",
      "30114      1959075\n",
      "            ...   \n",
      "4505662    1800005\n",
      "4511400    1633337\n",
      "4517562     404157\n",
      "4534112    1673227\n",
      "4535739    1832957\n",
      "Name: order_id, Length: 836, dtype: int64\n"
     ]
    }
   ],
   "source": [
    "# Guarda todas las IDs de pedidos que tengan un valor ausente en 'add_to_cart_order'\n",
    "missing_add_to_cart_order = order_products_df[order_products_df[\"add_to_cart_order\"].isna()]\n",
    "print(missing_add_to_cart_order)\n",
    "id_of_missing_add_to_cart_order = missing_add_to_cart_order['order_id']\n",
    "print()\n",
    "print(id_of_missing_add_to_cart_order)"
   ]
  },
  {
   "cell_type": "code",
   "execution_count": 44,
   "id": "54c31695",
   "metadata": {
    "id": "54c31695"
   },
   "outputs": [
    {
     "name": "stdout",
     "output_type": "stream",
     "text": [
      "    order_id  product_count\n",
      "0       9310              1\n",
      "1      61355             63\n",
      "2     102236             31\n",
      "3     129627              5\n",
      "4     165801              6\n",
      "..       ...            ...\n",
      "65   2999801              6\n",
      "66   3125735             22\n",
      "67   3308010             51\n",
      "68   3347453              7\n",
      "69   3383594              5\n",
      "\n",
      "[70 rows x 2 columns]\n",
      "\n",
      "Número mínimo de productos en pedidos con add_to_cart_order ausente: 1\n",
      "¿Todos los pedidos con valores ausentes tienen más de 64 productos?: False\n"
     ]
    }
   ],
   "source": [
    "# ¿Todos los pedidos con valores ausentes tienen más de 64 productos?\n",
    "# Agrupa todos los pedidos con datos ausentes por su ID de pedido.\n",
    "# Cuenta el número de 'product_id' en cada pedido y revisa el valor mínimo del conteo.\n",
    "\n",
    "# Agrupar pedidos con add_to_cart_order ausente por order_id y contar productos\n",
    "missing_order_counts = missing_add_to_cart_order.groupby('order_id')['product_id'].count().reset_index(name='product_count')\n",
    "print(missing_order_counts)\n",
    "print()\n",
    "\n",
    "# Encontrar el valor mínimo del conteo\n",
    "min_product_count = missing_order_counts['product_count'].min()\n",
    "\n",
    "# Verificar si todos los pedidos tienen más de 64 productos\n",
    "all_above_64 = min_product_count > 64\n",
    "\n",
    "print(\"Número mínimo de productos en pedidos con add_to_cart_order ausente:\", min_product_count)\n",
    "print(\"¿Todos los pedidos con valores ausentes tienen más de 64 productos?:\", all_above_64)"
   ]
  },
  {
   "cell_type": "markdown",
   "id": "p9V6pddtjglj",
   "metadata": {
    "id": "p9V6pddtjglj"
   },
   "source": [
    "Describe brevemente cuáles son tus hallazgos."
   ]
  },
  {
   "cell_type": "markdown",
   "id": "d9f00b45-5d97-4a46-9973-64af06a9257a",
   "metadata": {},
   "source": [
    "<div style=\"color: blue;\">\n",
    "Los pedidos con valores ausente son MENORES a 64 productos.\n",
    "</div>"
   ]
  },
  {
   "cell_type": "code",
   "execution_count": 45,
   "id": "7a987d08",
   "metadata": {
    "id": "7a987d08"
   },
   "outputs": [
    {
     "name": "stdout",
     "output_type": "stream",
     "text": [
      "Valores ausentes en add_to_cart_order: 0\n",
      "Tipo de dato de add_to_cart_order: int64\n",
      "         order_id  product_id  add_to_cart_order  reordered\n",
      "737       2449164        5068                999          0\n",
      "3463       871281       40063                 61          1\n",
      "6768      2729254       13176                 61          0\n",
      "9926      1968313       43867                999          0\n",
      "13027      180546       26454                 63          0\n",
      "...           ...         ...                ...        ...\n",
      "4511400   1633337         260                999          0\n",
      "4517562    404157        9517                999          0\n",
      "4521208     61355       16262                 62          0\n",
      "4534112   1673227       17835                999          0\n",
      "4535739   1832957       17949                999          1\n",
      "\n",
      "[1337 rows x 4 columns]\n"
     ]
    }
   ],
   "source": [
    "# Remplaza los valores ausentes en la columna 'add_to_cart? con 999 y convierte la columna al tipo entero.\n",
    "\n",
    "order_products_df['add_to_cart_order'] = order_products_df['add_to_cart_order'].fillna(999) # Reemplazar valores ausentes en add_to_cart_order con 999\n",
    "\n",
    "order_products_df['add_to_cart_order'] = order_products_df['add_to_cart_order'].astype(int) # Convertir la columna a tipo entero\n",
    "\n",
    "# Verificar que no hay valores ausentes y el tipo de dato\n",
    "print(\"Valores ausentes en add_to_cart_order:\", order_products_df['add_to_cart_order'].isna().sum())\n",
    "print(\"Tipo de dato de add_to_cart_order:\", order_products_df['add_to_cart_order'].dtype)\n",
    "\n",
    "print(order_products_df.query(\"add_to_cart_order >= 60\"))"
   ]
  },
  {
   "cell_type": "markdown",
   "id": "fea4bcc7",
   "metadata": {
    "id": "fea4bcc7"
   },
   "source": [
    "Describe brevemente tus hallazgos y lo que hiciste con ellos."
   ]
  },
  {
   "cell_type": "markdown",
   "id": "f2e81958-d62b-4276-9c4f-6f2447922d77",
   "metadata": {},
   "source": [
    "<div style=\"color: blue;\">\n",
    "Todos los valores ausentes en la columna 'add_to_cart_order' fueron reemplazados por 999 y la columan fue convertida a tipo de dato int64.\n",
    "</div>"
   ]
  },
  {
   "cell_type": "markdown",
   "id": "5b913acb-040f-402e-b426-381713e68c33",
   "metadata": {},
   "source": [
    "\n",
    "<div class=\"alert alert-block alert-success\">\n",
    "<b>Comentario del revisor</b> <a class=\"tocSkip\"></a>\n",
    "\n",
    "Excelente forma de completar los valores nulos de add_to_cart con 999"
   ]
  },
  {
   "cell_type": "markdown",
   "id": "RnplPFY1gSrb",
   "metadata": {
    "id": "RnplPFY1gSrb"
   },
   "source": [
    "## Conclusiones\n",
    "\n",
    "Escribe aquí tus conclusiones intermedias sobre el Paso 2. Preprocesamiento de los datos\n"
   ]
  },
  {
   "cell_type": "markdown",
   "id": "15ec665d-7979-40ba-bdf4-644ad593c8a5",
   "metadata": {},
   "source": [
    "<div style=\"color: blue;\">\n",
    "Se hizo un preprocesamiento de datos, similar al proyecto del sprint 3, pero más exhaustivo. Se verificaron los valores duplicados, tanto explíocitos como implícitos, en cada uno de los 5 df. Se eliminaros los duplicados que podían distorsionar la información, como las filas enteras duplicadas, así como, los duplicados implícitos como en products_df.\n",
    "\n",
    "Posteriormente, se verificaron los datos ausentes en los df y se sustituyeron por valores significativos que nos ayudarán más adelante en el análisis de datos.\n",
    "\n",
    "Con lo anterior, se LIMPIARON los datos antes de comenzar a analizarlos.\n",
    "\n",
    "Por otro lado, en un principio pensé que algún dataframe contendría explícitamente cuántos productos fueron comprados en alguna orden o por algún cliente. Sin embargo, me dí cuanta que sólo se manejaron IDs, que dicho sea de paso, no se suelen usar para operaciones matemáticas;por lo que una de las propuestas en mi plan, que consistía en sustituir valores ausentes por la mediana o la media, fue totalmente descartada.\n",
    "</div>"
   ]
  },
  {
   "cell_type": "markdown",
   "id": "UjrOIwTcz3ri",
   "metadata": {
    "id": "UjrOIwTcz3ri"
   },
   "source": [
    "# Paso 3. Análisis de los datos\n",
    "\n",
    "Una vez los datos estén procesados y listos, haz el siguiente análisis:"
   ]
  },
  {
   "cell_type": "markdown",
   "id": "turkish-kidney",
   "metadata": {
    "id": "turkish-kidney"
   },
   "source": [
    "# [A] Fácil (deben completarse todos para aprobar)\n",
    "\n",
    "1. Verifica que los valores en las columnas `'order_hour_of_day'` y `'order_dow'` en la tabla orders sean razonables (es decir, `'order_hour_of_day'` oscile entre 0 y 23 y `'order_dow'` oscile entre 0 y 6).\n",
    "2. Crea un gráfico que muestre el número de personas que hacen pedidos dependiendo de la hora del día.\n",
    "3. Crea un gráfico que muestre qué día de la semana la gente hace sus compras.\n",
    "4. Crea un gráfico que muestre el tiempo que la gente espera hasta hacer su siguiente pedido, y comenta sobre los valores mínimos y máximos."
   ]
  },
  {
   "cell_type": "markdown",
   "id": "short-capability",
   "metadata": {
    "id": "short-capability"
   },
   "source": [
    "### [A1] Verifica que los valores sean sensibles"
   ]
  },
  {
   "cell_type": "code",
   "execution_count": 46,
   "id": "growing-fruit",
   "metadata": {
    "id": "growing-fruit"
   },
   "outputs": [
    {
     "data": {
      "text/plain": [
       "0      3180\n",
       "1      1763\n",
       "2       989\n",
       "3       770\n",
       "4       765\n",
       "5      1371\n",
       "6      4215\n",
       "7     13043\n",
       "8     25024\n",
       "9     35896\n",
       "10    40578\n",
       "11    40032\n",
       "12    38034\n",
       "13    39007\n",
       "14    39631\n",
       "15    39789\n",
       "16    38112\n",
       "17    31930\n",
       "18    25510\n",
       "19    19547\n",
       "20    14624\n",
       "21    11019\n",
       "22     8512\n",
       "23     5611\n",
       "Name: order_hour_of_day, dtype: int64"
      ]
     },
     "execution_count": 46,
     "metadata": {},
     "output_type": "execute_result"
    }
   ],
   "source": [
    "instacart_orders_df['order_hour_of_day'].value_counts().sort_index() #Revisamos los valores unívocos en la columna order_hour_of_day"
   ]
  },
  {
   "cell_type": "code",
   "execution_count": 47,
   "id": "accessory-malaysia",
   "metadata": {
    "id": "accessory-malaysia"
   },
   "outputs": [
    {
     "data": {
      "text/plain": [
       "0    84090\n",
       "1    82185\n",
       "2    65833\n",
       "3    60897\n",
       "4    59810\n",
       "5    63488\n",
       "6    62649\n",
       "Name: order_dow, dtype: int64"
      ]
     },
     "execution_count": 47,
     "metadata": {},
     "output_type": "execute_result"
    }
   ],
   "source": [
    "instacart_orders_df['order_dow'].value_counts().sort_index() ##Revisamos los valores unívocos en la columna order_dow"
   ]
  },
  {
   "cell_type": "markdown",
   "id": "98540964-b76b-45e2-a725-09d367ea2971",
   "metadata": {},
   "source": [
    "<div class=\"alert alert-block alert-warning\">\n",
    "<b>Comentario Revisor</b> <a class=\"tocSkip\"></a>\n",
    "\n",
    "Muy buena forma de revisar que los valores sean sensibles. Otra forma de hacerlo que puedes explorar más adeltante es el uso de la función .unique()\n",
    "</div>"
   ]
  },
  {
   "cell_type": "markdown",
   "id": "hmR2GNQ6lCsX",
   "metadata": {
    "id": "hmR2GNQ6lCsX"
   },
   "source": [
    "Escribe aquí tus conclusiones"
   ]
  },
  {
   "cell_type": "markdown",
   "id": "2074080b-90f6-485a-99be-bfa412a4c998",
   "metadata": {},
   "source": [
    "<div style=\"color: blue;\">\n",
    "Con el método value_counts() revisé todos los valores unívocos en ambas columnas. Luego, los imprimé por orden de índice para fácilmente validar que 'order_hour_of_day' oscila entre 0 y 23 y 'order_dow' oscila entre 0 y 6.\n",
    "</div>"
   ]
  },
  {
   "cell_type": "markdown",
   "id": "a6743a70",
   "metadata": {
    "id": "a6743a70"
   },
   "source": [
    "### [A2] Para cada hora del día, ¿cuántas personas hacen órdenes?"
   ]
  },
  {
   "cell_type": "code",
   "execution_count": 48,
   "id": "a36cca27",
   "metadata": {
    "id": "a36cca27"
   },
   "outputs": [
    {
     "data": {
      "image/png": "[encoded data removed]",
      "text/plain": [
       "<Figure size 1000x600 with 1 Axes>"
      ]
     },
     "metadata": {},
     "output_type": "display_data"
    }
   ],
   "source": [
    "# Contar pedidos por hora del día y ordenar por índice\n",
    "hourly_orders = instacart_orders_df['order_hour_of_day'].value_counts().sort_index().reset_index()\n",
    "\n",
    "#Asignamos las columnas que usaremos para los ejes\n",
    "hourly_orders.columns = ['hour', 'count']\n",
    "\n",
    "# Crear gráfica de barras\n",
    "hourly_orders.plot(\n",
    "    title='Number of Orders by Hour of Day',\n",
    "    x='hour',\n",
    "    y='count',\n",
    "    kind='bar',  # Tipo de gráfico: barras\n",
    "    ylim=[0, hourly_orders['count'].max() * 1.1],  # Límite superior 10% mayor que el máximo\n",
    "    figsize=[10, 6],  # Tamaño ajustado para mejor visibilidad\n",
    "    xlabel='Hour of Day (0-23)',\n",
    "    ylabel='Number of Orders',\n",
    "    color = 'green',\n",
    "    legend=False\n",
    ")\n",
    "\n",
    "plt.show()"
   ]
  },
  {
   "cell_type": "markdown",
   "id": "11270eed",
   "metadata": {
    "id": "11270eed"
   },
   "source": [
    "Escribe aquí tus conclusiones"
   ]
  },
  {
   "cell_type": "markdown",
   "id": "0e9c1c61-08f2-4fa5-a220-25fec0c66249",
   "metadata": {},
   "source": [
    "<div style=\"color: blue;\">\n",
    "La mayor cantidad de órdenes se dan entre las 10 y las 16 horas.\n",
    "</div>"
   ]
  },
  {
   "cell_type": "markdown",
   "id": "9a5a92b6-4dc1-4179-8bbc-a518f28b7843",
   "metadata": {},
   "source": [
    "<div class=\"alert alert-block alert-success\">\n",
    "<b>Comentario revisor</b> <a class=\"tocSkip\"></a>\n",
    "\n",
    "\n",
    "Muy buen trabajo el desarrollar una gráfica para visualizar los resultados\n",
    "</div>"
   ]
  },
  {
   "cell_type": "markdown",
   "id": "documented-command",
   "metadata": {
    "id": "documented-command"
   },
   "source": [
    "### [A3] ¿Qué día de la semana compran víveres las personas?"
   ]
  },
  {
   "cell_type": "code",
   "execution_count": 49,
   "id": "chief-digit",
   "metadata": {
    "id": "chief-digit"
   },
   "outputs": [
    {
     "data": {
      "image/png": "[encoded data removed]",
      "text/plain": [
       "<Figure size 1000x600 with 1 Axes>"
      ]
     },
     "metadata": {},
     "output_type": "display_data"
    }
   ],
   "source": [
    "# Contar pedidos por día de la semana y ordenar por índice\n",
    "dow_orders = instacart_orders_df['order_dow'].value_counts().sort_index().reset_index()\n",
    "\n",
    "#Asignamos las columnas que usaremos para los ejes\n",
    "dow_orders.columns = ['day', 'count']\n",
    "\n",
    "#Días de la semana\n",
    "week_day = ['Sunday', 'Monday', 'Tuesday', 'Wednesday', 'Thursday', 'Friday', 'Saturday']\n",
    "\n",
    "# Crear gráfica de barras\n",
    "dow_orders.plot(\n",
    "    title='Number of Orders by Day of Week',\n",
    "    x='day',\n",
    "    y='count',\n",
    "    kind='bar',\n",
    "    ylim=[0, dow_orders['count'].max() * 1.1],\n",
    "    figsize=[10, 6],\n",
    "    xlabel='Day of Week',\n",
    "    ylabel='Number of Orders',\n",
    "    color='green',\n",
    "    legend=False\n",
    ")\n",
    "\n",
    "# Mapear los valores numéricos a nombres de días\n",
    "plt.xticks(ticks=range(len(week_day)), labels=week_day, rotation=45)\n",
    "\n",
    "#Mostrar gráfica\n",
    "plt.show()"
   ]
  },
  {
   "cell_type": "markdown",
   "id": "dominant-lightning",
   "metadata": {
    "id": "dominant-lightning"
   },
   "source": [
    "Escribe aquí tus conclusiones"
   ]
  },
  {
   "cell_type": "markdown",
   "id": "99e459c2-7a99-4128-b191-4ff93b7838b1",
   "metadata": {},
   "source": [
    "<div style=\"color: blue;\">\n",
    "Las personas compran más víveres los días domingo y lunes (más de 8000), mientras que los días miércoles y jueves compran menos (6000 o menos).\n",
    "</div>"
   ]
  },
  {
   "cell_type": "markdown",
   "id": "cutting-concert",
   "metadata": {
    "id": "cutting-concert"
   },
   "source": [
    "### [A4] ¿Cuánto tiempo esperan las personas hasta hacer otro pedido? Comenta sobre los valores mínimos y máximos."
   ]
  },
  {
   "cell_type": "code",
   "execution_count": 51,
   "id": "cbaeebfe-9d5d-4d41-a102-c213aa882e77",
   "metadata": {},
   "outputs": [],
   "source": [
    "#print(instacart_orders_df['days_since_prior_order'].value_counts())"
   ]
  },
  {
   "cell_type": "code",
   "execution_count": 52,
   "id": "1d625828-0ac0-4972-a180-d37230bf5f45",
   "metadata": {},
   "outputs": [
    {
     "data": {
      "image/png": "[encoded data removed]",
      "text/plain": [
       "<Figure size 900x400 with 1 Axes>"
      ]
     },
     "metadata": {},
     "output_type": "display_data"
    }
   ],
   "source": [
    "# Contar valores de days_since_prior_order\n",
    "filtered_orders = instacart_orders_df[instacart_orders_df['days_since_prior_order'] != 0]\n",
    "counts = filtered_orders['days_since_prior_order'].value_counts().sort_index().reset_index()\n",
    "counts.columns = ['days', 'count']\n",
    "\n",
    "# Crear gráfica de barras\n",
    "counts.plot(\n",
    "    title='Number of Orders by Days Since Prior Order',\n",
    "    x='days',\n",
    "    y='count',\n",
    "    kind='bar',\n",
    "    figsize=[9, 4],\n",
    "    color='blue',\n",
    "    xlabel='Days Since Prior Order',\n",
    "    ylabel='Number of Orders',\n",
    "    ylim=[0, counts['count'].max() * 1.1],\n",
    "    legend=False\n",
    ")\n",
    "\n",
    "# Ajustar etiquetas del eje X para que estén centradas\n",
    "plt.xticks(rotation=45, ha='right')\n",
    "\n",
    "# Ajustar diseño y mostrar\n",
    "plt.tight_layout()\n",
    "plt.show()"
   ]
  },
  {
   "cell_type": "markdown",
   "id": "discrete-vertex",
   "metadata": {
    "id": "discrete-vertex"
   },
   "source": [
    "Escribe aquí tus conclusiones"
   ]
  },
  {
   "cell_type": "markdown",
   "id": "2c1ac1aa-deab-47b1-baec-0ddec6cc2e71",
   "metadata": {},
   "source": [
    "<div style=\"color: blue;\">\n",
    "En el histograma, se observa que las personas suelen esperar entre 1 y ocho días (los datosa se concentran entre 1 y 8) para volver a comprar. También se observan dos picos, uno a los 7 días y otro, más grande, a los 30 días. Esto indica que una cantidad relevante de personas compra una vez a la semana (cada 7 días) y otra cantidad, aún más significativa, como una vez al mes.\n",
    "</div>"
   ]
  },
  {
   "cell_type": "markdown",
   "id": "tight-staff",
   "metadata": {
    "id": "tight-staff"
   },
   "source": [
    "# [B] Intermedio (deben completarse todos para aprobar)\n",
    "\n",
    "1. ¿Existe alguna diferencia entre las distribuciones `'order_hour_of_day'` de los miércoles y los sábados? Traza gráficos de barra de `'order_hour_of_day'` para ambos días en la misma figura y describe las diferencias que observes.\n",
    "2. Grafica la distribución para el número de órdenes que hacen los clientes (es decir, cuántos clientes hicieron solo 1 pedido, cuántos hicieron 2, cuántos 3, y así sucesivamente...).\n",
    "3. ¿Cuáles son los 20 principales productos que se piden con más frecuencia (muestra su identificación y nombre)?"
   ]
  },
  {
   "cell_type": "markdown",
   "id": "packed-classic",
   "metadata": {
    "id": "packed-classic"
   },
   "source": [
    "### [B1] Diferencia entre miércoles y sábados para  `'order_hour_of_day'`. Traza gráficos de barra para los dos días y describe las diferencias que veas."
   ]
  },
  {
   "cell_type": "code",
   "execution_count": 53,
   "id": "d89b8403",
   "metadata": {
    "id": "d89b8403"
   },
   "outputs": [],
   "source": [
    "wednesday_orders = instacart_orders_df.query(\"order_dow == 3\")['order_hour_of_day'].value_counts().sort_index().reset_index()\n",
    "saturday_orders = instacart_orders_df.query(\"order_dow == 6\")['order_hour_of_day'].value_counts().sort_index().reset_index()\n",
    "wednesday_orders.columns = ['Hour of the day', 'Number of orders']\n",
    "saturday_orders.columns = ['Hour of the day', 'Number of orders']"
   ]
  },
  {
   "cell_type": "code",
   "execution_count": 54,
   "id": "d184631f-8a8c-4d48-b849-1beb863bbd7f",
   "metadata": {
    "id": "d89b8403"
   },
   "outputs": [],
   "source": [
    "wednesday_orders = instacart_orders_df.query(\"order_dow == 3\")['order_hour_of_day'].value_counts().sort_index().reset_index()\n",
    "saturday_orders = instacart_orders_df.query(\"order_dow == 6\")['order_hour_of_day'].value_counts().sort_index().reset_index()\n",
    "wednesday_orders.columns = ['order_hour_of_day', 'orders_count']\n",
    "saturday_orders.columns = ['order_hour_of_day', 'orders_count']"
   ]
  },
  {
   "cell_type": "code",
   "execution_count": 55,
   "id": "586dfc73-1e26-4c22-a561-15012dbb7f37",
   "metadata": {},
   "outputs": [],
   "source": [
    "# Combinar los datos del miércoles y elsábado en un solo df\n",
    "wdn_and_sat_orders = pd.DataFrame({\n",
    "    'Wednesday': wednesday_orders['orders_count'],\n",
    "    'Saturday': saturday_orders['orders_count']\n",
    "})"
   ]
  },
  {
   "cell_type": "code",
   "execution_count": 56,
   "id": "43744f41-0d86-4acc-bd2e-eb86fc8ff538",
   "metadata": {},
   "outputs": [],
   "source": [
    "#wdn_and_sat_orders"
   ]
  },
  {
   "cell_type": "code",
   "execution_count": 57,
   "id": "35bcea30",
   "metadata": {
    "id": "35bcea30"
   },
   "outputs": [
    {
     "data": {
      "image/png": "[encoded data removed]",
      "text/plain": [
       "<Figure size 900x400 with 1 Axes>"
      ]
     },
     "metadata": {},
     "output_type": "display_data"
    }
   ],
   "source": [
    "wdn_and_sat_orders.plot(    \n",
    "    title='Number of Orders Wednesday vs Saturday as per hour of the day',\n",
    "    kind='bar',\n",
    "    figsize=[9, 4],\n",
    "    xlabel='Hour of the day',\n",
    "    ylabel='Orders')\n",
    "\n",
    "plt.show()"
   ]
  },
  {
   "cell_type": "markdown",
   "id": "charitable-congo",
   "metadata": {
    "id": "charitable-congo"
   },
   "source": [
    "Escribe aquí tus conclusiones"
   ]
  },
  {
   "cell_type": "markdown",
   "id": "4bcfee84-bf27-4b08-9ba3-5b2e5be74293",
   "metadata": {},
   "source": [
    "<div style=\"color: blue;\">\n",
    "El sábado (barras naranjas) hay más ventas que el miércoles (barras azules), en la mayoría de las horas del día. Especialmente, si nos enfocamos en las horas de más compras, que van dede las 9 hasta l7 horas; se compra más el sábado que el miécoles.\n",
    "</div>"
   ]
  },
  {
   "cell_type": "markdown",
   "id": "e3891143",
   "metadata": {
    "id": "e3891143"
   },
   "source": [
    "### [B2] ¿Cuál es la distribución para el número de pedidos por cliente?"
   ]
  },
  {
   "cell_type": "code",
   "execution_count": 58,
   "id": "d8c26c23",
   "metadata": {
    "id": "d8c26c23"
   },
   "outputs": [
    {
     "data": {
      "text/html": [
       "<div>\n",
       "<style scoped>\n",
       "    .dataframe tbody tr th:only-of-type {\n",
       "        vertical-align: middle;\n",
       "    }\n",
       "\n",
       "    .dataframe tbody tr th {\n",
       "        vertical-align: top;\n",
       "    }\n",
       "\n",
       "    .dataframe thead th {\n",
       "        text-align: right;\n",
       "    }\n",
       "</style>\n",
       "<table border=\"1\" class=\"dataframe\">\n",
       "  <thead>\n",
       "    <tr style=\"text-align: right;\">\n",
       "      <th></th>\n",
       "      <th>user_id</th>\n",
       "      <th>orders_count</th>\n",
       "    </tr>\n",
       "  </thead>\n",
       "  <tbody>\n",
       "    <tr>\n",
       "      <th>0</th>\n",
       "      <td>149605</td>\n",
       "      <td>28</td>\n",
       "    </tr>\n",
       "    <tr>\n",
       "      <th>1</th>\n",
       "      <td>193164</td>\n",
       "      <td>26</td>\n",
       "    </tr>\n",
       "    <tr>\n",
       "      <th>2</th>\n",
       "      <td>78375</td>\n",
       "      <td>25</td>\n",
       "    </tr>\n",
       "    <tr>\n",
       "      <th>3</th>\n",
       "      <td>148162</td>\n",
       "      <td>24</td>\n",
       "    </tr>\n",
       "    <tr>\n",
       "      <th>4</th>\n",
       "      <td>66664</td>\n",
       "      <td>24</td>\n",
       "    </tr>\n",
       "    <tr>\n",
       "      <th>...</th>\n",
       "      <td>...</td>\n",
       "      <td>...</td>\n",
       "    </tr>\n",
       "    <tr>\n",
       "      <th>157432</th>\n",
       "      <td>166116</td>\n",
       "      <td>1</td>\n",
       "    </tr>\n",
       "    <tr>\n",
       "      <th>157433</th>\n",
       "      <td>63564</td>\n",
       "      <td>1</td>\n",
       "    </tr>\n",
       "    <tr>\n",
       "      <th>157434</th>\n",
       "      <td>170214</td>\n",
       "      <td>1</td>\n",
       "    </tr>\n",
       "    <tr>\n",
       "      <th>157435</th>\n",
       "      <td>51274</td>\n",
       "      <td>1</td>\n",
       "    </tr>\n",
       "    <tr>\n",
       "      <th>157436</th>\n",
       "      <td>2047</td>\n",
       "      <td>1</td>\n",
       "    </tr>\n",
       "  </tbody>\n",
       "</table>\n",
       "<p>157437 rows × 2 columns</p>\n",
       "</div>"
      ],
      "text/plain": [
       "        user_id  orders_count\n",
       "0        149605            28\n",
       "1        193164            26\n",
       "2         78375            25\n",
       "3        148162            24\n",
       "4         66664            24\n",
       "...         ...           ...\n",
       "157432   166116             1\n",
       "157433    63564             1\n",
       "157434   170214             1\n",
       "157435    51274             1\n",
       "157436     2047             1\n",
       "\n",
       "[157437 rows x 2 columns]"
      ]
     },
     "execution_count": 58,
     "metadata": {},
     "output_type": "execute_result"
    }
   ],
   "source": [
    "#Revisamos cuántas órdenes hizo cada cliente (user_id)\n",
    "client_orders = instacart_orders_df['user_id'].value_counts().reset_index()\n",
    "\n",
    "client_orders.columns = [\"user_id\",\"orders_count\"]\n",
    "client_orders"
   ]
  },
  {
   "cell_type": "code",
   "execution_count": 59,
   "id": "0ec8050f-3717-4503-ae12-f7c06d5c6370",
   "metadata": {},
   "outputs": [
    {
     "data": {
      "text/html": [
       "<div>\n",
       "<style scoped>\n",
       "    .dataframe tbody tr th:only-of-type {\n",
       "        vertical-align: middle;\n",
       "    }\n",
       "\n",
       "    .dataframe tbody tr th {\n",
       "        vertical-align: top;\n",
       "    }\n",
       "\n",
       "    .dataframe thead th {\n",
       "        text-align: right;\n",
       "    }\n",
       "</style>\n",
       "<table border=\"1\" class=\"dataframe\">\n",
       "  <thead>\n",
       "    <tr style=\"text-align: right;\">\n",
       "      <th></th>\n",
       "      <th>orders_count</th>\n",
       "      <th>clients_count</th>\n",
       "    </tr>\n",
       "  </thead>\n",
       "  <tbody>\n",
       "    <tr>\n",
       "      <th>0</th>\n",
       "      <td>1</td>\n",
       "      <td>55357</td>\n",
       "    </tr>\n",
       "    <tr>\n",
       "      <th>1</th>\n",
       "      <td>2</td>\n",
       "      <td>36508</td>\n",
       "    </tr>\n",
       "    <tr>\n",
       "      <th>2</th>\n",
       "      <td>3</td>\n",
       "      <td>21547</td>\n",
       "    </tr>\n",
       "    <tr>\n",
       "      <th>3</th>\n",
       "      <td>4</td>\n",
       "      <td>13498</td>\n",
       "    </tr>\n",
       "    <tr>\n",
       "      <th>4</th>\n",
       "      <td>5</td>\n",
       "      <td>8777</td>\n",
       "    </tr>\n",
       "    <tr>\n",
       "      <th>5</th>\n",
       "      <td>6</td>\n",
       "      <td>6012</td>\n",
       "    </tr>\n",
       "    <tr>\n",
       "      <th>6</th>\n",
       "      <td>7</td>\n",
       "      <td>4240</td>\n",
       "    </tr>\n",
       "    <tr>\n",
       "      <th>7</th>\n",
       "      <td>8</td>\n",
       "      <td>3019</td>\n",
       "    </tr>\n",
       "    <tr>\n",
       "      <th>8</th>\n",
       "      <td>9</td>\n",
       "      <td>2152</td>\n",
       "    </tr>\n",
       "    <tr>\n",
       "      <th>9</th>\n",
       "      <td>10</td>\n",
       "      <td>1645</td>\n",
       "    </tr>\n",
       "    <tr>\n",
       "      <th>10</th>\n",
       "      <td>11</td>\n",
       "      <td>1308</td>\n",
       "    </tr>\n",
       "    <tr>\n",
       "      <th>11</th>\n",
       "      <td>12</td>\n",
       "      <td>947</td>\n",
       "    </tr>\n",
       "    <tr>\n",
       "      <th>12</th>\n",
       "      <td>13</td>\n",
       "      <td>703</td>\n",
       "    </tr>\n",
       "    <tr>\n",
       "      <th>13</th>\n",
       "      <td>14</td>\n",
       "      <td>512</td>\n",
       "    </tr>\n",
       "    <tr>\n",
       "      <th>14</th>\n",
       "      <td>15</td>\n",
       "      <td>437</td>\n",
       "    </tr>\n",
       "    <tr>\n",
       "      <th>15</th>\n",
       "      <td>16</td>\n",
       "      <td>263</td>\n",
       "    </tr>\n",
       "    <tr>\n",
       "      <th>16</th>\n",
       "      <td>17</td>\n",
       "      <td>184</td>\n",
       "    </tr>\n",
       "    <tr>\n",
       "      <th>17</th>\n",
       "      <td>18</td>\n",
       "      <td>121</td>\n",
       "    </tr>\n",
       "    <tr>\n",
       "      <th>18</th>\n",
       "      <td>19</td>\n",
       "      <td>85</td>\n",
       "    </tr>\n",
       "    <tr>\n",
       "      <th>19</th>\n",
       "      <td>20</td>\n",
       "      <td>52</td>\n",
       "    </tr>\n",
       "    <tr>\n",
       "      <th>20</th>\n",
       "      <td>22</td>\n",
       "      <td>23</td>\n",
       "    </tr>\n",
       "    <tr>\n",
       "      <th>21</th>\n",
       "      <td>21</td>\n",
       "      <td>22</td>\n",
       "    </tr>\n",
       "    <tr>\n",
       "      <th>22</th>\n",
       "      <td>23</td>\n",
       "      <td>19</td>\n",
       "    </tr>\n",
       "    <tr>\n",
       "      <th>23</th>\n",
       "      <td>24</td>\n",
       "      <td>3</td>\n",
       "    </tr>\n",
       "    <tr>\n",
       "      <th>24</th>\n",
       "      <td>25</td>\n",
       "      <td>1</td>\n",
       "    </tr>\n",
       "    <tr>\n",
       "      <th>25</th>\n",
       "      <td>26</td>\n",
       "      <td>1</td>\n",
       "    </tr>\n",
       "    <tr>\n",
       "      <th>26</th>\n",
       "      <td>28</td>\n",
       "      <td>1</td>\n",
       "    </tr>\n",
       "  </tbody>\n",
       "</table>\n",
       "</div>"
      ],
      "text/plain": [
       "    orders_count  clients_count\n",
       "0              1          55357\n",
       "1              2          36508\n",
       "2              3          21547\n",
       "3              4          13498\n",
       "4              5           8777\n",
       "5              6           6012\n",
       "6              7           4240\n",
       "7              8           3019\n",
       "8              9           2152\n",
       "9             10           1645\n",
       "10            11           1308\n",
       "11            12            947\n",
       "12            13            703\n",
       "13            14            512\n",
       "14            15            437\n",
       "15            16            263\n",
       "16            17            184\n",
       "17            18            121\n",
       "18            19             85\n",
       "19            20             52\n",
       "20            22             23\n",
       "21            21             22\n",
       "22            23             19\n",
       "23            24              3\n",
       "24            25              1\n",
       "25            26              1\n",
       "26            28              1"
      ]
     },
     "execution_count": 59,
     "metadata": {},
     "output_type": "execute_result"
    }
   ],
   "source": [
    "#Revisamos cuántos clientes adquirieron qué cantidad de pedidos (Quantity of orders)\n",
    "orders_per_client = client_orders['orders_count'].value_counts().reset_index()\n",
    "orders_per_client.columns = [\"orders_count\",\"clients_count\"]\n",
    "orders_per_client"
   ]
  },
  {
   "cell_type": "code",
   "execution_count": 60,
   "id": "00e69a66",
   "metadata": {
    "id": "00e69a66"
   },
   "outputs": [
    {
     "data": {
      "image/png": "[encoded data removed]",
      "text/plain": [
       "<Figure size 640x480 with 1 Axes>"
      ]
     },
     "metadata": {},
     "output_type": "display_data"
    }
   ],
   "source": [
    "#Usamos un histograma sobre df que construimos para mostrar la cantidad de pedidos por cliente\n",
    "#Graficamos la frecuencia con la que aparece cada cantidad de órdenes, según la cantidad de clientes que solicitó dicha cantidad.\n",
    "client_orders['orders_count'].plot(\n",
    "    kind='hist',\n",
    "    bins=30,\n",
    "    title='Distribution of Orders per Number of Clients',\n",
    "    legend=False,\n",
    "    edgecolor='black'\n",
    ")\n",
    "\n",
    "plt.xlabel('Quantity of Orders')\n",
    "plt.ylabel('Clients')\n",
    "\n",
    "plt.show()"
   ]
  },
  {
   "cell_type": "markdown",
   "id": "d2eff7d5",
   "metadata": {
    "id": "d2eff7d5"
   },
   "source": [
    "Escribe aquí tus conclusiones"
   ]
  },
  {
   "cell_type": "markdown",
   "id": "3502eae2-1322-4cfc-a8db-f72e7ad46eda",
   "metadata": {},
   "source": [
    "<div style=\"color: blue;\">\n",
    "La gran mayoría de clientes hace una cantidad pequeña de pedidos (órdenes), que es de menos de 5 pedidos. Siendo un sólo pedido, la cantidad que más clientes solicitó o, dicho de otra forma, más de 50 mil clientes (la cantidad de clientes más grande) hicieron un único pedido.\n",
    "\n",
    "La cantidad de clientes que hace más de 5 pedidos, disminuye drásticamente; mientras más pedidos se hacen, menor es la cantidad de clientes haciendo esos pedidos. De hecho, las cantidades de pedidos más grandes fueron de 26, 27 y 28, pero sólo un cliente hizo esa cantidad de pedidos respectivamente.\n",
    "</div>"
   ]
  },
  {
   "cell_type": "markdown",
   "id": "54a0319c",
   "metadata": {
    "id": "54a0319c"
   },
   "source": [
    "### [B3] ¿Cuáles son los 20 productos más populares (muestra su ID y nombre)?"
   ]
  },
  {
   "cell_type": "code",
   "execution_count": 61,
   "id": "exterior-arizona",
   "metadata": {
    "id": "exterior-arizona",
    "scrolled": true
   },
   "outputs": [
    {
     "data": {
      "text/html": [
       "<div>\n",
       "<style scoped>\n",
       "    .dataframe tbody tr th:only-of-type {\n",
       "        vertical-align: middle;\n",
       "    }\n",
       "\n",
       "    .dataframe tbody tr th {\n",
       "        vertical-align: top;\n",
       "    }\n",
       "\n",
       "    .dataframe thead th {\n",
       "        text-align: right;\n",
       "    }\n",
       "</style>\n",
       "<table border=\"1\" class=\"dataframe\">\n",
       "  <thead>\n",
       "    <tr style=\"text-align: right;\">\n",
       "      <th></th>\n",
       "      <th>product_id</th>\n",
       "      <th>order_count</th>\n",
       "    </tr>\n",
       "  </thead>\n",
       "  <tbody>\n",
       "    <tr>\n",
       "      <th>0</th>\n",
       "      <td>24852</td>\n",
       "      <td>66050</td>\n",
       "    </tr>\n",
       "    <tr>\n",
       "      <th>1</th>\n",
       "      <td>13176</td>\n",
       "      <td>53297</td>\n",
       "    </tr>\n",
       "    <tr>\n",
       "      <th>2</th>\n",
       "      <td>21137</td>\n",
       "      <td>37039</td>\n",
       "    </tr>\n",
       "    <tr>\n",
       "      <th>3</th>\n",
       "      <td>21903</td>\n",
       "      <td>33971</td>\n",
       "    </tr>\n",
       "    <tr>\n",
       "      <th>4</th>\n",
       "      <td>47209</td>\n",
       "      <td>29773</td>\n",
       "    </tr>\n",
       "    <tr>\n",
       "      <th>5</th>\n",
       "      <td>47766</td>\n",
       "      <td>24689</td>\n",
       "    </tr>\n",
       "    <tr>\n",
       "      <th>6</th>\n",
       "      <td>47626</td>\n",
       "      <td>21495</td>\n",
       "    </tr>\n",
       "    <tr>\n",
       "      <th>7</th>\n",
       "      <td>16797</td>\n",
       "      <td>20018</td>\n",
       "    </tr>\n",
       "    <tr>\n",
       "      <th>8</th>\n",
       "      <td>26209</td>\n",
       "      <td>19690</td>\n",
       "    </tr>\n",
       "    <tr>\n",
       "      <th>9</th>\n",
       "      <td>27845</td>\n",
       "      <td>19600</td>\n",
       "    </tr>\n",
       "    <tr>\n",
       "      <th>10</th>\n",
       "      <td>27966</td>\n",
       "      <td>19197</td>\n",
       "    </tr>\n",
       "    <tr>\n",
       "      <th>11</th>\n",
       "      <td>22935</td>\n",
       "      <td>15898</td>\n",
       "    </tr>\n",
       "    <tr>\n",
       "      <th>12</th>\n",
       "      <td>24964</td>\n",
       "      <td>15292</td>\n",
       "    </tr>\n",
       "    <tr>\n",
       "      <th>13</th>\n",
       "      <td>45007</td>\n",
       "      <td>14584</td>\n",
       "    </tr>\n",
       "    <tr>\n",
       "      <th>14</th>\n",
       "      <td>39275</td>\n",
       "      <td>13879</td>\n",
       "    </tr>\n",
       "    <tr>\n",
       "      <th>15</th>\n",
       "      <td>49683</td>\n",
       "      <td>13675</td>\n",
       "    </tr>\n",
       "    <tr>\n",
       "      <th>16</th>\n",
       "      <td>28204</td>\n",
       "      <td>12544</td>\n",
       "    </tr>\n",
       "    <tr>\n",
       "      <th>17</th>\n",
       "      <td>5876</td>\n",
       "      <td>12232</td>\n",
       "    </tr>\n",
       "    <tr>\n",
       "      <th>18</th>\n",
       "      <td>8277</td>\n",
       "      <td>11993</td>\n",
       "    </tr>\n",
       "    <tr>\n",
       "      <th>19</th>\n",
       "      <td>40706</td>\n",
       "      <td>11781</td>\n",
       "    </tr>\n",
       "  </tbody>\n",
       "</table>\n",
       "</div>"
      ],
      "text/plain": [
       "    product_id  order_count\n",
       "0        24852        66050\n",
       "1        13176        53297\n",
       "2        21137        37039\n",
       "3        21903        33971\n",
       "4        47209        29773\n",
       "5        47766        24689\n",
       "6        47626        21495\n",
       "7        16797        20018\n",
       "8        26209        19690\n",
       "9        27845        19600\n",
       "10       27966        19197\n",
       "11       22935        15898\n",
       "12       24964        15292\n",
       "13       45007        14584\n",
       "14       39275        13879\n",
       "15       49683        13675\n",
       "16       28204        12544\n",
       "17        5876        12232\n",
       "18        8277        11993\n",
       "19       40706        11781"
      ]
     },
     "execution_count": 61,
     "metadata": {},
     "output_type": "execute_result"
    }
   ],
   "source": [
    "# Contar productos más populares en order_products_df\n",
    "product_counts = order_products_df['product_id'].value_counts().head(20).reset_index()\n",
    "product_counts.columns = ['product_id', 'order_count']\n",
    "product_counts"
   ]
  },
  {
   "cell_type": "code",
   "execution_count": 62,
   "id": "universal-facial",
   "metadata": {
    "id": "universal-facial"
   },
   "outputs": [
    {
     "data": {
      "text/html": [
       "<div>\n",
       "<style scoped>\n",
       "    .dataframe tbody tr th:only-of-type {\n",
       "        vertical-align: middle;\n",
       "    }\n",
       "\n",
       "    .dataframe tbody tr th {\n",
       "        vertical-align: top;\n",
       "    }\n",
       "\n",
       "    .dataframe thead th {\n",
       "        text-align: right;\n",
       "    }\n",
       "</style>\n",
       "<table border=\"1\" class=\"dataframe\">\n",
       "  <thead>\n",
       "    <tr style=\"text-align: right;\">\n",
       "      <th></th>\n",
       "      <th>product_id</th>\n",
       "      <th>order_count</th>\n",
       "      <th>product_name</th>\n",
       "    </tr>\n",
       "  </thead>\n",
       "  <tbody>\n",
       "    <tr>\n",
       "      <th>0</th>\n",
       "      <td>24852</td>\n",
       "      <td>66050</td>\n",
       "      <td>banana</td>\n",
       "    </tr>\n",
       "    <tr>\n",
       "      <th>1</th>\n",
       "      <td>13176</td>\n",
       "      <td>53297</td>\n",
       "      <td>bag of organic bananas</td>\n",
       "    </tr>\n",
       "    <tr>\n",
       "      <th>2</th>\n",
       "      <td>21137</td>\n",
       "      <td>37039</td>\n",
       "      <td>organic strawberries</td>\n",
       "    </tr>\n",
       "    <tr>\n",
       "      <th>3</th>\n",
       "      <td>21903</td>\n",
       "      <td>33971</td>\n",
       "      <td>organic baby spinach</td>\n",
       "    </tr>\n",
       "    <tr>\n",
       "      <th>4</th>\n",
       "      <td>47209</td>\n",
       "      <td>29773</td>\n",
       "      <td>organic hass avocado</td>\n",
       "    </tr>\n",
       "    <tr>\n",
       "      <th>5</th>\n",
       "      <td>47766</td>\n",
       "      <td>24689</td>\n",
       "      <td>organic avocado</td>\n",
       "    </tr>\n",
       "    <tr>\n",
       "      <th>6</th>\n",
       "      <td>47626</td>\n",
       "      <td>21495</td>\n",
       "      <td>large lemon</td>\n",
       "    </tr>\n",
       "    <tr>\n",
       "      <th>7</th>\n",
       "      <td>16797</td>\n",
       "      <td>20018</td>\n",
       "      <td>strawberries</td>\n",
       "    </tr>\n",
       "    <tr>\n",
       "      <th>8</th>\n",
       "      <td>26209</td>\n",
       "      <td>19690</td>\n",
       "      <td>limes</td>\n",
       "    </tr>\n",
       "    <tr>\n",
       "      <th>9</th>\n",
       "      <td>27845</td>\n",
       "      <td>19600</td>\n",
       "      <td>organic whole milk</td>\n",
       "    </tr>\n",
       "    <tr>\n",
       "      <th>10</th>\n",
       "      <td>27966</td>\n",
       "      <td>19197</td>\n",
       "      <td>organic raspberries</td>\n",
       "    </tr>\n",
       "    <tr>\n",
       "      <th>11</th>\n",
       "      <td>22935</td>\n",
       "      <td>15898</td>\n",
       "      <td>organic yellow onion</td>\n",
       "    </tr>\n",
       "    <tr>\n",
       "      <th>12</th>\n",
       "      <td>24964</td>\n",
       "      <td>15292</td>\n",
       "      <td>organic garlic</td>\n",
       "    </tr>\n",
       "    <tr>\n",
       "      <th>13</th>\n",
       "      <td>45007</td>\n",
       "      <td>14584</td>\n",
       "      <td>organic zucchini</td>\n",
       "    </tr>\n",
       "    <tr>\n",
       "      <th>14</th>\n",
       "      <td>39275</td>\n",
       "      <td>13879</td>\n",
       "      <td>organic blueberries</td>\n",
       "    </tr>\n",
       "    <tr>\n",
       "      <th>15</th>\n",
       "      <td>49683</td>\n",
       "      <td>13675</td>\n",
       "      <td>cucumber kirby</td>\n",
       "    </tr>\n",
       "    <tr>\n",
       "      <th>16</th>\n",
       "      <td>28204</td>\n",
       "      <td>12544</td>\n",
       "      <td>organic fuji apple</td>\n",
       "    </tr>\n",
       "    <tr>\n",
       "      <th>17</th>\n",
       "      <td>5876</td>\n",
       "      <td>12232</td>\n",
       "      <td>organic lemon</td>\n",
       "    </tr>\n",
       "    <tr>\n",
       "      <th>18</th>\n",
       "      <td>8277</td>\n",
       "      <td>11993</td>\n",
       "      <td>apple honeycrisp organic</td>\n",
       "    </tr>\n",
       "    <tr>\n",
       "      <th>19</th>\n",
       "      <td>40706</td>\n",
       "      <td>11781</td>\n",
       "      <td>organic grape tomatoes</td>\n",
       "    </tr>\n",
       "  </tbody>\n",
       "</table>\n",
       "</div>"
      ],
      "text/plain": [
       "    product_id  order_count              product_name\n",
       "0        24852        66050                    banana\n",
       "1        13176        53297    bag of organic bananas\n",
       "2        21137        37039      organic strawberries\n",
       "3        21903        33971      organic baby spinach\n",
       "4        47209        29773      organic hass avocado\n",
       "5        47766        24689           organic avocado\n",
       "6        47626        21495               large lemon\n",
       "7        16797        20018              strawberries\n",
       "8        26209        19690                     limes\n",
       "9        27845        19600        organic whole milk\n",
       "10       27966        19197       organic raspberries\n",
       "11       22935        15898      organic yellow onion\n",
       "12       24964        15292            organic garlic\n",
       "13       45007        14584          organic zucchini\n",
       "14       39275        13879       organic blueberries\n",
       "15       49683        13675            cucumber kirby\n",
       "16       28204        12544        organic fuji apple\n",
       "17        5876        12232             organic lemon\n",
       "18        8277        11993  apple honeycrisp organic\n",
       "19       40706        11781    organic grape tomatoes"
      ]
     },
     "execution_count": 62,
     "metadata": {},
     "output_type": "execute_result"
    }
   ],
   "source": [
    "# Unir con products_df para obtener los nombres\n",
    "top_products = product_counts.merge(products_df[['product_id', 'product_name']], on='product_id')\n",
    "top_products"
   ]
  },
  {
   "cell_type": "code",
   "execution_count": 63,
   "id": "bbcdd20b",
   "metadata": {
    "id": "bbcdd20b"
   },
   "outputs": [
    {
     "data": {
      "image/png": "[encoded data removed]",
      "text/plain": [
       "<Figure size 1000x600 with 1 Axes>"
      ]
     },
     "metadata": {},
     "output_type": "display_data"
    },
    {
     "name": "stdout",
     "output_type": "stream",
     "text": [
      "    product_id              product_name\n",
      "0        24852                    banana\n",
      "1        13176    bag of organic bananas\n",
      "2        21137      organic strawberries\n",
      "3        21903      organic baby spinach\n",
      "4        47209      organic hass avocado\n",
      "5        47766           organic avocado\n",
      "6        47626               large lemon\n",
      "7        16797              strawberries\n",
      "8        26209                     limes\n",
      "9        27845        organic whole milk\n",
      "10       27966       organic raspberries\n",
      "11       22935      organic yellow onion\n",
      "12       24964            organic garlic\n",
      "13       45007          organic zucchini\n",
      "14       39275       organic blueberries\n",
      "15       49683            cucumber kirby\n",
      "16       28204        organic fuji apple\n",
      "17        5876             organic lemon\n",
      "18        8277  apple honeycrisp organic\n",
      "19       40706    organic grape tomatoes\n"
     ]
    }
   ],
   "source": [
    "# Crear gráfica de barras\n",
    "top_products.plot(\n",
    "    x='product_name',\n",
    "    y='order_count',\n",
    "    kind='bar',\n",
    "    figsize=[10, 6],\n",
    "    color='green',\n",
    "    title='Top 20 Most Popular Products',\n",
    "    xlabel='Product Name',\n",
    "    ylabel='Number of Orders',\n",
    "    ylim=[0, top_products['order_count'].max() * 1.1]\n",
    ")\n",
    "\n",
    "# Ajustar etiquetas del eje X\n",
    "plt.xticks(rotation=45, ha='right')\n",
    "\n",
    "# Mostrar gráfica\n",
    "plt.show()\n",
    "\n",
    "# Mostrar ID y nombre de los 20 productos más populares\n",
    "print(top_products[['product_id', 'product_name']])"
   ]
  },
  {
   "cell_type": "markdown",
   "id": "7df00f47",
   "metadata": {
    "id": "7df00f47"
   },
   "source": [
    "Escribe aquí tus conclusiones"
   ]
  },
  {
   "cell_type": "markdown",
   "id": "ae1e85ce-bc06-4ebe-9ef4-725d2c6f109e",
   "metadata": {},
   "source": [
    "<div style=\"color: blue;\">\n",
    "Los productos orgánicos como frutas y verduras, conforman el top20 de productos más vendidos; siendo las bananas el top 1 y 2.\n",
    "</div>"
   ]
  },
  {
   "cell_type": "markdown",
   "id": "cc96143a-ab17-40cb-b233-090b832d38fe",
   "metadata": {},
   "source": [
    "<div class=\"alert alert-block alert-success\">\n",
    "<b>Comentario del revisor</b> <a class=\"tocSkip\"></a>\n",
    "\n",
    "Muy buen desarrollo de la sección. Desarrollaste de buena manera todos los análisis y lo complementaste con un par de gráficas. \n",
    "</div>"
   ]
  },
  {
   "cell_type": "markdown",
   "id": "gross-theme",
   "metadata": {
    "id": "gross-theme"
   },
   "source": [
    "# [C] Difícil (deben completarse todos para aprobar)\n",
    "\n",
    "1. ¿Cuántos artículos suelen comprar las personas en un pedido? ¿Cómo es la distribución?\n",
    "2. ¿Cuáles son los 20 principales artículos que vuelven a pedirse con mayor frecuencia (muestra sus nombres e IDs de los productos)?\n",
    "3. Para cada producto, ¿cuál es la tasa de repetición del pedido (número de repeticiones de pedido/total de pedidos?\n",
    "4. Para cada cliente, ¿qué proporción de los productos que pidió ya los había pedido? Calcula la tasa de repetición de pedido para cada usuario en lugar de para cada producto.\n",
    "5. ¿Cuáles son los 20 principales artículos que la gente pone primero en sus carritos (muestra las IDs de los productos, sus nombres, y el número de veces en que fueron el primer artículo en añadirse al carrito)?"
   ]
  },
  {
   "cell_type": "markdown",
   "id": "romantic-deposit",
   "metadata": {
    "id": "romantic-deposit"
   },
   "source": [
    "### [C1] ¿Cuántos artículos compran normalmente las personas en un pedido? ¿Cómo es la distribución?"
   ]
  },
  {
   "cell_type": "code",
   "execution_count": 64,
   "id": "virtual-punch",
   "metadata": {
    "id": "virtual-punch"
   },
   "outputs": [
    {
     "data": {
      "text/html": [
       "<div>\n",
       "<style scoped>\n",
       "    .dataframe tbody tr th:only-of-type {\n",
       "        vertical-align: middle;\n",
       "    }\n",
       "\n",
       "    .dataframe tbody tr th {\n",
       "        vertical-align: top;\n",
       "    }\n",
       "\n",
       "    .dataframe thead th {\n",
       "        text-align: right;\n",
       "    }\n",
       "</style>\n",
       "<table border=\"1\" class=\"dataframe\">\n",
       "  <thead>\n",
       "    <tr style=\"text-align: right;\">\n",
       "      <th></th>\n",
       "      <th>order_id</th>\n",
       "      <th>product_count</th>\n",
       "    </tr>\n",
       "  </thead>\n",
       "  <tbody>\n",
       "    <tr>\n",
       "      <th>0</th>\n",
       "      <td>61355</td>\n",
       "      <td>127</td>\n",
       "    </tr>\n",
       "    <tr>\n",
       "      <th>1</th>\n",
       "      <td>3308010</td>\n",
       "      <td>115</td>\n",
       "    </tr>\n",
       "    <tr>\n",
       "      <th>2</th>\n",
       "      <td>2136777</td>\n",
       "      <td>108</td>\n",
       "    </tr>\n",
       "    <tr>\n",
       "      <th>3</th>\n",
       "      <td>171934</td>\n",
       "      <td>104</td>\n",
       "    </tr>\n",
       "    <tr>\n",
       "      <th>4</th>\n",
       "      <td>1959075</td>\n",
       "      <td>98</td>\n",
       "    </tr>\n",
       "    <tr>\n",
       "      <th>...</th>\n",
       "      <td>...</td>\n",
       "      <td>...</td>\n",
       "    </tr>\n",
       "    <tr>\n",
       "      <th>450041</th>\n",
       "      <td>54659</td>\n",
       "      <td>1</td>\n",
       "    </tr>\n",
       "    <tr>\n",
       "      <th>450042</th>\n",
       "      <td>210431</td>\n",
       "      <td>1</td>\n",
       "    </tr>\n",
       "    <tr>\n",
       "      <th>450043</th>\n",
       "      <td>1717983</td>\n",
       "      <td>1</td>\n",
       "    </tr>\n",
       "    <tr>\n",
       "      <th>450044</th>\n",
       "      <td>1136563</td>\n",
       "      <td>1</td>\n",
       "    </tr>\n",
       "    <tr>\n",
       "      <th>450045</th>\n",
       "      <td>8196</td>\n",
       "      <td>1</td>\n",
       "    </tr>\n",
       "  </tbody>\n",
       "</table>\n",
       "<p>450046 rows × 2 columns</p>\n",
       "</div>"
      ],
      "text/plain": [
       "        order_id  product_count\n",
       "0          61355            127\n",
       "1        3308010            115\n",
       "2        2136777            108\n",
       "3         171934            104\n",
       "4        1959075             98\n",
       "...          ...            ...\n",
       "450041     54659              1\n",
       "450042    210431              1\n",
       "450043   1717983              1\n",
       "450044   1136563              1\n",
       "450045      8196              1\n",
       "\n",
       "[450046 rows x 2 columns]"
      ]
     },
     "execution_count": 64,
     "metadata": {},
     "output_type": "execute_result"
    }
   ],
   "source": [
    "#Contar los productos por pedido\n",
    "product_counts_per_order = order_products_df['order_id'].value_counts().reset_index()\n",
    "product_counts_per_order.columns = ['order_id', 'product_count']\n",
    "product_counts_per_order"
   ]
  },
  {
   "cell_type": "code",
   "execution_count": 65,
   "id": "completed-frank",
   "metadata": {
    "id": "completed-frank"
   },
   "outputs": [
    {
     "data": {
      "text/html": [
       "<div>\n",
       "<style scoped>\n",
       "    .dataframe tbody tr th:only-of-type {\n",
       "        vertical-align: middle;\n",
       "    }\n",
       "\n",
       "    .dataframe tbody tr th {\n",
       "        vertical-align: top;\n",
       "    }\n",
       "\n",
       "    .dataframe thead th {\n",
       "        text-align: right;\n",
       "    }\n",
       "</style>\n",
       "<table border=\"1\" class=\"dataframe\">\n",
       "  <thead>\n",
       "    <tr style=\"text-align: right;\">\n",
       "      <th></th>\n",
       "      <th>product_count</th>\n",
       "      <th>order_count</th>\n",
       "    </tr>\n",
       "  </thead>\n",
       "  <tbody>\n",
       "    <tr>\n",
       "      <th>0</th>\n",
       "      <td>5</td>\n",
       "      <td>31923</td>\n",
       "    </tr>\n",
       "    <tr>\n",
       "      <th>1</th>\n",
       "      <td>6</td>\n",
       "      <td>31698</td>\n",
       "    </tr>\n",
       "    <tr>\n",
       "      <th>2</th>\n",
       "      <td>4</td>\n",
       "      <td>31054</td>\n",
       "    </tr>\n",
       "    <tr>\n",
       "      <th>3</th>\n",
       "      <td>7</td>\n",
       "      <td>30822</td>\n",
       "    </tr>\n",
       "    <tr>\n",
       "      <th>4</th>\n",
       "      <td>3</td>\n",
       "      <td>29046</td>\n",
       "    </tr>\n",
       "    <tr>\n",
       "      <th>...</th>\n",
       "      <td>...</td>\n",
       "      <td>...</td>\n",
       "    </tr>\n",
       "    <tr>\n",
       "      <th>85</th>\n",
       "      <td>80</td>\n",
       "      <td>1</td>\n",
       "    </tr>\n",
       "    <tr>\n",
       "      <th>86</th>\n",
       "      <td>87</td>\n",
       "      <td>1</td>\n",
       "    </tr>\n",
       "    <tr>\n",
       "      <th>87</th>\n",
       "      <td>85</td>\n",
       "      <td>1</td>\n",
       "    </tr>\n",
       "    <tr>\n",
       "      <th>88</th>\n",
       "      <td>72</td>\n",
       "      <td>1</td>\n",
       "    </tr>\n",
       "    <tr>\n",
       "      <th>89</th>\n",
       "      <td>127</td>\n",
       "      <td>1</td>\n",
       "    </tr>\n",
       "  </tbody>\n",
       "</table>\n",
       "<p>90 rows × 2 columns</p>\n",
       "</div>"
      ],
      "text/plain": [
       "    product_count  order_count\n",
       "0               5        31923\n",
       "1               6        31698\n",
       "2               4        31054\n",
       "3               7        30822\n",
       "4               3        29046\n",
       "..            ...          ...\n",
       "85             80            1\n",
       "86             87            1\n",
       "87             85            1\n",
       "88             72            1\n",
       "89            127            1\n",
       "\n",
       "[90 rows x 2 columns]"
      ]
     },
     "execution_count": 65,
     "metadata": {},
     "output_type": "execute_result"
    }
   ],
   "source": [
    "#Ordenamos la cantidad de productos, según la cantidad de órdenes que solicitan dicha cantidad de productos\n",
    "order_counts = product_counts_per_order['product_count'].value_counts().reset_index()\n",
    "order_counts.columns = ['product_count', 'order_count']\n",
    "order_counts"
   ]
  },
  {
   "cell_type": "code",
   "execution_count": 66,
   "id": "sensitive-breathing",
   "metadata": {
    "id": "sensitive-breathing"
   },
   "outputs": [
    {
     "data": {
      "image/png": "[encoded data removed]",
      "text/plain": [
       "<Figure size 900x400 with 1 Axes>"
      ]
     },
     "metadata": {},
     "output_type": "display_data"
    }
   ],
   "source": [
    "product_counts_per_order['product_count'].plot(\n",
    "    kind='hist',\n",
    "    bins=50,\n",
    "    title='Distribution of Prodcuts Bought per Order',\n",
    "    legend=False,\n",
    "    edgecolor='black',\n",
    "    figsize=[9, 4]\n",
    ")\n",
    "\n",
    "plt.xlabel('Quantity of Products')\n",
    "\n",
    "plt.show()"
   ]
  },
  {
   "cell_type": "markdown",
   "id": "designed-mortality",
   "metadata": {
    "id": "designed-mortality"
   },
   "source": [
    "Escribe aquí tus conclusiones"
   ]
  },
  {
   "cell_type": "markdown",
   "id": "75d53c8b-d1ca-4b48-9f7f-3fd03285cb5a",
   "metadata": {},
   "source": [
    "<div style=\"color: blue;\">\n",
    "Las personas suelen comprar menos de 20 artículos en un sólo pedido (orden).\n",
    "</div>"
   ]
  },
  {
   "cell_type": "markdown",
   "id": "5e6b5537",
   "metadata": {
    "id": "5e6b5537"
   },
   "source": [
    "### [C2] ¿Cuáles son los 20 principales artículos que vuelven a pedirse con mayor frecuencia (muestra sus nombres e IDs de los productos)?"
   ]
  },
  {
   "cell_type": "code",
   "execution_count": 67,
   "id": "9374e55a",
   "metadata": {
    "id": "9374e55a"
   },
   "outputs": [
    {
     "data": {
      "text/html": [
       "<div>\n",
       "<style scoped>\n",
       "    .dataframe tbody tr th:only-of-type {\n",
       "        vertical-align: middle;\n",
       "    }\n",
       "\n",
       "    .dataframe tbody tr th {\n",
       "        vertical-align: top;\n",
       "    }\n",
       "\n",
       "    .dataframe thead th {\n",
       "        text-align: right;\n",
       "    }\n",
       "</style>\n",
       "<table border=\"1\" class=\"dataframe\">\n",
       "  <thead>\n",
       "    <tr style=\"text-align: right;\">\n",
       "      <th></th>\n",
       "      <th>order_id</th>\n",
       "      <th>product_id</th>\n",
       "      <th>add_to_cart_order</th>\n",
       "      <th>reordered</th>\n",
       "    </tr>\n",
       "  </thead>\n",
       "  <tbody>\n",
       "    <tr>\n",
       "      <th>1</th>\n",
       "      <td>567889</td>\n",
       "      <td>1560</td>\n",
       "      <td>1</td>\n",
       "      <td>1</td>\n",
       "    </tr>\n",
       "    <tr>\n",
       "      <th>2</th>\n",
       "      <td>2261212</td>\n",
       "      <td>26683</td>\n",
       "      <td>1</td>\n",
       "      <td>1</td>\n",
       "    </tr>\n",
       "    <tr>\n",
       "      <th>3</th>\n",
       "      <td>491251</td>\n",
       "      <td>8670</td>\n",
       "      <td>35</td>\n",
       "      <td>1</td>\n",
       "    </tr>\n",
       "    <tr>\n",
       "      <th>4</th>\n",
       "      <td>2571142</td>\n",
       "      <td>1940</td>\n",
       "      <td>5</td>\n",
       "      <td>1</td>\n",
       "    </tr>\n",
       "    <tr>\n",
       "      <th>5</th>\n",
       "      <td>2456893</td>\n",
       "      <td>21616</td>\n",
       "      <td>4</td>\n",
       "      <td>1</td>\n",
       "    </tr>\n",
       "    <tr>\n",
       "      <th>...</th>\n",
       "      <td>...</td>\n",
       "      <td>...</td>\n",
       "      <td>...</td>\n",
       "      <td>...</td>\n",
       "    </tr>\n",
       "    <tr>\n",
       "      <th>4544999</th>\n",
       "      <td>1622300</td>\n",
       "      <td>24852</td>\n",
       "      <td>1</td>\n",
       "      <td>1</td>\n",
       "    </tr>\n",
       "    <tr>\n",
       "      <th>4545000</th>\n",
       "      <td>1125324</td>\n",
       "      <td>40600</td>\n",
       "      <td>6</td>\n",
       "      <td>1</td>\n",
       "    </tr>\n",
       "    <tr>\n",
       "      <th>4545002</th>\n",
       "      <td>577211</td>\n",
       "      <td>15290</td>\n",
       "      <td>12</td>\n",
       "      <td>1</td>\n",
       "    </tr>\n",
       "    <tr>\n",
       "      <th>4545004</th>\n",
       "      <td>692640</td>\n",
       "      <td>47766</td>\n",
       "      <td>4</td>\n",
       "      <td>1</td>\n",
       "    </tr>\n",
       "    <tr>\n",
       "      <th>4545005</th>\n",
       "      <td>319435</td>\n",
       "      <td>691</td>\n",
       "      <td>8</td>\n",
       "      <td>1</td>\n",
       "    </tr>\n",
       "  </tbody>\n",
       "</table>\n",
       "<p>2683838 rows × 4 columns</p>\n",
       "</div>"
      ],
      "text/plain": [
       "         order_id  product_id  add_to_cart_order  reordered\n",
       "1          567889        1560                  1          1\n",
       "2         2261212       26683                  1          1\n",
       "3          491251        8670                 35          1\n",
       "4         2571142        1940                  5          1\n",
       "5         2456893       21616                  4          1\n",
       "...           ...         ...                ...        ...\n",
       "4544999   1622300       24852                  1          1\n",
       "4545000   1125324       40600                  6          1\n",
       "4545002    577211       15290                 12          1\n",
       "4545004    692640       47766                  4          1\n",
       "4545005    319435         691                  8          1\n",
       "\n",
       "[2683838 rows x 4 columns]"
      ]
     },
     "execution_count": 67,
     "metadata": {},
     "output_type": "execute_result"
    }
   ],
   "source": [
    "#Filtrar los productoas que fueron reprdenados\n",
    "reordered_products = order_products_df[order_products_df['reordered'] == 1]\n",
    "reordered_products\n"
   ]
  },
  {
   "cell_type": "code",
   "execution_count": 68,
   "id": "possible-change",
   "metadata": {
    "id": "possible-change",
    "scrolled": true
   },
   "outputs": [
    {
     "data": {
      "text/html": [
       "<div>\n",
       "<style scoped>\n",
       "    .dataframe tbody tr th:only-of-type {\n",
       "        vertical-align: middle;\n",
       "    }\n",
       "\n",
       "    .dataframe tbody tr th {\n",
       "        vertical-align: top;\n",
       "    }\n",
       "\n",
       "    .dataframe thead th {\n",
       "        text-align: right;\n",
       "    }\n",
       "</style>\n",
       "<table border=\"1\" class=\"dataframe\">\n",
       "  <thead>\n",
       "    <tr style=\"text-align: right;\">\n",
       "      <th></th>\n",
       "      <th>product_id</th>\n",
       "      <th>reordered_count</th>\n",
       "    </tr>\n",
       "  </thead>\n",
       "  <tbody>\n",
       "    <tr>\n",
       "      <th>0</th>\n",
       "      <td>24852</td>\n",
       "      <td>55763</td>\n",
       "    </tr>\n",
       "    <tr>\n",
       "      <th>1</th>\n",
       "      <td>13176</td>\n",
       "      <td>44450</td>\n",
       "    </tr>\n",
       "    <tr>\n",
       "      <th>2</th>\n",
       "      <td>21137</td>\n",
       "      <td>28639</td>\n",
       "    </tr>\n",
       "    <tr>\n",
       "      <th>3</th>\n",
       "      <td>21903</td>\n",
       "      <td>26233</td>\n",
       "    </tr>\n",
       "    <tr>\n",
       "      <th>4</th>\n",
       "      <td>47209</td>\n",
       "      <td>23629</td>\n",
       "    </tr>\n",
       "    <tr>\n",
       "      <th>5</th>\n",
       "      <td>47766</td>\n",
       "      <td>18743</td>\n",
       "    </tr>\n",
       "    <tr>\n",
       "      <th>6</th>\n",
       "      <td>27845</td>\n",
       "      <td>16251</td>\n",
       "    </tr>\n",
       "    <tr>\n",
       "      <th>7</th>\n",
       "      <td>47626</td>\n",
       "      <td>15044</td>\n",
       "    </tr>\n",
       "    <tr>\n",
       "      <th>8</th>\n",
       "      <td>27966</td>\n",
       "      <td>14748</td>\n",
       "    </tr>\n",
       "    <tr>\n",
       "      <th>9</th>\n",
       "      <td>16797</td>\n",
       "      <td>13945</td>\n",
       "    </tr>\n",
       "    <tr>\n",
       "      <th>10</th>\n",
       "      <td>26209</td>\n",
       "      <td>13327</td>\n",
       "    </tr>\n",
       "    <tr>\n",
       "      <th>11</th>\n",
       "      <td>22935</td>\n",
       "      <td>11145</td>\n",
       "    </tr>\n",
       "    <tr>\n",
       "      <th>12</th>\n",
       "      <td>24964</td>\n",
       "      <td>10411</td>\n",
       "    </tr>\n",
       "    <tr>\n",
       "      <th>13</th>\n",
       "      <td>45007</td>\n",
       "      <td>10076</td>\n",
       "    </tr>\n",
       "    <tr>\n",
       "      <th>14</th>\n",
       "      <td>49683</td>\n",
       "      <td>9538</td>\n",
       "    </tr>\n",
       "    <tr>\n",
       "      <th>15</th>\n",
       "      <td>28204</td>\n",
       "      <td>8989</td>\n",
       "    </tr>\n",
       "    <tr>\n",
       "      <th>16</th>\n",
       "      <td>8277</td>\n",
       "      <td>8836</td>\n",
       "    </tr>\n",
       "    <tr>\n",
       "      <th>17</th>\n",
       "      <td>39275</td>\n",
       "      <td>8799</td>\n",
       "    </tr>\n",
       "    <tr>\n",
       "      <th>18</th>\n",
       "      <td>5876</td>\n",
       "      <td>8412</td>\n",
       "    </tr>\n",
       "    <tr>\n",
       "      <th>19</th>\n",
       "      <td>49235</td>\n",
       "      <td>8389</td>\n",
       "    </tr>\n",
       "  </tbody>\n",
       "</table>\n",
       "</div>"
      ],
      "text/plain": [
       "    product_id  reordered_count\n",
       "0        24852            55763\n",
       "1        13176            44450\n",
       "2        21137            28639\n",
       "3        21903            26233\n",
       "4        47209            23629\n",
       "5        47766            18743\n",
       "6        27845            16251\n",
       "7        47626            15044\n",
       "8        27966            14748\n",
       "9        16797            13945\n",
       "10       26209            13327\n",
       "11       22935            11145\n",
       "12       24964            10411\n",
       "13       45007            10076\n",
       "14       49683             9538\n",
       "15       28204             8989\n",
       "16        8277             8836\n",
       "17       39275             8799\n",
       "18        5876             8412\n",
       "19       49235             8389"
      ]
     },
     "execution_count": 68,
     "metadata": {},
     "output_type": "execute_result"
    }
   ],
   "source": [
    "# Contar los 20 productos más re-ordenados\n",
    "reordered_counts = reordered_products['product_id'].value_counts().head(20).reset_index()\n",
    "reordered_counts.columns = ['product_id','reordered_count']\n",
    "reordered_counts"
   ]
  },
  {
   "cell_type": "code",
   "execution_count": 69,
   "id": "professional-surfing",
   "metadata": {
    "id": "professional-surfing",
    "scrolled": true
   },
   "outputs": [
    {
     "data": {
      "text/html": [
       "<div>\n",
       "<style scoped>\n",
       "    .dataframe tbody tr th:only-of-type {\n",
       "        vertical-align: middle;\n",
       "    }\n",
       "\n",
       "    .dataframe tbody tr th {\n",
       "        vertical-align: top;\n",
       "    }\n",
       "\n",
       "    .dataframe thead th {\n",
       "        text-align: right;\n",
       "    }\n",
       "</style>\n",
       "<table border=\"1\" class=\"dataframe\">\n",
       "  <thead>\n",
       "    <tr style=\"text-align: right;\">\n",
       "      <th></th>\n",
       "      <th>product_id</th>\n",
       "      <th>reordered_count</th>\n",
       "      <th>product_name</th>\n",
       "    </tr>\n",
       "  </thead>\n",
       "  <tbody>\n",
       "    <tr>\n",
       "      <th>0</th>\n",
       "      <td>24852</td>\n",
       "      <td>55763</td>\n",
       "      <td>banana</td>\n",
       "    </tr>\n",
       "    <tr>\n",
       "      <th>1</th>\n",
       "      <td>13176</td>\n",
       "      <td>44450</td>\n",
       "      <td>bag of organic bananas</td>\n",
       "    </tr>\n",
       "    <tr>\n",
       "      <th>2</th>\n",
       "      <td>21137</td>\n",
       "      <td>28639</td>\n",
       "      <td>organic strawberries</td>\n",
       "    </tr>\n",
       "    <tr>\n",
       "      <th>3</th>\n",
       "      <td>21903</td>\n",
       "      <td>26233</td>\n",
       "      <td>organic baby spinach</td>\n",
       "    </tr>\n",
       "    <tr>\n",
       "      <th>4</th>\n",
       "      <td>47209</td>\n",
       "      <td>23629</td>\n",
       "      <td>organic hass avocado</td>\n",
       "    </tr>\n",
       "    <tr>\n",
       "      <th>5</th>\n",
       "      <td>47766</td>\n",
       "      <td>18743</td>\n",
       "      <td>organic avocado</td>\n",
       "    </tr>\n",
       "    <tr>\n",
       "      <th>6</th>\n",
       "      <td>27845</td>\n",
       "      <td>16251</td>\n",
       "      <td>organic whole milk</td>\n",
       "    </tr>\n",
       "    <tr>\n",
       "      <th>7</th>\n",
       "      <td>47626</td>\n",
       "      <td>15044</td>\n",
       "      <td>large lemon</td>\n",
       "    </tr>\n",
       "    <tr>\n",
       "      <th>8</th>\n",
       "      <td>27966</td>\n",
       "      <td>14748</td>\n",
       "      <td>organic raspberries</td>\n",
       "    </tr>\n",
       "    <tr>\n",
       "      <th>9</th>\n",
       "      <td>16797</td>\n",
       "      <td>13945</td>\n",
       "      <td>strawberries</td>\n",
       "    </tr>\n",
       "    <tr>\n",
       "      <th>10</th>\n",
       "      <td>26209</td>\n",
       "      <td>13327</td>\n",
       "      <td>limes</td>\n",
       "    </tr>\n",
       "    <tr>\n",
       "      <th>11</th>\n",
       "      <td>22935</td>\n",
       "      <td>11145</td>\n",
       "      <td>organic yellow onion</td>\n",
       "    </tr>\n",
       "    <tr>\n",
       "      <th>12</th>\n",
       "      <td>24964</td>\n",
       "      <td>10411</td>\n",
       "      <td>organic garlic</td>\n",
       "    </tr>\n",
       "    <tr>\n",
       "      <th>13</th>\n",
       "      <td>45007</td>\n",
       "      <td>10076</td>\n",
       "      <td>organic zucchini</td>\n",
       "    </tr>\n",
       "    <tr>\n",
       "      <th>14</th>\n",
       "      <td>49683</td>\n",
       "      <td>9538</td>\n",
       "      <td>cucumber kirby</td>\n",
       "    </tr>\n",
       "    <tr>\n",
       "      <th>15</th>\n",
       "      <td>28204</td>\n",
       "      <td>8989</td>\n",
       "      <td>organic fuji apple</td>\n",
       "    </tr>\n",
       "    <tr>\n",
       "      <th>16</th>\n",
       "      <td>8277</td>\n",
       "      <td>8836</td>\n",
       "      <td>apple honeycrisp organic</td>\n",
       "    </tr>\n",
       "    <tr>\n",
       "      <th>17</th>\n",
       "      <td>39275</td>\n",
       "      <td>8799</td>\n",
       "      <td>organic blueberries</td>\n",
       "    </tr>\n",
       "    <tr>\n",
       "      <th>18</th>\n",
       "      <td>5876</td>\n",
       "      <td>8412</td>\n",
       "      <td>organic lemon</td>\n",
       "    </tr>\n",
       "    <tr>\n",
       "      <th>19</th>\n",
       "      <td>49235</td>\n",
       "      <td>8389</td>\n",
       "      <td>organic half &amp; half</td>\n",
       "    </tr>\n",
       "  </tbody>\n",
       "</table>\n",
       "</div>"
      ],
      "text/plain": [
       "    product_id  reordered_count              product_name\n",
       "0        24852            55763                    banana\n",
       "1        13176            44450    bag of organic bananas\n",
       "2        21137            28639      organic strawberries\n",
       "3        21903            26233      organic baby spinach\n",
       "4        47209            23629      organic hass avocado\n",
       "5        47766            18743           organic avocado\n",
       "6        27845            16251        organic whole milk\n",
       "7        47626            15044               large lemon\n",
       "8        27966            14748       organic raspberries\n",
       "9        16797            13945              strawberries\n",
       "10       26209            13327                     limes\n",
       "11       22935            11145      organic yellow onion\n",
       "12       24964            10411            organic garlic\n",
       "13       45007            10076          organic zucchini\n",
       "14       49683             9538            cucumber kirby\n",
       "15       28204             8989        organic fuji apple\n",
       "16        8277             8836  apple honeycrisp organic\n",
       "17       39275             8799       organic blueberries\n",
       "18        5876             8412             organic lemon\n",
       "19       49235             8389       organic half & half"
      ]
     },
     "execution_count": 69,
     "metadata": {},
     "output_type": "execute_result"
    }
   ],
   "source": [
    "# Unir con products_df para obtener los nombres\n",
    "top_reordered = reordered_counts.merge(products_df[['product_id', 'product_name']], on='product_id')\n",
    "top_reordered"
   ]
  },
  {
   "cell_type": "code",
   "execution_count": 70,
   "id": "48dd3658",
   "metadata": {
    "id": "48dd3658"
   },
   "outputs": [
    {
     "data": {
      "image/png": "[encoded data removed]",
      "text/plain": [
       "<Figure size 900x400 with 1 Axes>"
      ]
     },
     "metadata": {},
     "output_type": "display_data"
    },
    {
     "name": "stdout",
     "output_type": "stream",
     "text": [
      "    product_id              product_name\n",
      "0        24852                    banana\n",
      "1        13176    bag of organic bananas\n",
      "2        21137      organic strawberries\n",
      "3        21903      organic baby spinach\n",
      "4        47209      organic hass avocado\n",
      "5        47766           organic avocado\n",
      "6        27845        organic whole milk\n",
      "7        47626               large lemon\n",
      "8        27966       organic raspberries\n",
      "9        16797              strawberries\n",
      "10       26209                     limes\n",
      "11       22935      organic yellow onion\n",
      "12       24964            organic garlic\n",
      "13       45007          organic zucchini\n",
      "14       49683            cucumber kirby\n",
      "15       28204        organic fuji apple\n",
      "16        8277  apple honeycrisp organic\n",
      "17       39275       organic blueberries\n",
      "18        5876             organic lemon\n",
      "19       49235       organic half & half\n"
     ]
    }
   ],
   "source": [
    "# Crear gráfica de barras\n",
    "top_reordered.plot(\n",
    "    x='product_name',\n",
    "    y='reordered_count',\n",
    "    kind='bar',\n",
    "    figsize=[9, 4],\n",
    "    color='green',\n",
    "    title='Top 20 Most Reordered Products',\n",
    "    xlabel='Product Name',\n",
    "    ylabel='Number of Re-orders',\n",
    "    ylim=[0, top_reordered['reordered_count'].max() * 1.1],\n",
    "    legend = False\n",
    ")\n",
    "\n",
    "# Ajustar etiquetas del eje X\n",
    "plt.xticks(rotation=45, ha='right')\n",
    "\n",
    "# Mostrar gráfica\n",
    "plt.show()\n",
    "\n",
    "# Mostrar ID y nombre de los 20 productos más populares\n",
    "print(top_reordered[['product_id', 'product_name']])"
   ]
  },
  {
   "cell_type": "markdown",
   "id": "80e70c74",
   "metadata": {
    "id": "80e70c74"
   },
   "source": [
    "Escribe aquí tus conclusiones"
   ]
  },
  {
   "cell_type": "markdown",
   "id": "9438c66a-9606-42c3-9580-e3980dc16f4d",
   "metadata": {},
   "source": [
    "<div style=\"color: blue;\">\n",
    "Al igual que con los 20 productos más vendidos, los 20 productos más reordenados son frutas y verduras orgnánicas; siendo las bananas, nuevamente, el top 1 y 2.\n",
    "</div>"
   ]
  },
  {
   "cell_type": "markdown",
   "id": "9d312b14",
   "metadata": {
    "id": "9d312b14"
   },
   "source": [
    "### [C3] Para cada producto, ¿cuál es la proporción de las veces que se pide y que se vuelve a pedir?"
   ]
  },
  {
   "cell_type": "code",
   "execution_count": 71,
   "id": "ea86bec6-1ce8-45b9-8ce4-05f1af70b783",
   "metadata": {},
   "outputs": [],
   "source": [
    "#De instacart_orders_df necesito order_id\n",
    "#De order_products_df necesito order_id y reordered\n",
    "#Combinar de alguna manera instacart_orders_df con order_products_df\n",
    "#Sumar product_id para obtener el total de veces que un producto se compró (ordenó)\n",
    "#Sumar el total de veces que un mismo producto se recompró (reordered = 1)\n",
    "#Obtener la proporción entre las compras y las re-compras por producto\n",
    "#Graficar"
   ]
  },
  {
   "cell_type": "code",
   "execution_count": 72,
   "id": "22247519-c4d1-47d3-b97d-ee20f6d99e97",
   "metadata": {},
   "outputs": [
    {
     "data": {
      "text/html": [
       "<div>\n",
       "<style scoped>\n",
       "    .dataframe tbody tr th:only-of-type {\n",
       "        vertical-align: middle;\n",
       "    }\n",
       "\n",
       "    .dataframe tbody tr th {\n",
       "        vertical-align: top;\n",
       "    }\n",
       "\n",
       "    .dataframe thead th {\n",
       "        text-align: right;\n",
       "    }\n",
       "</style>\n",
       "<table border=\"1\" class=\"dataframe\">\n",
       "  <thead>\n",
       "    <tr style=\"text-align: right;\">\n",
       "      <th></th>\n",
       "      <th>product_id</th>\n",
       "      <th>total_orders</th>\n",
       "      <th>reordered_orders</th>\n",
       "    </tr>\n",
       "  </thead>\n",
       "  <tbody>\n",
       "    <tr>\n",
       "      <th>0</th>\n",
       "      <td>1</td>\n",
       "      <td>280</td>\n",
       "      <td>158</td>\n",
       "    </tr>\n",
       "    <tr>\n",
       "      <th>1</th>\n",
       "      <td>2</td>\n",
       "      <td>11</td>\n",
       "      <td>0</td>\n",
       "    </tr>\n",
       "    <tr>\n",
       "      <th>2</th>\n",
       "      <td>3</td>\n",
       "      <td>42</td>\n",
       "      <td>31</td>\n",
       "    </tr>\n",
       "    <tr>\n",
       "      <th>3</th>\n",
       "      <td>4</td>\n",
       "      <td>49</td>\n",
       "      <td>25</td>\n",
       "    </tr>\n",
       "    <tr>\n",
       "      <th>4</th>\n",
       "      <td>7</td>\n",
       "      <td>2</td>\n",
       "      <td>1</td>\n",
       "    </tr>\n",
       "    <tr>\n",
       "      <th>...</th>\n",
       "      <td>...</td>\n",
       "      <td>...</td>\n",
       "      <td>...</td>\n",
       "    </tr>\n",
       "    <tr>\n",
       "      <th>45568</th>\n",
       "      <td>49690</td>\n",
       "      <td>5</td>\n",
       "      <td>4</td>\n",
       "    </tr>\n",
       "    <tr>\n",
       "      <th>45569</th>\n",
       "      <td>49691</td>\n",
       "      <td>72</td>\n",
       "      <td>31</td>\n",
       "    </tr>\n",
       "    <tr>\n",
       "      <th>45570</th>\n",
       "      <td>49692</td>\n",
       "      <td>12</td>\n",
       "      <td>5</td>\n",
       "    </tr>\n",
       "    <tr>\n",
       "      <th>45571</th>\n",
       "      <td>49693</td>\n",
       "      <td>25</td>\n",
       "      <td>11</td>\n",
       "    </tr>\n",
       "    <tr>\n",
       "      <th>45572</th>\n",
       "      <td>49694</td>\n",
       "      <td>9</td>\n",
       "      <td>3</td>\n",
       "    </tr>\n",
       "  </tbody>\n",
       "</table>\n",
       "<p>45573 rows × 3 columns</p>\n",
       "</div>"
      ],
      "text/plain": [
       "       product_id  total_orders  reordered_orders\n",
       "0               1           280               158\n",
       "1               2            11                 0\n",
       "2               3            42                31\n",
       "3               4            49                25\n",
       "4               7             2                 1\n",
       "...           ...           ...               ...\n",
       "45568       49690             5                 4\n",
       "45569       49691            72                31\n",
       "45570       49692            12                 5\n",
       "45571       49693            25                11\n",
       "45572       49694             9                 3\n",
       "\n",
       "[45573 rows x 3 columns]"
      ]
     },
     "execution_count": 72,
     "metadata": {},
     "output_type": "execute_result"
    }
   ],
   "source": [
    "# Paso 1: Agrupar por product_id para contar órdenes totales y reordenadas\n",
    "product_stats = order_products_df.groupby('product_id').agg(\n",
    "    total_orders=('product_id', 'count'),  # Total de veces que se ordenó cada producto\n",
    "    reordered_orders=('reordered', 'sum')  # Total de veces que se reordenó cada producto\n",
    ").reset_index()\n",
    "\n",
    "product_stats"
   ]
  },
  {
   "cell_type": "code",
   "execution_count": 73,
   "id": "f2def17b-b373-4fe3-9aad-112ee701a312",
   "metadata": {},
   "outputs": [
    {
     "data": {
      "text/html": [
       "<div>\n",
       "<style scoped>\n",
       "    .dataframe tbody tr th:only-of-type {\n",
       "        vertical-align: middle;\n",
       "    }\n",
       "\n",
       "    .dataframe tbody tr th {\n",
       "        vertical-align: top;\n",
       "    }\n",
       "\n",
       "    .dataframe thead th {\n",
       "        text-align: right;\n",
       "    }\n",
       "</style>\n",
       "<table border=\"1\" class=\"dataframe\">\n",
       "  <thead>\n",
       "    <tr style=\"text-align: right;\">\n",
       "      <th></th>\n",
       "      <th>product_id</th>\n",
       "      <th>total_orders</th>\n",
       "      <th>reordered_orders</th>\n",
       "      <th>reorder_proportion</th>\n",
       "    </tr>\n",
       "  </thead>\n",
       "  <tbody>\n",
       "    <tr>\n",
       "      <th>0</th>\n",
       "      <td>1</td>\n",
       "      <td>280</td>\n",
       "      <td>158</td>\n",
       "      <td>56.428571</td>\n",
       "    </tr>\n",
       "    <tr>\n",
       "      <th>1</th>\n",
       "      <td>2</td>\n",
       "      <td>11</td>\n",
       "      <td>0</td>\n",
       "      <td>0.000000</td>\n",
       "    </tr>\n",
       "    <tr>\n",
       "      <th>2</th>\n",
       "      <td>3</td>\n",
       "      <td>42</td>\n",
       "      <td>31</td>\n",
       "      <td>73.809524</td>\n",
       "    </tr>\n",
       "    <tr>\n",
       "      <th>3</th>\n",
       "      <td>4</td>\n",
       "      <td>49</td>\n",
       "      <td>25</td>\n",
       "      <td>51.020408</td>\n",
       "    </tr>\n",
       "    <tr>\n",
       "      <th>4</th>\n",
       "      <td>7</td>\n",
       "      <td>2</td>\n",
       "      <td>1</td>\n",
       "      <td>50.000000</td>\n",
       "    </tr>\n",
       "    <tr>\n",
       "      <th>...</th>\n",
       "      <td>...</td>\n",
       "      <td>...</td>\n",
       "      <td>...</td>\n",
       "      <td>...</td>\n",
       "    </tr>\n",
       "    <tr>\n",
       "      <th>45568</th>\n",
       "      <td>49690</td>\n",
       "      <td>5</td>\n",
       "      <td>4</td>\n",
       "      <td>80.000000</td>\n",
       "    </tr>\n",
       "    <tr>\n",
       "      <th>45569</th>\n",
       "      <td>49691</td>\n",
       "      <td>72</td>\n",
       "      <td>31</td>\n",
       "      <td>43.055556</td>\n",
       "    </tr>\n",
       "    <tr>\n",
       "      <th>45570</th>\n",
       "      <td>49692</td>\n",
       "      <td>12</td>\n",
       "      <td>5</td>\n",
       "      <td>41.666667</td>\n",
       "    </tr>\n",
       "    <tr>\n",
       "      <th>45571</th>\n",
       "      <td>49693</td>\n",
       "      <td>25</td>\n",
       "      <td>11</td>\n",
       "      <td>44.000000</td>\n",
       "    </tr>\n",
       "    <tr>\n",
       "      <th>45572</th>\n",
       "      <td>49694</td>\n",
       "      <td>9</td>\n",
       "      <td>3</td>\n",
       "      <td>33.333333</td>\n",
       "    </tr>\n",
       "  </tbody>\n",
       "</table>\n",
       "<p>45573 rows × 4 columns</p>\n",
       "</div>"
      ],
      "text/plain": [
       "       product_id  total_orders  reordered_orders  reorder_proportion\n",
       "0               1           280               158           56.428571\n",
       "1               2            11                 0            0.000000\n",
       "2               3            42                31           73.809524\n",
       "3               4            49                25           51.020408\n",
       "4               7             2                 1           50.000000\n",
       "...           ...           ...               ...                 ...\n",
       "45568       49690             5                 4           80.000000\n",
       "45569       49691            72                31           43.055556\n",
       "45570       49692            12                 5           41.666667\n",
       "45571       49693            25                11           44.000000\n",
       "45572       49694             9                 3           33.333333\n",
       "\n",
       "[45573 rows x 4 columns]"
      ]
     },
     "execution_count": 73,
     "metadata": {},
     "output_type": "execute_result"
    }
   ],
   "source": [
    "# Paso 2: Calcular la proporción de reórdenes\n",
    "product_stats['reorder_proportion'] = (product_stats['reordered_orders'] / product_stats['total_orders']) *100\n",
    "product_stats"
   ]
  },
  {
   "cell_type": "code",
   "execution_count": 74,
   "id": "6c54788b-7fa9-434a-a34b-3d0d82920e52",
   "metadata": {},
   "outputs": [
    {
     "data": {
      "image/png": "[encoded data removed]",
      "text/plain": [
       "<Figure size 900x400 with 1 Axes>"
      ]
     },
     "metadata": {},
     "output_type": "display_data"
    }
   ],
   "source": [
    "# Paso 3: Crear histograma para visualizar la distribución de la proporción\n",
    "product_stats.plot(\n",
    "    kind='hist',\n",
    "    y='reorder_proportion',\n",
    "    bins=20,\n",
    "    figsize=[9, 4], \n",
    "    color='purple', \n",
    "    edgecolor='black',\n",
    "    title='Distribution of Reorder Proportion Across Products',\n",
    "    legend=False\n",
    ")\n",
    "\n",
    "plt.xlabel('Reorder Proportion')\n",
    "\n",
    "plt.show()"
   ]
  },
  {
   "cell_type": "code",
   "execution_count": 75,
   "id": "670bbb29-c4c2-4d69-83e0-5d6450b5fd64",
   "metadata": {},
   "outputs": [
    {
     "name": "stdout",
     "output_type": "stream",
     "text": [
      "Número de productos con proporción de reorden del 100%: 1809\n",
      "Número de productos con proporción de reorden menor o igual al 5%: 9414\n",
      "Número de productos con proporción de reorden entre 50 y 55%: 5477\n"
     ]
    }
   ],
   "source": [
    "# Verificar cuántos productos tienen proporción del 100%\n",
    "print(f\"Número de productos con proporción de reorden del 100%: {(product_stats['reorder_proportion'] == 100).sum()}\")\n",
    "# Verificar cuántos productos tienen proporción del 5% o menos\n",
    "print(f\"Número de productos con proporción de reorden menor o igual al 5%: {(product_stats['reorder_proportion'] <= 5).sum()}\")\n",
    "# Verificar cuántos productos tienen proporción de entre 50 y 55%\n",
    "print(f\"Número de productos con proporción de reorden entre 50 y 55%: {((product_stats['reorder_proportion'] >= 50) & (product_stats['reorder_proportion'] <= 55)).sum()}\")"
   ]
  },
  {
   "cell_type": "markdown",
   "id": "I10dEIAyldcO",
   "metadata": {
    "id": "I10dEIAyldcO"
   },
   "source": [
    "Escribe aquí tus conclusiones"
   ]
  },
  {
   "cell_type": "markdown",
   "id": "2aacd175-4608-4a86-a83e-5ca3f5212af0",
   "metadata": {},
   "source": [
    "<div style=\"color: blue;\">\n",
    "Dado que la cantidad de productos diferentes (product_id en products_df) es de miles de productos (casi 50 mil), es imposible generar una gráfica que tenga en el eje X los nombres de los productos y en eje Y la tasa de recompra. Por lo tanto, opté por graficar en un histograma la tasa de recompra de los prodcutos.\n",
    "    \n",
    "Se observa que:\n",
    "- Hay un pico entre 0 y 5%, que es el pico más grande; lo que quiere decir que la mayoría de productos tiene una tasa de recompra de entre 0 y 5%.\n",
    "- Hay otro pico entre 50 y 55%, por lo que hay una cantidad importante de productos cuya recompra es de entre 50 y 55%.\n",
    "- Hay un tercer pico (pequeño) en la tasa de recompra del 100%, lo que significa que hay una cantidad de productos pequeña, pero significativa que se recompran al 100%\n",
    "- Del resto, se puede decir que hay productos con frecuencias de aparición de entre mil y 4 mil, que oscilan en una tasa de recompra de entre 20 y 80%.\n",
    "</div>"
   ]
  },
  {
   "cell_type": "markdown",
   "id": "subject-boxing",
   "metadata": {
    "id": "subject-boxing"
   },
   "source": [
    "### [C4] Para cada cliente, ¿qué proporción de sus productos ya los había pedido?"
   ]
  },
  {
   "cell_type": "code",
   "execution_count": 76,
   "id": "medical-couple",
   "metadata": {
    "id": "medical-couple",
    "scrolled": true
   },
   "outputs": [],
   "source": [
    "#De instacart_orders_df necesito order_id y user_id\n",
    "#De order_products_df necesito order_id, product_id  y reordered\n",
    "#De alguna manera, combirnar instacart_orders_df con order_products_df y tener por user_id, los product_id que reordenó (reordered)\n",
    "#Encontrar cuántos productos reordenó.\n",
    "#Obtener la tasa de total de productosa ordenados vs productos reordenados.\n",
    "#Graficar"
   ]
  },
  {
   "cell_type": "code",
   "execution_count": 77,
   "id": "8892e4b4",
   "metadata": {
    "id": "8892e4b4"
   },
   "outputs": [
    {
     "data": {
      "text/html": [
       "<div>\n",
       "<style scoped>\n",
       "    .dataframe tbody tr th:only-of-type {\n",
       "        vertical-align: middle;\n",
       "    }\n",
       "\n",
       "    .dataframe tbody tr th {\n",
       "        vertical-align: top;\n",
       "    }\n",
       "\n",
       "    .dataframe thead th {\n",
       "        text-align: right;\n",
       "    }\n",
       "</style>\n",
       "<table border=\"1\" class=\"dataframe\">\n",
       "  <thead>\n",
       "    <tr style=\"text-align: right;\">\n",
       "      <th></th>\n",
       "      <th>order_id</th>\n",
       "      <th>user_id</th>\n",
       "      <th>order_number</th>\n",
       "      <th>order_dow</th>\n",
       "      <th>order_hour_of_day</th>\n",
       "      <th>days_since_prior_order</th>\n",
       "      <th>product_id</th>\n",
       "      <th>reordered</th>\n",
       "    </tr>\n",
       "  </thead>\n",
       "  <tbody>\n",
       "    <tr>\n",
       "      <th>0</th>\n",
       "      <td>1515936</td>\n",
       "      <td>183418</td>\n",
       "      <td>11</td>\n",
       "      <td>6</td>\n",
       "      <td>13</td>\n",
       "      <td>30</td>\n",
       "      <td>19048</td>\n",
       "      <td>1</td>\n",
       "    </tr>\n",
       "    <tr>\n",
       "      <th>1</th>\n",
       "      <td>1515936</td>\n",
       "      <td>183418</td>\n",
       "      <td>11</td>\n",
       "      <td>6</td>\n",
       "      <td>13</td>\n",
       "      <td>30</td>\n",
       "      <td>47766</td>\n",
       "      <td>1</td>\n",
       "    </tr>\n",
       "    <tr>\n",
       "      <th>2</th>\n",
       "      <td>1515936</td>\n",
       "      <td>183418</td>\n",
       "      <td>11</td>\n",
       "      <td>6</td>\n",
       "      <td>13</td>\n",
       "      <td>30</td>\n",
       "      <td>45066</td>\n",
       "      <td>0</td>\n",
       "    </tr>\n",
       "    <tr>\n",
       "      <th>3</th>\n",
       "      <td>1515936</td>\n",
       "      <td>183418</td>\n",
       "      <td>11</td>\n",
       "      <td>6</td>\n",
       "      <td>13</td>\n",
       "      <td>30</td>\n",
       "      <td>24082</td>\n",
       "      <td>0</td>\n",
       "    </tr>\n",
       "    <tr>\n",
       "      <th>4</th>\n",
       "      <td>1515936</td>\n",
       "      <td>183418</td>\n",
       "      <td>11</td>\n",
       "      <td>6</td>\n",
       "      <td>13</td>\n",
       "      <td>30</td>\n",
       "      <td>24363</td>\n",
       "      <td>0</td>\n",
       "    </tr>\n",
       "    <tr>\n",
       "      <th>...</th>\n",
       "      <td>...</td>\n",
       "      <td>...</td>\n",
       "      <td>...</td>\n",
       "      <td>...</td>\n",
       "      <td>...</td>\n",
       "      <td>...</td>\n",
       "      <td>...</td>\n",
       "      <td>...</td>\n",
       "    </tr>\n",
       "    <tr>\n",
       "      <th>4545002</th>\n",
       "      <td>2071924</td>\n",
       "      <td>1730</td>\n",
       "      <td>18</td>\n",
       "      <td>1</td>\n",
       "      <td>14</td>\n",
       "      <td>15</td>\n",
       "      <td>1503</td>\n",
       "      <td>0</td>\n",
       "    </tr>\n",
       "    <tr>\n",
       "      <th>4545003</th>\n",
       "      <td>2071924</td>\n",
       "      <td>1730</td>\n",
       "      <td>18</td>\n",
       "      <td>1</td>\n",
       "      <td>14</td>\n",
       "      <td>15</td>\n",
       "      <td>4778</td>\n",
       "      <td>1</td>\n",
       "    </tr>\n",
       "    <tr>\n",
       "      <th>4545004</th>\n",
       "      <td>2071924</td>\n",
       "      <td>1730</td>\n",
       "      <td>18</td>\n",
       "      <td>1</td>\n",
       "      <td>14</td>\n",
       "      <td>15</td>\n",
       "      <td>11512</td>\n",
       "      <td>1</td>\n",
       "    </tr>\n",
       "    <tr>\n",
       "      <th>4545005</th>\n",
       "      <td>2071924</td>\n",
       "      <td>1730</td>\n",
       "      <td>18</td>\n",
       "      <td>1</td>\n",
       "      <td>14</td>\n",
       "      <td>15</td>\n",
       "      <td>4920</td>\n",
       "      <td>1</td>\n",
       "    </tr>\n",
       "    <tr>\n",
       "      <th>4545006</th>\n",
       "      <td>2071924</td>\n",
       "      <td>1730</td>\n",
       "      <td>18</td>\n",
       "      <td>1</td>\n",
       "      <td>14</td>\n",
       "      <td>15</td>\n",
       "      <td>17678</td>\n",
       "      <td>1</td>\n",
       "    </tr>\n",
       "  </tbody>\n",
       "</table>\n",
       "<p>4545007 rows × 8 columns</p>\n",
       "</div>"
      ],
      "text/plain": [
       "         order_id  user_id  order_number  order_dow  order_hour_of_day  \\\n",
       "0         1515936   183418            11          6                 13   \n",
       "1         1515936   183418            11          6                 13   \n",
       "2         1515936   183418            11          6                 13   \n",
       "3         1515936   183418            11          6                 13   \n",
       "4         1515936   183418            11          6                 13   \n",
       "...           ...      ...           ...        ...                ...   \n",
       "4545002   2071924     1730            18          1                 14   \n",
       "4545003   2071924     1730            18          1                 14   \n",
       "4545004   2071924     1730            18          1                 14   \n",
       "4545005   2071924     1730            18          1                 14   \n",
       "4545006   2071924     1730            18          1                 14   \n",
       "\n",
       "         days_since_prior_order  product_id  reordered  \n",
       "0                            30       19048          1  \n",
       "1                            30       47766          1  \n",
       "2                            30       45066          0  \n",
       "3                            30       24082          0  \n",
       "4                            30       24363          0  \n",
       "...                         ...         ...        ...  \n",
       "4545002                      15        1503          0  \n",
       "4545003                      15        4778          1  \n",
       "4545004                      15       11512          1  \n",
       "4545005                      15        4920          1  \n",
       "4545006                      15       17678          1  \n",
       "\n",
       "[4545007 rows x 8 columns]"
      ]
     },
     "execution_count": 77,
     "metadata": {},
     "output_type": "execute_result"
    }
   ],
   "source": [
    "# Paso 1: Combinar instacart_orders_df y order_products_df usando order_id\n",
    "combined_df = instacart_orders_df.merge(order_products_df[['order_id', 'product_id', 'reordered']], on='order_id', how='inner')\n",
    "combined_df"
   ]
  },
  {
   "cell_type": "code",
   "execution_count": 78,
   "id": "78e482d3-3c17-4132-bf3a-2914f541deac",
   "metadata": {},
   "outputs": [
    {
     "data": {
      "text/html": [
       "<div>\n",
       "<style scoped>\n",
       "    .dataframe tbody tr th:only-of-type {\n",
       "        vertical-align: middle;\n",
       "    }\n",
       "\n",
       "    .dataframe tbody tr th {\n",
       "        vertical-align: top;\n",
       "    }\n",
       "\n",
       "    .dataframe thead th {\n",
       "        text-align: right;\n",
       "    }\n",
       "</style>\n",
       "<table border=\"1\" class=\"dataframe\">\n",
       "  <thead>\n",
       "    <tr style=\"text-align: right;\">\n",
       "      <th></th>\n",
       "      <th>user_id</th>\n",
       "      <th>total_products</th>\n",
       "      <th>reordered_products</th>\n",
       "    </tr>\n",
       "  </thead>\n",
       "  <tbody>\n",
       "    <tr>\n",
       "      <th>0</th>\n",
       "      <td>2</td>\n",
       "      <td>26</td>\n",
       "      <td>1</td>\n",
       "    </tr>\n",
       "    <tr>\n",
       "      <th>1</th>\n",
       "      <td>4</td>\n",
       "      <td>2</td>\n",
       "      <td>0</td>\n",
       "    </tr>\n",
       "    <tr>\n",
       "      <th>2</th>\n",
       "      <td>5</td>\n",
       "      <td>12</td>\n",
       "      <td>8</td>\n",
       "    </tr>\n",
       "    <tr>\n",
       "      <th>3</th>\n",
       "      <td>6</td>\n",
       "      <td>4</td>\n",
       "      <td>0</td>\n",
       "    </tr>\n",
       "    <tr>\n",
       "      <th>4</th>\n",
       "      <td>7</td>\n",
       "      <td>14</td>\n",
       "      <td>13</td>\n",
       "    </tr>\n",
       "    <tr>\n",
       "      <th>...</th>\n",
       "      <td>...</td>\n",
       "      <td>...</td>\n",
       "      <td>...</td>\n",
       "    </tr>\n",
       "    <tr>\n",
       "      <th>149621</th>\n",
       "      <td>206203</td>\n",
       "      <td>27</td>\n",
       "      <td>6</td>\n",
       "    </tr>\n",
       "    <tr>\n",
       "      <th>149622</th>\n",
       "      <td>206206</td>\n",
       "      <td>21</td>\n",
       "      <td>15</td>\n",
       "    </tr>\n",
       "    <tr>\n",
       "      <th>149623</th>\n",
       "      <td>206207</td>\n",
       "      <td>46</td>\n",
       "      <td>41</td>\n",
       "    </tr>\n",
       "    <tr>\n",
       "      <th>149624</th>\n",
       "      <td>206208</td>\n",
       "      <td>125</td>\n",
       "      <td>87</td>\n",
       "    </tr>\n",
       "    <tr>\n",
       "      <th>149625</th>\n",
       "      <td>206209</td>\n",
       "      <td>25</td>\n",
       "      <td>8</td>\n",
       "    </tr>\n",
       "  </tbody>\n",
       "</table>\n",
       "<p>149626 rows × 3 columns</p>\n",
       "</div>"
      ],
      "text/plain": [
       "        user_id  total_products  reordered_products\n",
       "0             2              26                   1\n",
       "1             4               2                   0\n",
       "2             5              12                   8\n",
       "3             6               4                   0\n",
       "4             7              14                  13\n",
       "...         ...             ...                 ...\n",
       "149621   206203              27                   6\n",
       "149622   206206              21                  15\n",
       "149623   206207              46                  41\n",
       "149624   206208             125                  87\n",
       "149625   206209              25                   8\n",
       "\n",
       "[149626 rows x 3 columns]"
      ]
     },
     "execution_count": 78,
     "metadata": {},
     "output_type": "execute_result"
    }
   ],
   "source": [
    "# Paso 2: Agrupar por user_id para contar productos totales y reordenados\n",
    "user_product_stats = combined_df.groupby('user_id').agg(\n",
    "    total_products=('product_id', 'count'),\n",
    "    reordered_products=('reordered', 'sum')\n",
    ").reset_index()\n",
    "user_product_stats"
   ]
  },
  {
   "cell_type": "code",
   "execution_count": 79,
   "id": "856cfd7a-bea1-4534-9ea1-c0aaf82433c5",
   "metadata": {},
   "outputs": [
    {
     "data": {
      "text/html": [
       "<div>\n",
       "<style scoped>\n",
       "    .dataframe tbody tr th:only-of-type {\n",
       "        vertical-align: middle;\n",
       "    }\n",
       "\n",
       "    .dataframe tbody tr th {\n",
       "        vertical-align: top;\n",
       "    }\n",
       "\n",
       "    .dataframe thead th {\n",
       "        text-align: right;\n",
       "    }\n",
       "</style>\n",
       "<table border=\"1\" class=\"dataframe\">\n",
       "  <thead>\n",
       "    <tr style=\"text-align: right;\">\n",
       "      <th></th>\n",
       "      <th>user_id</th>\n",
       "      <th>total_products</th>\n",
       "      <th>reordered_products</th>\n",
       "      <th>reorder_proportion</th>\n",
       "    </tr>\n",
       "  </thead>\n",
       "  <tbody>\n",
       "    <tr>\n",
       "      <th>0</th>\n",
       "      <td>2</td>\n",
       "      <td>26</td>\n",
       "      <td>1</td>\n",
       "      <td>3.846154</td>\n",
       "    </tr>\n",
       "    <tr>\n",
       "      <th>1</th>\n",
       "      <td>4</td>\n",
       "      <td>2</td>\n",
       "      <td>0</td>\n",
       "      <td>0.000000</td>\n",
       "    </tr>\n",
       "    <tr>\n",
       "      <th>2</th>\n",
       "      <td>5</td>\n",
       "      <td>12</td>\n",
       "      <td>8</td>\n",
       "      <td>66.666667</td>\n",
       "    </tr>\n",
       "    <tr>\n",
       "      <th>3</th>\n",
       "      <td>6</td>\n",
       "      <td>4</td>\n",
       "      <td>0</td>\n",
       "      <td>0.000000</td>\n",
       "    </tr>\n",
       "    <tr>\n",
       "      <th>4</th>\n",
       "      <td>7</td>\n",
       "      <td>14</td>\n",
       "      <td>13</td>\n",
       "      <td>92.857143</td>\n",
       "    </tr>\n",
       "    <tr>\n",
       "      <th>...</th>\n",
       "      <td>...</td>\n",
       "      <td>...</td>\n",
       "      <td>...</td>\n",
       "      <td>...</td>\n",
       "    </tr>\n",
       "    <tr>\n",
       "      <th>149621</th>\n",
       "      <td>206203</td>\n",
       "      <td>27</td>\n",
       "      <td>6</td>\n",
       "      <td>22.222222</td>\n",
       "    </tr>\n",
       "    <tr>\n",
       "      <th>149622</th>\n",
       "      <td>206206</td>\n",
       "      <td>21</td>\n",
       "      <td>15</td>\n",
       "      <td>71.428571</td>\n",
       "    </tr>\n",
       "    <tr>\n",
       "      <th>149623</th>\n",
       "      <td>206207</td>\n",
       "      <td>46</td>\n",
       "      <td>41</td>\n",
       "      <td>89.130435</td>\n",
       "    </tr>\n",
       "    <tr>\n",
       "      <th>149624</th>\n",
       "      <td>206208</td>\n",
       "      <td>125</td>\n",
       "      <td>87</td>\n",
       "      <td>69.600000</td>\n",
       "    </tr>\n",
       "    <tr>\n",
       "      <th>149625</th>\n",
       "      <td>206209</td>\n",
       "      <td>25</td>\n",
       "      <td>8</td>\n",
       "      <td>32.000000</td>\n",
       "    </tr>\n",
       "  </tbody>\n",
       "</table>\n",
       "<p>149626 rows × 4 columns</p>\n",
       "</div>"
      ],
      "text/plain": [
       "        user_id  total_products  reordered_products  reorder_proportion\n",
       "0             2              26                   1            3.846154\n",
       "1             4               2                   0            0.000000\n",
       "2             5              12                   8           66.666667\n",
       "3             6               4                   0            0.000000\n",
       "4             7              14                  13           92.857143\n",
       "...         ...             ...                 ...                 ...\n",
       "149621   206203              27                   6           22.222222\n",
       "149622   206206              21                  15           71.428571\n",
       "149623   206207              46                  41           89.130435\n",
       "149624   206208             125                  87           69.600000\n",
       "149625   206209              25                   8           32.000000\n",
       "\n",
       "[149626 rows x 4 columns]"
      ]
     },
     "execution_count": 79,
     "metadata": {},
     "output_type": "execute_result"
    }
   ],
   "source": [
    "# Paso 3: Calcular la proporción de productos reordenados\n",
    "user_product_stats['reorder_proportion'] = (user_product_stats['reordered_products'] / user_product_stats['total_products']) *100\n",
    "user_product_stats"
   ]
  },
  {
   "cell_type": "code",
   "execution_count": 80,
   "id": "11d64f99-b8a6-401e-8738-8cbe60d92766",
   "metadata": {},
   "outputs": [
    {
     "data": {
      "image/png": "[encoded data removed]",
      "text/plain": [
       "<Figure size 1000x600 with 1 Axes>"
      ]
     },
     "metadata": {},
     "output_type": "display_data"
    }
   ],
   "source": [
    "# Paso 4: Crear histograma para visualizar la distribución de la proporción\n",
    "user_product_stats.plot(\n",
    "    kind='hist',\n",
    "    y='reorder_proportion',\n",
    "    bins=20,\n",
    "    figsize=[10, 6],\n",
    "    color='purple',\n",
    "    edgecolor='black',\n",
    "    title='Distribution of Reorder Proportion per Client',\n",
    "    legend=False\n",
    ")\n",
    "\n",
    "plt.xlabel('Reorder Proportion')\n",
    "plt.show()\n"
   ]
  },
  {
   "cell_type": "markdown",
   "id": "BgJSvXDsleXz",
   "metadata": {
    "id": "BgJSvXDsleXz"
   },
   "source": [
    "Escribe aquí tus conclusiones"
   ]
  },
  {
   "cell_type": "markdown",
   "id": "2e42321f-25cc-4563-823a-d956c06ce3e1",
   "metadata": {},
   "source": [
    "<div style=\"color: blue;\">\n",
    "Al igual que en el caso anterior, la cantidad de usuarios diferentes es demasiado grande (casi 150 mil) como para hacer una gráfica en la que en el eje X aparezcan los user_id. Por lo tanto, opté por graficar en un histograma la proporción de recompra de los prodcutos por cliente.\n",
    "    \n",
    "Se observa que:\n",
    "- Hay un pico entre 0 y 5%, que es el pico más grande; lo que quiere decir que un mismo cliente sólo recompra entre el 0 y el 5% de sus produectos.\n",
    "- Hay otro pico entre 50 y 55%, por lo que hay una cantidad importante clientess cuya proporción de recompra oscila entre 50 y 55%.\n",
    "- Hay un tercer pico en la proporción de recompra del 100%, lo que significa que hay una cantidad significativa de clientes que recompran todos los productos que ya habían pedido antes.\n",
    "- Del resto, se puede decir que hay proporciones de recompra por cliente, con frecuencias de aparición de entre 2 mil y 10 mil, que oscilan entre el 10 y 90%.\n",
    "- Esta distribución es casi idéntica a la tasa de recompra por producto.\n",
    "</div>"
   ]
  },
  {
   "cell_type": "markdown",
   "id": "92d35137",
   "metadata": {
    "id": "92d35137"
   },
   "source": [
    "### [C5] ¿Cuáles son los 20 principales artículos que las personas ponen primero en sus carritos?"
   ]
  },
  {
   "cell_type": "code",
   "execution_count": 81,
   "id": "0ae57274",
   "metadata": {
    "id": "0ae57274",
    "scrolled": true
   },
   "outputs": [],
   "source": [
    "#De order_products_df necesito product_id y add_to_cart_order.\n",
    "#De products_df necesito product_id y product_name\n",
    "#Combinar los dos dataframes para tener la información de product_id y add_to_cart_order en un mismo df.\n",
    "#Identificar (product_id y product_name) los productos cuyo add_to_cart_order es igual a 1 y contar cuántas veces tienen ese valor.\n",
    "#Obtener los primeros 20\n",
    "#Graficar con barras (ejeX = Nombre de los productos, ejeY = cantidad de veces que fueron el primer lugar)."
   ]
  },
  {
   "cell_type": "code",
   "execution_count": 82,
   "id": "forty-netherlands",
   "metadata": {
    "id": "forty-netherlands",
    "scrolled": true
   },
   "outputs": [
    {
     "data": {
      "text/html": [
       "<div>\n",
       "<style scoped>\n",
       "    .dataframe tbody tr th:only-of-type {\n",
       "        vertical-align: middle;\n",
       "    }\n",
       "\n",
       "    .dataframe tbody tr th {\n",
       "        vertical-align: top;\n",
       "    }\n",
       "\n",
       "    .dataframe thead th {\n",
       "        text-align: right;\n",
       "    }\n",
       "</style>\n",
       "<table border=\"1\" class=\"dataframe\">\n",
       "  <thead>\n",
       "    <tr style=\"text-align: right;\">\n",
       "      <th></th>\n",
       "      <th>order_id</th>\n",
       "      <th>product_id</th>\n",
       "      <th>add_to_cart_order</th>\n",
       "      <th>reordered</th>\n",
       "    </tr>\n",
       "  </thead>\n",
       "  <tbody>\n",
       "    <tr>\n",
       "      <th>1</th>\n",
       "      <td>567889</td>\n",
       "      <td>1560</td>\n",
       "      <td>1</td>\n",
       "      <td>1</td>\n",
       "    </tr>\n",
       "    <tr>\n",
       "      <th>2</th>\n",
       "      <td>2261212</td>\n",
       "      <td>26683</td>\n",
       "      <td>1</td>\n",
       "      <td>1</td>\n",
       "    </tr>\n",
       "    <tr>\n",
       "      <th>14</th>\n",
       "      <td>1961225</td>\n",
       "      <td>37553</td>\n",
       "      <td>1</td>\n",
       "      <td>1</td>\n",
       "    </tr>\n",
       "    <tr>\n",
       "      <th>16</th>\n",
       "      <td>639939</td>\n",
       "      <td>10017</td>\n",
       "      <td>1</td>\n",
       "      <td>1</td>\n",
       "    </tr>\n",
       "    <tr>\n",
       "      <th>23</th>\n",
       "      <td>750040</td>\n",
       "      <td>8518</td>\n",
       "      <td>1</td>\n",
       "      <td>0</td>\n",
       "    </tr>\n",
       "    <tr>\n",
       "      <th>...</th>\n",
       "      <td>...</td>\n",
       "      <td>...</td>\n",
       "      <td>...</td>\n",
       "      <td>...</td>\n",
       "    </tr>\n",
       "    <tr>\n",
       "      <th>4544978</th>\n",
       "      <td>1759009</td>\n",
       "      <td>46175</td>\n",
       "      <td>1</td>\n",
       "      <td>0</td>\n",
       "    </tr>\n",
       "    <tr>\n",
       "      <th>4544989</th>\n",
       "      <td>115427</td>\n",
       "      <td>20842</td>\n",
       "      <td>1</td>\n",
       "      <td>1</td>\n",
       "    </tr>\n",
       "    <tr>\n",
       "      <th>4544990</th>\n",
       "      <td>2049780</td>\n",
       "      <td>28576</td>\n",
       "      <td>1</td>\n",
       "      <td>1</td>\n",
       "    </tr>\n",
       "    <tr>\n",
       "      <th>4544997</th>\n",
       "      <td>2300092</td>\n",
       "      <td>10017</td>\n",
       "      <td>1</td>\n",
       "      <td>0</td>\n",
       "    </tr>\n",
       "    <tr>\n",
       "      <th>4544999</th>\n",
       "      <td>1622300</td>\n",
       "      <td>24852</td>\n",
       "      <td>1</td>\n",
       "      <td>1</td>\n",
       "    </tr>\n",
       "  </tbody>\n",
       "</table>\n",
       "<p>450046 rows × 4 columns</p>\n",
       "</div>"
      ],
      "text/plain": [
       "         order_id  product_id  add_to_cart_order  reordered\n",
       "1          567889        1560                  1          1\n",
       "2         2261212       26683                  1          1\n",
       "14        1961225       37553                  1          1\n",
       "16         639939       10017                  1          1\n",
       "23         750040        8518                  1          0\n",
       "...           ...         ...                ...        ...\n",
       "4544978   1759009       46175                  1          0\n",
       "4544989    115427       20842                  1          1\n",
       "4544990   2049780       28576                  1          1\n",
       "4544997   2300092       10017                  1          0\n",
       "4544999   1622300       24852                  1          1\n",
       "\n",
       "[450046 rows x 4 columns]"
      ]
     },
     "execution_count": 82,
     "metadata": {},
     "output_type": "execute_result"
    }
   ],
   "source": [
    "# Paso 1: Filtrar productos que se agregaron primero (add_to_cart_order == 1)\n",
    "first_added = order_products_df[order_products_df['add_to_cart_order'] == 1]\n",
    "first_added\n",
    "\n"
   ]
  },
  {
   "cell_type": "code",
   "execution_count": 83,
   "id": "b58975ab-05a3-436c-be58-86d3bd17ed23",
   "metadata": {},
   "outputs": [
    {
     "data": {
      "text/html": [
       "<div>\n",
       "<style scoped>\n",
       "    .dataframe tbody tr th:only-of-type {\n",
       "        vertical-align: middle;\n",
       "    }\n",
       "\n",
       "    .dataframe tbody tr th {\n",
       "        vertical-align: top;\n",
       "    }\n",
       "\n",
       "    .dataframe thead th {\n",
       "        text-align: right;\n",
       "    }\n",
       "</style>\n",
       "<table border=\"1\" class=\"dataframe\">\n",
       "  <thead>\n",
       "    <tr style=\"text-align: right;\">\n",
       "      <th></th>\n",
       "      <th>product_id</th>\n",
       "      <th>first_added_count</th>\n",
       "    </tr>\n",
       "  </thead>\n",
       "  <tbody>\n",
       "    <tr>\n",
       "      <th>0</th>\n",
       "      <td>24852</td>\n",
       "      <td>15562</td>\n",
       "    </tr>\n",
       "    <tr>\n",
       "      <th>1</th>\n",
       "      <td>13176</td>\n",
       "      <td>11026</td>\n",
       "    </tr>\n",
       "    <tr>\n",
       "      <th>2</th>\n",
       "      <td>27845</td>\n",
       "      <td>4363</td>\n",
       "    </tr>\n",
       "    <tr>\n",
       "      <th>3</th>\n",
       "      <td>21137</td>\n",
       "      <td>3946</td>\n",
       "    </tr>\n",
       "    <tr>\n",
       "      <th>4</th>\n",
       "      <td>47209</td>\n",
       "      <td>3390</td>\n",
       "    </tr>\n",
       "    <tr>\n",
       "      <th>...</th>\n",
       "      <td>...</td>\n",
       "      <td>...</td>\n",
       "    </tr>\n",
       "    <tr>\n",
       "      <th>26755</th>\n",
       "      <td>10628</td>\n",
       "      <td>1</td>\n",
       "    </tr>\n",
       "    <tr>\n",
       "      <th>26756</th>\n",
       "      <td>8581</td>\n",
       "      <td>1</td>\n",
       "    </tr>\n",
       "    <tr>\n",
       "      <th>26757</th>\n",
       "      <td>35216</td>\n",
       "      <td>1</td>\n",
       "    </tr>\n",
       "    <tr>\n",
       "      <th>26758</th>\n",
       "      <td>43412</td>\n",
       "      <td>1</td>\n",
       "    </tr>\n",
       "    <tr>\n",
       "      <th>26759</th>\n",
       "      <td>4094</td>\n",
       "      <td>1</td>\n",
       "    </tr>\n",
       "  </tbody>\n",
       "</table>\n",
       "<p>26760 rows × 2 columns</p>\n",
       "</div>"
      ],
      "text/plain": [
       "       product_id  first_added_count\n",
       "0           24852              15562\n",
       "1           13176              11026\n",
       "2           27845               4363\n",
       "3           21137               3946\n",
       "4           47209               3390\n",
       "...           ...                ...\n",
       "26755       10628                  1\n",
       "26756        8581                  1\n",
       "26757       35216                  1\n",
       "26758       43412                  1\n",
       "26759        4094                  1\n",
       "\n",
       "[26760 rows x 2 columns]"
      ]
     },
     "execution_count": 83,
     "metadata": {},
     "output_type": "execute_result"
    }
   ],
   "source": [
    "# Paso 2: Contar cuántas veces cada producto fue agregado primero\n",
    "first_added_counts = first_added['product_id'].value_counts().reset_index()\n",
    "first_added_counts.columns = ['product_id', 'first_added_count']\n",
    "first_added_counts"
   ]
  },
  {
   "cell_type": "code",
   "execution_count": 84,
   "id": "c0ceba41-525b-4518-abda-339e21bccdc1",
   "metadata": {},
   "outputs": [
    {
     "data": {
      "text/html": [
       "<div>\n",
       "<style scoped>\n",
       "    .dataframe tbody tr th:only-of-type {\n",
       "        vertical-align: middle;\n",
       "    }\n",
       "\n",
       "    .dataframe tbody tr th {\n",
       "        vertical-align: top;\n",
       "    }\n",
       "\n",
       "    .dataframe thead th {\n",
       "        text-align: right;\n",
       "    }\n",
       "</style>\n",
       "<table border=\"1\" class=\"dataframe\">\n",
       "  <thead>\n",
       "    <tr style=\"text-align: right;\">\n",
       "      <th></th>\n",
       "      <th>product_id</th>\n",
       "      <th>first_added_count</th>\n",
       "      <th>product_name</th>\n",
       "    </tr>\n",
       "  </thead>\n",
       "  <tbody>\n",
       "    <tr>\n",
       "      <th>0</th>\n",
       "      <td>24852</td>\n",
       "      <td>15562</td>\n",
       "      <td>banana</td>\n",
       "    </tr>\n",
       "    <tr>\n",
       "      <th>1</th>\n",
       "      <td>13176</td>\n",
       "      <td>11026</td>\n",
       "      <td>bag of organic bananas</td>\n",
       "    </tr>\n",
       "    <tr>\n",
       "      <th>2</th>\n",
       "      <td>27845</td>\n",
       "      <td>4363</td>\n",
       "      <td>organic whole milk</td>\n",
       "    </tr>\n",
       "    <tr>\n",
       "      <th>3</th>\n",
       "      <td>21137</td>\n",
       "      <td>3946</td>\n",
       "      <td>organic strawberries</td>\n",
       "    </tr>\n",
       "    <tr>\n",
       "      <th>4</th>\n",
       "      <td>47209</td>\n",
       "      <td>3390</td>\n",
       "      <td>organic hass avocado</td>\n",
       "    </tr>\n",
       "    <tr>\n",
       "      <th>...</th>\n",
       "      <td>...</td>\n",
       "      <td>...</td>\n",
       "      <td>...</td>\n",
       "    </tr>\n",
       "    <tr>\n",
       "      <th>26755</th>\n",
       "      <td>10628</td>\n",
       "      <td>1</td>\n",
       "      <td>instant long grain rice</td>\n",
       "    </tr>\n",
       "    <tr>\n",
       "      <th>26756</th>\n",
       "      <td>8581</td>\n",
       "      <td>1</td>\n",
       "      <td>sesame bagels 5 count</td>\n",
       "    </tr>\n",
       "    <tr>\n",
       "      <th>26757</th>\n",
       "      <td>35216</td>\n",
       "      <td>1</td>\n",
       "      <td>york miniatures dark chocolate covered pepperm...</td>\n",
       "    </tr>\n",
       "    <tr>\n",
       "      <th>26758</th>\n",
       "      <td>43412</td>\n",
       "      <td>1</td>\n",
       "      <td>therapeutic herbal bath</td>\n",
       "    </tr>\n",
       "    <tr>\n",
       "      <th>26759</th>\n",
       "      <td>4094</td>\n",
       "      <td>1</td>\n",
       "      <td>lean gourmet five cheese lasagna</td>\n",
       "    </tr>\n",
       "  </tbody>\n",
       "</table>\n",
       "<p>26760 rows × 3 columns</p>\n",
       "</div>"
      ],
      "text/plain": [
       "       product_id  first_added_count  \\\n",
       "0           24852              15562   \n",
       "1           13176              11026   \n",
       "2           27845               4363   \n",
       "3           21137               3946   \n",
       "4           47209               3390   \n",
       "...           ...                ...   \n",
       "26755       10628                  1   \n",
       "26756        8581                  1   \n",
       "26757       35216                  1   \n",
       "26758       43412                  1   \n",
       "26759        4094                  1   \n",
       "\n",
       "                                            product_name  \n",
       "0                                                 banana  \n",
       "1                                 bag of organic bananas  \n",
       "2                                     organic whole milk  \n",
       "3                                   organic strawberries  \n",
       "4                                   organic hass avocado  \n",
       "...                                                  ...  \n",
       "26755                            instant long grain rice  \n",
       "26756                              sesame bagels 5 count  \n",
       "26757  york miniatures dark chocolate covered pepperm...  \n",
       "26758                            therapeutic herbal bath  \n",
       "26759                   lean gourmet five cheese lasagna  \n",
       "\n",
       "[26760 rows x 3 columns]"
      ]
     },
     "execution_count": 84,
     "metadata": {},
     "output_type": "execute_result"
    }
   ],
   "source": [
    "# Paso 3: Unir con products_df para obtener los nombres de los productos\n",
    "top_first_added = first_added_counts.merge(products_df[['product_id', 'product_name']], on='product_id', how='left')\n",
    "top_first_added"
   ]
  },
  {
   "cell_type": "code",
   "execution_count": 85,
   "id": "08e41ec2",
   "metadata": {
    "id": "08e41ec2"
   },
   "outputs": [
    {
     "name": "stdout",
     "output_type": "stream",
     "text": [
      "Top 20 productos agregados primero al carrito:\n"
     ]
    },
    {
     "data": {
      "text/html": [
       "<div>\n",
       "<style scoped>\n",
       "    .dataframe tbody tr th:only-of-type {\n",
       "        vertical-align: middle;\n",
       "    }\n",
       "\n",
       "    .dataframe tbody tr th {\n",
       "        vertical-align: top;\n",
       "    }\n",
       "\n",
       "    .dataframe thead th {\n",
       "        text-align: right;\n",
       "    }\n",
       "</style>\n",
       "<table border=\"1\" class=\"dataframe\">\n",
       "  <thead>\n",
       "    <tr style=\"text-align: right;\">\n",
       "      <th></th>\n",
       "      <th>product_id</th>\n",
       "      <th>product_name</th>\n",
       "      <th>first_added_count</th>\n",
       "    </tr>\n",
       "  </thead>\n",
       "  <tbody>\n",
       "    <tr>\n",
       "      <th>0</th>\n",
       "      <td>24852</td>\n",
       "      <td>banana</td>\n",
       "      <td>15562</td>\n",
       "    </tr>\n",
       "    <tr>\n",
       "      <th>1</th>\n",
       "      <td>13176</td>\n",
       "      <td>bag of organic bananas</td>\n",
       "      <td>11026</td>\n",
       "    </tr>\n",
       "    <tr>\n",
       "      <th>2</th>\n",
       "      <td>27845</td>\n",
       "      <td>organic whole milk</td>\n",
       "      <td>4363</td>\n",
       "    </tr>\n",
       "    <tr>\n",
       "      <th>3</th>\n",
       "      <td>21137</td>\n",
       "      <td>organic strawberries</td>\n",
       "      <td>3946</td>\n",
       "    </tr>\n",
       "    <tr>\n",
       "      <th>4</th>\n",
       "      <td>47209</td>\n",
       "      <td>organic hass avocado</td>\n",
       "      <td>3390</td>\n",
       "    </tr>\n",
       "    <tr>\n",
       "      <th>5</th>\n",
       "      <td>21903</td>\n",
       "      <td>organic baby spinach</td>\n",
       "      <td>3336</td>\n",
       "    </tr>\n",
       "    <tr>\n",
       "      <th>6</th>\n",
       "      <td>47766</td>\n",
       "      <td>organic avocado</td>\n",
       "      <td>3044</td>\n",
       "    </tr>\n",
       "    <tr>\n",
       "      <th>7</th>\n",
       "      <td>19660</td>\n",
       "      <td>spring water</td>\n",
       "      <td>2336</td>\n",
       "    </tr>\n",
       "    <tr>\n",
       "      <th>8</th>\n",
       "      <td>16797</td>\n",
       "      <td>strawberries</td>\n",
       "      <td>2308</td>\n",
       "    </tr>\n",
       "    <tr>\n",
       "      <th>9</th>\n",
       "      <td>27966</td>\n",
       "      <td>organic raspberries</td>\n",
       "      <td>2024</td>\n",
       "    </tr>\n",
       "    <tr>\n",
       "      <th>10</th>\n",
       "      <td>44632</td>\n",
       "      <td>sparkling water grapefruit</td>\n",
       "      <td>1914</td>\n",
       "    </tr>\n",
       "    <tr>\n",
       "      <th>11</th>\n",
       "      <td>49235</td>\n",
       "      <td>organic half &amp; half</td>\n",
       "      <td>1797</td>\n",
       "    </tr>\n",
       "    <tr>\n",
       "      <th>12</th>\n",
       "      <td>47626</td>\n",
       "      <td>large lemon</td>\n",
       "      <td>1737</td>\n",
       "    </tr>\n",
       "    <tr>\n",
       "      <th>13</th>\n",
       "      <td>196</td>\n",
       "      <td>soda</td>\n",
       "      <td>1733</td>\n",
       "    </tr>\n",
       "    <tr>\n",
       "      <th>14</th>\n",
       "      <td>38689</td>\n",
       "      <td>organic reduced fat milk</td>\n",
       "      <td>1397</td>\n",
       "    </tr>\n",
       "    <tr>\n",
       "      <th>15</th>\n",
       "      <td>26209</td>\n",
       "      <td>limes</td>\n",
       "      <td>1370</td>\n",
       "    </tr>\n",
       "    <tr>\n",
       "      <th>16</th>\n",
       "      <td>12341</td>\n",
       "      <td>hass avocados</td>\n",
       "      <td>1340</td>\n",
       "    </tr>\n",
       "    <tr>\n",
       "      <th>17</th>\n",
       "      <td>5785</td>\n",
       "      <td>organic reduced fat 2% milk</td>\n",
       "      <td>1310</td>\n",
       "    </tr>\n",
       "    <tr>\n",
       "      <th>18</th>\n",
       "      <td>27086</td>\n",
       "      <td>half &amp; half</td>\n",
       "      <td>1309</td>\n",
       "    </tr>\n",
       "    <tr>\n",
       "      <th>19</th>\n",
       "      <td>22935</td>\n",
       "      <td>organic yellow onion</td>\n",
       "      <td>1246</td>\n",
       "    </tr>\n",
       "  </tbody>\n",
       "</table>\n",
       "</div>"
      ],
      "text/plain": [
       "    product_id                 product_name  first_added_count\n",
       "0        24852                       banana              15562\n",
       "1        13176       bag of organic bananas              11026\n",
       "2        27845           organic whole milk               4363\n",
       "3        21137         organic strawberries               3946\n",
       "4        47209         organic hass avocado               3390\n",
       "5        21903         organic baby spinach               3336\n",
       "6        47766              organic avocado               3044\n",
       "7        19660                 spring water               2336\n",
       "8        16797                 strawberries               2308\n",
       "9        27966          organic raspberries               2024\n",
       "10       44632   sparkling water grapefruit               1914\n",
       "11       49235          organic half & half               1797\n",
       "12       47626                  large lemon               1737\n",
       "13         196                         soda               1733\n",
       "14       38689     organic reduced fat milk               1397\n",
       "15       26209                        limes               1370\n",
       "16       12341                hass avocados               1340\n",
       "17        5785  organic reduced fat 2% milk               1310\n",
       "18       27086                  half & half               1309\n",
       "19       22935         organic yellow onion               1246"
      ]
     },
     "execution_count": 85,
     "metadata": {},
     "output_type": "execute_result"
    }
   ],
   "source": [
    "top_20_first_added = top_first_added.head(20)\n",
    "# Mostrar los 20 principales productos\n",
    "print(\"Top 20 productos agregados primero al carrito:\")\n",
    "top_20_first_added[['product_id', 'product_name', 'first_added_count']]"
   ]
  },
  {
   "cell_type": "code",
   "execution_count": 86,
   "id": "e4d05af1-bee0-41ec-b649-9cb62eaa2d24",
   "metadata": {},
   "outputs": [
    {
     "data": {
      "image/png": "[encoded data removed]",
      "text/plain": [
       "<Figure size 900x500 with 1 Axes>"
      ]
     },
     "metadata": {},
     "output_type": "display_data"
    }
   ],
   "source": [
    "# Paso 5: Crear gráfica de barras\n",
    "top_20_first_added.plot(\n",
    "    kind='bar',\n",
    "    x='product_name',\n",
    "    y='first_added_count',\n",
    "    figsize=[9, 5],\n",
    "    color='green',\n",
    "    title='Top 20 Products that were 1st Place in Add to Cart',\n",
    "    xlabel='Product Name',\n",
    "    ylabel='1st Place Add to Cart times',\n",
    "    ylim=[0, top_20_first_added['first_added_count'].max() * 1.1],\n",
    "    legend = False\n",
    ")\n",
    "\n",
    "# Ajustar etiquetas del eje X para legibilidad\n",
    "plt.xticks(rotation=45, ha='right')\n",
    "\n",
    "# Ajustar diseño y mostrar\n",
    "plt.tight_layout()\n",
    "plt.show()\n"
   ]
  },
  {
   "cell_type": "markdown",
   "id": "32c49e8f-83a2-46d1-83eb-b11faa2f0d74",
   "metadata": {},
   "source": [
    "<div class=\"alert alert-block alert-success\">\n",
    "<b>Comentario del revisor</b> <a class=\"tocSkip\"></a>\n",
    "\n",
    "Muy buen desarrollo de la sección. Calculaste de manera perfecta las proporciones"
   ]
  },
  {
   "cell_type": "markdown",
   "id": "28ce9872",
   "metadata": {
    "id": "28ce9872"
   },
   "source": [
    "Escribe aquí tus conclusiones"
   ]
  },
  {
   "cell_type": "markdown",
   "id": "a0294ab9-2211-4416-acd1-0c54e1703f91",
   "metadata": {},
   "source": [
    "<div style=\"color: blue;\">\n",
    "Los 20 productos que las personas colocaron en primer lugar en el carrito, son productos orgánicos como frutas y verduras. De hecho, este patrón coincide con los 20 producto más comprados y recomprados.\n",
    "</div>"
   ]
  },
  {
   "cell_type": "markdown",
   "id": "uITbFCEoDosC",
   "metadata": {
    "id": "uITbFCEoDosC"
   },
   "source": [
    "### Conclusion general del proyecto:"
   ]
  },
  {
   "cell_type": "markdown",
   "id": "ec966355-a14f-414a-bf0b-101b3341ffea",
   "metadata": {
    "id": "Nk-4GS7mDwqY"
   },
   "source": [
    "<div style=\"color: blue; font-size: 125%;\">\n",
    "En este proyecto, se llevaron a cabo tres grandes actividades:\n",
    "    \n",
    "1. Se leyeron los dataframes y se les dió un primer vistazo para entender qué datos almacenaba cada dataframe y empezar a idear como abordar cada uno.\n",
    "2. Se procesaron los datos para \"limpiarlos\", es decir, buscar y elminar filas duplicadas, buscar y eliminar duplicados implícitos, encontrar los valores ausentes y sustituirlos por valores significativos.\n",
    "3. Se analizaron los datos por medio de gráficos, para poder observar el comportamiento de los mismos, de acuerdo con las preguntas que se hicieron con respecto a los mismos.\n",
    "</div>"
   ]
  },
  {
   "cell_type": "code",
   "execution_count": null,
   "id": "e8f76073-febf-462a-bf99-d5c485dfc9c2",
   "metadata": {},
   "outputs": [],
   "source": []
  }
 ],
 "metadata": {
  "colab": {
   "provenance": [
    {
     "file_id": "1aLGZ19-GYem3LZdYHuzuwYIeSw_tr0AT",
     "timestamp": 1689682143157
    }
   ]
  },
  "kernelspec": {
   "display_name": "Python 3 (ipykernel)",
   "language": "python",
   "name": "python3"
  },
  "language_info": {
   "codemirror_mode": {
    "name": "ipython",
    "version": 3
   },
   "file_extension": ".py",
   "mimetype": "text/x-python",
   "name": "python",
   "nbconvert_exporter": "python",
   "pygments_lexer": "ipython3",
   "version": "3.9.23"
  },
  "vscode": {
   "interpreter": {
    "hash": "01a7be9ec63e704a62cefc5fe7a4756944464ee731be31632bdf42a4cb4688cf"
   }
  }
 },
 "nbformat": 4,
 "nbformat_minor": 5
}
